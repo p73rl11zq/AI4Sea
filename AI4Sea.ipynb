{
  "cells": [
    {
      "cell_type": "markdown",
      "metadata": {
        "id": "view-in-github",
        "colab_type": "text"
      },
      "source": [
        "<a href=\"https://colab.research.google.com/github/p73rl11zq/AI4Sea/blob/main/AI4Sea.ipynb\" target=\"_parent\"><img src=\"https://colab.research.google.com/assets/colab-badge.svg\" alt=\"Open In Colab\"/></a>"
      ]
    },
    {
      "cell_type": "code",
      "execution_count": null,
      "metadata": {
        "id": "AYW4YsTMYXcX",
        "colab": {
          "base_uri": "https://localhost:8080/"
        },
        "outputId": "15ebb953-1e45-413e-b8ac-17b00d87944c"
      },
      "outputs": [
        {
          "output_type": "stream",
          "name": "stdout",
          "text": [
            "Looking in indexes: https://pypi.org/simple, https://us-python.pkg.dev/colab-wheels/public/simple/\n",
            "Collecting category_encoders\n",
            "  Downloading category_encoders-2.6.0-py2.py3-none-any.whl (81 kB)\n",
            "\u001b[2K     \u001b[90m━━━━━━━━━━━━━━━━━━━━━━━━━━━━━━━━━━━━━━━━\u001b[0m \u001b[32m81.2/81.2 KB\u001b[0m \u001b[31m1.9 MB/s\u001b[0m eta \u001b[36m0:00:00\u001b[0m\n",
            "\u001b[?25hRequirement already satisfied: scikit-learn>=0.20.0 in /usr/local/lib/python3.8/dist-packages (from category_encoders) (1.0.2)\n",
            "Requirement already satisfied: numpy>=1.14.0 in /usr/local/lib/python3.8/dist-packages (from category_encoders) (1.21.6)\n",
            "Requirement already satisfied: pandas>=1.0.5 in /usr/local/lib/python3.8/dist-packages (from category_encoders) (1.3.5)\n",
            "Requirement already satisfied: scipy>=1.0.0 in /usr/local/lib/python3.8/dist-packages (from category_encoders) (1.7.3)\n",
            "Requirement already satisfied: statsmodels>=0.9.0 in /usr/local/lib/python3.8/dist-packages (from category_encoders) (0.12.2)\n",
            "Requirement already satisfied: patsy>=0.5.1 in /usr/local/lib/python3.8/dist-packages (from category_encoders) (0.5.3)\n",
            "Requirement already satisfied: python-dateutil>=2.7.3 in /usr/local/lib/python3.8/dist-packages (from pandas>=1.0.5->category_encoders) (2.8.2)\n",
            "Requirement already satisfied: pytz>=2017.3 in /usr/local/lib/python3.8/dist-packages (from pandas>=1.0.5->category_encoders) (2022.7.1)\n",
            "Requirement already satisfied: six in /usr/local/lib/python3.8/dist-packages (from patsy>=0.5.1->category_encoders) (1.15.0)\n",
            "Requirement already satisfied: threadpoolctl>=2.0.0 in /usr/local/lib/python3.8/dist-packages (from scikit-learn>=0.20.0->category_encoders) (3.1.0)\n",
            "Requirement already satisfied: joblib>=0.11 in /usr/local/lib/python3.8/dist-packages (from scikit-learn>=0.20.0->category_encoders) (1.2.0)\n",
            "Installing collected packages: category_encoders\n",
            "Successfully installed category_encoders-2.6.0\n"
          ]
        }
      ],
      "source": [
        "import pandas as pd\n",
        "import matplotlib\n",
        "from matplotlib import pyplot as plt\n",
        "import torch\n",
        "import random\n",
        "import numpy as np\n",
        "\n",
        "import sklearn\n",
        "from sklearn.metrics import r2_score\n",
        "from sklearn.ensemble import RandomForestRegressor\n",
        "# matplotlib.rcParams['figure.figsize'] = (8.0, 5.0)\n",
        "\n",
        "!pip install category_encoders\n",
        "from category_encoders.binary import BinaryEncoder;"
      ]
    },
    {
      "cell_type": "code",
      "execution_count": null,
      "metadata": {
        "id": "I_cVHiV1dLhP"
      },
      "outputs": [],
      "source": [
        "seed = 42\n",
        "\n",
        "random.seed(seed)\n",
        "torch.manual_seed(seed)\n",
        "torch.cuda.manual_seed(seed)\n",
        "torch.backends.cudnn.deterministic = True"
      ]
    },
    {
      "cell_type": "markdown",
      "metadata": {
        "id": "FGOtIxm1YMIk"
      },
      "source": [
        "> # **Challenge info**\n",
        "\n"
      ]
    },
    {
      "cell_type": "markdown",
      "metadata": {
        "id": "IK8dwcxrXpnZ"
      },
      "source": [
        "All data about challenge available via the link:\n",
        "https://dsworks.ru/champ/545de8cb-e023-4b64-9be4-b95b9519f8d3#overview"
      ]
    },
    {
      "cell_type": "markdown",
      "metadata": {
        "id": "dr4qUVu6SQWA"
      },
      "source": [
        "> # **Data reading**\n",
        "\n"
      ]
    },
    {
      "cell_type": "code",
      "execution_count": null,
      "metadata": {
        "colab": {
          "base_uri": "https://localhost:8080/"
        },
        "id": "gIep3p6eaCmU",
        "outputId": "45ad23bd-33e9-4b95-fb38-61332b58370b"
      },
      "outputs": [
        {
          "output_type": "stream",
          "name": "stdout",
          "text": [
            "Mounted at /content/drive\n"
          ]
        }
      ],
      "source": [
        "from google.colab import drive\n",
        "drive.mount('/content/drive') # force_remount=True"
      ]
    },
    {
      "cell_type": "code",
      "execution_count": null,
      "metadata": {
        "id": "dO3l1CDXak7i"
      },
      "outputs": [],
      "source": [
        "pollok_df = pd.read_csv('/content/drive/MyDrive/Colab Notebooks/AI4Sea/data/polock_dataset_train.csv', \n",
        "                        parse_dates=['date', 'datetimes'], dayfirst=True) \n",
        "pollok_df = pollok_df.drop(['Unnamed: 0'], axis=1) "
      ]
    },
    {
      "cell_type": "markdown",
      "source": [
        "Filling the missing values (bfill/ffill, interpolation):"
      ],
      "metadata": {
        "id": "4-tvAE8GqoUf"
      }
    },
    {
      "cell_type": "code",
      "execution_count": null,
      "metadata": {
        "id": "Xz3QsA9LyX6f"
      },
      "outputs": [],
      "source": [
        "pollok_df['course'] = pollok_df.groupby('idves')['course'].bfill(limit=1).ffill(limit=1)\n",
        "pollok_df['course'] = pollok_df.groupby('idves')['course'].apply(lambda x: x.interpolate(method='linear'))\n",
        "\n",
        "pollok_df['velocity'].fillna(pollok_df.groupby('idves')['velocity'].transform('median'), inplace = True)\n",
        "\n",
        "df_edit = pollok_df.copy()"
      ]
    },
    {
      "cell_type": "markdown",
      "metadata": {
        "id": "NZSsmxXfD6fF"
      },
      "source": [
        "> # **'Raw' df processing**"
      ]
    },
    {
      "cell_type": "markdown",
      "metadata": {
        "id": "3fVZuqceHblA"
      },
      "source": [
        "## **Datetimes (timestamp)**"
      ]
    },
    {
      "cell_type": "code",
      "execution_count": null,
      "metadata": {
        "id": "Rfk7HG15t2cI"
      },
      "outputs": [],
      "source": [
        "df_edit['year'] = df_edit['datetimes'].dt.year \n",
        "df_edit['month'] = df_edit['datetimes'].dt.month\n",
        "df_edit['day'] = df_edit['datetimes'].dt.day\n",
        "df_edit['hour'] = df_edit['datetimes'].dt.hour\n",
        "df_edit['minute'] = df_edit['datetimes'].dt.minute\n",
        "df_edit['abs_minute'] = df_edit.hour*60 + df_edit.minute"
      ]
    },
    {
      "cell_type": "markdown",
      "metadata": {
        "id": "HDkrBkIvHws2"
      },
      "source": [
        "Extract lenght of every voyage for every ship:"
      ]
    },
    {
      "cell_type": "code",
      "execution_count": null,
      "metadata": {
        "colab": {
          "base_uri": "https://localhost:8080/",
          "height": 143
        },
        "id": "eY5QEQj1HbIf",
        "outputId": "5182afa1-847d-47d3-f92c-1604ba32c352"
      },
      "outputs": [
        {
          "output_type": "execute_result",
          "data": {
            "text/plain": [
              "                                idves       date  count\n",
              "768  cc2b1ba0368ccd98d5bed7e2e97b4bb0 2003-01-29     24\n",
              "361  7463afe23eae7efe3c72737a5d3d693f 2003-02-08     26\n",
              "821  fc84ad56f9f547eb89c72b9bac209312 2003-02-13     28"
            ],
            "text/html": [
              "\n",
              "  <div id=\"df-587bac42-4328-42cc-b0f2-cc29ef531035\">\n",
              "    <div class=\"colab-df-container\">\n",
              "      <div>\n",
              "<style scoped>\n",
              "    .dataframe tbody tr th:only-of-type {\n",
              "        vertical-align: middle;\n",
              "    }\n",
              "\n",
              "    .dataframe tbody tr th {\n",
              "        vertical-align: top;\n",
              "    }\n",
              "\n",
              "    .dataframe thead th {\n",
              "        text-align: right;\n",
              "    }\n",
              "</style>\n",
              "<table border=\"1\" class=\"dataframe\">\n",
              "  <thead>\n",
              "    <tr style=\"text-align: right;\">\n",
              "      <th></th>\n",
              "      <th>idves</th>\n",
              "      <th>date</th>\n",
              "      <th>count</th>\n",
              "    </tr>\n",
              "  </thead>\n",
              "  <tbody>\n",
              "    <tr>\n",
              "      <th>768</th>\n",
              "      <td>cc2b1ba0368ccd98d5bed7e2e97b4bb0</td>\n",
              "      <td>2003-01-29</td>\n",
              "      <td>24</td>\n",
              "    </tr>\n",
              "    <tr>\n",
              "      <th>361</th>\n",
              "      <td>7463afe23eae7efe3c72737a5d3d693f</td>\n",
              "      <td>2003-02-08</td>\n",
              "      <td>26</td>\n",
              "    </tr>\n",
              "    <tr>\n",
              "      <th>821</th>\n",
              "      <td>fc84ad56f9f547eb89c72b9bac209312</td>\n",
              "      <td>2003-02-13</td>\n",
              "      <td>28</td>\n",
              "    </tr>\n",
              "  </tbody>\n",
              "</table>\n",
              "</div>\n",
              "      <button class=\"colab-df-convert\" onclick=\"convertToInteractive('df-587bac42-4328-42cc-b0f2-cc29ef531035')\"\n",
              "              title=\"Convert this dataframe to an interactive table.\"\n",
              "              style=\"display:none;\">\n",
              "        \n",
              "  <svg xmlns=\"http://www.w3.org/2000/svg\" height=\"24px\"viewBox=\"0 0 24 24\"\n",
              "       width=\"24px\">\n",
              "    <path d=\"M0 0h24v24H0V0z\" fill=\"none\"/>\n",
              "    <path d=\"M18.56 5.44l.94 2.06.94-2.06 2.06-.94-2.06-.94-.94-2.06-.94 2.06-2.06.94zm-11 1L8.5 8.5l.94-2.06 2.06-.94-2.06-.94L8.5 2.5l-.94 2.06-2.06.94zm10 10l.94 2.06.94-2.06 2.06-.94-2.06-.94-.94-2.06-.94 2.06-2.06.94z\"/><path d=\"M17.41 7.96l-1.37-1.37c-.4-.4-.92-.59-1.43-.59-.52 0-1.04.2-1.43.59L10.3 9.45l-7.72 7.72c-.78.78-.78 2.05 0 2.83L4 21.41c.39.39.9.59 1.41.59.51 0 1.02-.2 1.41-.59l7.78-7.78 2.81-2.81c.8-.78.8-2.07 0-2.86zM5.41 20L4 18.59l7.72-7.72 1.47 1.35L5.41 20z\"/>\n",
              "  </svg>\n",
              "      </button>\n",
              "      \n",
              "  <style>\n",
              "    .colab-df-container {\n",
              "      display:flex;\n",
              "      flex-wrap:wrap;\n",
              "      gap: 12px;\n",
              "    }\n",
              "\n",
              "    .colab-df-convert {\n",
              "      background-color: #E8F0FE;\n",
              "      border: none;\n",
              "      border-radius: 50%;\n",
              "      cursor: pointer;\n",
              "      display: none;\n",
              "      fill: #1967D2;\n",
              "      height: 32px;\n",
              "      padding: 0 0 0 0;\n",
              "      width: 32px;\n",
              "    }\n",
              "\n",
              "    .colab-df-convert:hover {\n",
              "      background-color: #E2EBFA;\n",
              "      box-shadow: 0px 1px 2px rgba(60, 64, 67, 0.3), 0px 1px 3px 1px rgba(60, 64, 67, 0.15);\n",
              "      fill: #174EA6;\n",
              "    }\n",
              "\n",
              "    [theme=dark] .colab-df-convert {\n",
              "      background-color: #3B4455;\n",
              "      fill: #D2E3FC;\n",
              "    }\n",
              "\n",
              "    [theme=dark] .colab-df-convert:hover {\n",
              "      background-color: #434B5C;\n",
              "      box-shadow: 0px 1px 3px 1px rgba(0, 0, 0, 0.15);\n",
              "      filter: drop-shadow(0px 1px 2px rgba(0, 0, 0, 0.3));\n",
              "      fill: #FFFFFF;\n",
              "    }\n",
              "  </style>\n",
              "\n",
              "      <script>\n",
              "        const buttonEl =\n",
              "          document.querySelector('#df-587bac42-4328-42cc-b0f2-cc29ef531035 button.colab-df-convert');\n",
              "        buttonEl.style.display =\n",
              "          google.colab.kernel.accessAllowed ? 'block' : 'none';\n",
              "\n",
              "        async function convertToInteractive(key) {\n",
              "          const element = document.querySelector('#df-587bac42-4328-42cc-b0f2-cc29ef531035');\n",
              "          const dataTable =\n",
              "            await google.colab.kernel.invokeFunction('convertToInteractive',\n",
              "                                                     [key], {});\n",
              "          if (!dataTable) return;\n",
              "\n",
              "          const docLinkHtml = 'Like what you see? Visit the ' +\n",
              "            '<a target=\"_blank\" href=https://colab.research.google.com/notebooks/data_table.ipynb>data table notebook</a>'\n",
              "            + ' to learn more about interactive tables.';\n",
              "          element.innerHTML = '';\n",
              "          dataTable['output_type'] = 'display_data';\n",
              "          await google.colab.output.renderOutput(dataTable, element);\n",
              "          const docLink = document.createElement('div');\n",
              "          docLink.innerHTML = docLinkHtml;\n",
              "          element.appendChild(docLink);\n",
              "        }\n",
              "      </script>\n",
              "    </div>\n",
              "  </div>\n",
              "  "
            ]
          },
          "metadata": {},
          "execution_count": 86
        }
      ],
      "source": [
        "df1 = pd.DataFrame({'count' : df_edit.groupby([\"idves\", \"date\"]).size()}).reset_index().sort_values(by='date')\n",
        "df1.head(3)"
      ]
    },
    {
      "cell_type": "markdown",
      "metadata": {
        "id": "6cy2PnsLIXzf"
      },
      "source": [
        "Marking all voyages in ascend order:"
      ]
    },
    {
      "cell_type": "code",
      "execution_count": null,
      "metadata": {
        "id": "ymmGgBtXHoYO"
      },
      "outputs": [],
      "source": [
        "df_edit['num_of_voyage'] = 1\n",
        "temp = df_edit['num_of_voyage']"
      ]
    },
    {
      "cell_type": "code",
      "execution_count": null,
      "metadata": {
        "colab": {
          "base_uri": "https://localhost:8080/"
        },
        "id": "NwdwJUiPHoT-",
        "outputId": "6c3e3fb1-1ae4-4651-f459-5ea624be11fa"
      },
      "outputs": [
        {
          "output_type": "stream",
          "name": "stderr",
          "text": [
            "<ipython-input-88-67e57eb22897>:7: SettingWithCopyWarning: \n",
            "A value is trying to be set on a copy of a slice from a DataFrame\n",
            "\n",
            "See the caveats in the documentation: https://pandas.pydata.org/pandas-docs/stable/user_guide/indexing.html#returning-a-view-versus-a-copy\n",
            "  temp[step+i] = voyage\n"
          ]
        }
      ],
      "source": [
        "step = 0\n",
        "voyage = 1\n",
        "\n",
        "for j in df1['count']:\n",
        "    \n",
        "    for i in range(j):\n",
        "        temp[step+i] = voyage\n",
        "\n",
        "    voyage += 1\n",
        "    step += j\n",
        "\n",
        "df_edit['num_of_voyage'] = temp"
      ]
    },
    {
      "cell_type": "markdown",
      "source": [
        "Normalization for date features:"
      ],
      "metadata": {
        "id": "NonJP1N1ei2A"
      }
    },
    {
      "cell_type": "code",
      "execution_count": null,
      "metadata": {
        "id": "0l4001DaMqAe"
      },
      "outputs": [],
      "source": [
        "# Decimal-normalization\n",
        "num_of_voyage = df_edit['num_of_voyage']\n",
        "dec = num_of_voyage.max().round(-3)\n",
        "num_of_voyage = df_edit['num_of_voyage'] / dec"
      ]
    },
    {
      "cell_type": "code",
      "source": [
        "day = df_edit['day']\n",
        "month = df_edit['month']\n",
        "year = df_edit['year']\n",
        "\n",
        "hour = df_edit['hour']\n",
        "minute = df_edit['minute']\n",
        "abs_minute = df_edit['abs_minute']"
      ],
      "metadata": {
        "id": "aj1gFrUUeW5I"
      },
      "execution_count": null,
      "outputs": []
    },
    {
      "cell_type": "code",
      "source": [
        "day = day/day.abs().max()\n",
        "print(day.min(), day.max())\n",
        "\n",
        "month = (month - month.min()) / (month.max() - month.min())\n",
        "print(month.min(), month.max())\n",
        "\n",
        "#year = (year - year.min()) / (year.max() - year.min())\n",
        "year = (year - year.mean()) / year.std()\n",
        "print(year.min(), year.max())"
      ],
      "metadata": {
        "colab": {
          "base_uri": "https://localhost:8080/"
        },
        "id": "Rz7hjpsme0T_",
        "outputId": "525baab9-eb30-418f-f581-a1ac9a304602"
      },
      "execution_count": null,
      "outputs": [
        {
          "output_type": "stream",
          "name": "stdout",
          "text": [
            "0.03225806451612903 1.0\n",
            "0.0 1.0\n",
            "-3.9731325658697565 0.7955639040274688\n"
          ]
        }
      ]
    },
    {
      "cell_type": "code",
      "source": [
        "hour = hour/hour.abs().max()\n",
        "print(hour.min(), hour.max())\n",
        "\n",
        "minute = minute/minute.abs().max()\n",
        "print(minute.min(), minute.max())\n",
        "\n",
        "abs_minute = abs_minute/abs_minute.abs().max()\n",
        "print(abs_minute.min(), abs_minute.max())"
      ],
      "metadata": {
        "colab": {
          "base_uri": "https://localhost:8080/"
        },
        "id": "EBRdmUfgkBG4",
        "outputId": "88b82b81-4b5c-4b75-fab2-f8eb57b0f6a1"
      },
      "execution_count": null,
      "outputs": [
        {
          "output_type": "stream",
          "name": "stdout",
          "text": [
            "0.0 1.0\n",
            "0.0 1.0\n",
            "0.0 1.0\n"
          ]
        }
      ]
    },
    {
      "cell_type": "markdown",
      "metadata": {
        "id": "nK90xHqYd1I7"
      },
      "source": [
        "Scaling apply:"
      ]
    },
    {
      "cell_type": "code",
      "execution_count": null,
      "metadata": {
        "id": "Pk63u-65d07C"
      },
      "outputs": [],
      "source": [
        "df_edit['num_of_voyage'] = num_of_voyage\n",
        "df_edit['day'] = day\n",
        "df_edit['month'] = num_of_voyage\n",
        "df_edit['year'] = year\n",
        "df_edit['hour'] = hour\n",
        "df_edit['minute'] = minute\n",
        "df_edit['abs_minute'] = abs_minute\n",
        "\n",
        "df_edit = df_edit.drop(['date', 'datetimes'], axis=1)"
      ]
    },
    {
      "cell_type": "markdown",
      "metadata": {
        "id": "kEKr86XjILzD"
      },
      "source": [
        "## **Idinf (coordinate source code):**"
      ]
    },
    {
      "cell_type": "code",
      "execution_count": null,
      "metadata": {
        "colab": {
          "base_uri": "https://localhost:8080/",
          "height": 337
        },
        "id": "67O29eJkM6o9",
        "outputId": "9a70303c-a188-43ad-ee12-222bdfe51118"
      },
      "outputs": [
        {
          "output_type": "execute_result",
          "data": {
            "text/plain": [
              "<matplotlib.axes._subplots.AxesSubplot at 0x7f5ac2e568b0>"
            ]
          },
          "metadata": {},
          "execution_count": 161
        },
        {
          "output_type": "display_data",
          "data": {
            "text/plain": [
              "<Figure size 576x360 with 1 Axes>"
            ],
            "image/png": "[encoded data removed]"
          },
          "metadata": {
            "needs_background": "light"
          }
        }
      ],
      "source": [
        "pd.Series(df_edit['idinf']).hist(bins=100, figsize=(8,5))"
      ]
    },
    {
      "cell_type": "markdown",
      "metadata": {
        "id": "Zd-7iy8-YkYy"
      },
      "source": [
        "Maximum absolute scaling apply:"
      ]
    },
    {
      "cell_type": "code",
      "execution_count": null,
      "metadata": {
        "id": "4iZg3zSPaASn",
        "colab": {
          "base_uri": "https://localhost:8080/"
        },
        "outputId": "14057d60-b5d4-4925-95da-261b50ddefb3"
      },
      "outputs": [
        {
          "output_type": "execute_result",
          "data": {
            "text/plain": [
              "(0.0, 1.0)"
            ]
          },
          "metadata": {},
          "execution_count": 94
        }
      ],
      "source": [
        "df_edit['idinf'] = df_edit['idinf'] / df_edit['idinf'].abs().max()\n",
        "df_edit['idinf'].min(), df_edit['idinf'].max()"
      ]
    },
    {
      "cell_type": "markdown",
      "metadata": {
        "id": "4zAlinbYISjC"
      },
      "source": [
        "## **Latitude & longitude (*, decimal)**"
      ]
    },
    {
      "cell_type": "code",
      "execution_count": null,
      "metadata": {
        "colab": {
          "base_uri": "https://localhost:8080/",
          "height": 337
        },
        "id": "AZ2yz3MdL0mo",
        "outputId": "6cfdcd14-24b9-47ed-bd40-882fb1cc6310"
      },
      "outputs": [
        {
          "output_type": "execute_result",
          "data": {
            "text/plain": [
              "<matplotlib.legend.Legend at 0x7fbf117ed130>"
            ]
          },
          "metadata": {},
          "execution_count": 79
        },
        {
          "output_type": "display_data",
          "data": {
            "text/plain": [
              "<Figure size 1008x360 with 2 Axes>"
            ],
            "image/png": "[encoded data removed]"
          },
          "metadata": {
            "needs_background": "light"
          }
        }
      ],
      "source": [
        "plot, axis = plt.subplots(1, 2, figsize=(14,5))\n",
        "\n",
        "axis[0].hist(df_edit['latitude'],bins=100);\n",
        "axis[0].grid(visible=True)\n",
        "\n",
        "axis[1].hist(df_edit['longitude'],bins=100);\n",
        "axis[1].grid(visible=True)\n",
        "\n",
        "axis[0].legend(['latitude'], loc='upper left')\n",
        "axis[1].legend(['longitude'], loc='upper left')"
      ]
    },
    {
      "cell_type": "markdown",
      "metadata": {
        "id": "cxpu0AfqMT3A"
      },
      "source": [
        "Min-max normalization apply:"
      ]
    },
    {
      "cell_type": "code",
      "execution_count": null,
      "metadata": {
        "id": "qYcuNO_xaGzd"
      },
      "outputs": [],
      "source": [
        "# df_edit['latitude'] = (df_edit['latitude'] - df_edit['latitude'].min()) / (df_edit['latitude'].max() - df_edit['latitude'].min())\n",
        "# df_edit['longitude'] = (df_edit['longitude'] - df_edit['longitude'].min()) / (df_edit['longitude'].max() - df_edit['longitude'].min())\n",
        "\n",
        "df_edit['latitude'] = (df_edit['latitude'] - df_edit['latitude'].mean()) / df_edit['latitude'].std()\n",
        "df_edit['longitude'] = (df_edit['longitude'] - df_edit['longitude'].mean()) / df_edit['longitude'].std()"
      ]
    },
    {
      "cell_type": "markdown",
      "metadata": {
        "id": "FNPPKqeFIc_L"
      },
      "source": [
        "## **Region (fishing subzone, categorical):**"
      ]
    },
    {
      "cell_type": "code",
      "execution_count": null,
      "metadata": {
        "colab": {
          "base_uri": "https://localhost:8080/"
        },
        "id": "HKuuuz8weEnE",
        "outputId": "5280bd5a-9b21-4895-f883-f892991d7497"
      },
      "outputs": [
        {
          "output_type": "execute_result",
          "data": {
            "text/plain": [
              "array([274, 273, 272, 275])"
            ]
          },
          "metadata": {},
          "execution_count": 12
        }
      ],
      "source": [
        "df_edit.region.unique()"
      ]
    },
    {
      "cell_type": "code",
      "source": [
        "pd.Series(df_edit['region']).hist(bins=10, figsize=(8,5))"
      ],
      "metadata": {
        "colab": {
          "base_uri": "https://localhost:8080/",
          "height": 337
        },
        "id": "wbwjE1MPo6x8",
        "outputId": "1e74348b-4be7-47c0-b74f-3c49b83ef324"
      },
      "execution_count": null,
      "outputs": [
        {
          "output_type": "execute_result",
          "data": {
            "text/plain": [
              "<matplotlib.axes._subplots.AxesSubplot at 0x7fd2bba678e0>"
            ]
          },
          "metadata": {},
          "execution_count": 13
        },
        {
          "output_type": "display_data",
          "data": {
            "text/plain": [
              "<Figure size 576x360 with 1 Axes>"
            ],
            "image/png": "[encoded data removed]"
          },
          "metadata": {
            "needs_background": "light"
          }
        }
      ]
    },
    {
      "cell_type": "markdown",
      "source": [
        "One-hot encoding apply:"
      ],
      "metadata": {
        "id": "RErxyX0Ic7Zg"
      }
    },
    {
      "cell_type": "code",
      "source": [
        "df_edit['region'] = (df_edit['region'] - df_edit['region'].mean()) / df_edit['region'].std()"
      ],
      "metadata": {
        "id": "-iHcVsEFs4VE"
      },
      "execution_count": null,
      "outputs": []
    },
    {
      "cell_type": "code",
      "execution_count": null,
      "metadata": {
        "id": "Vk33WSBzIchS"
      },
      "outputs": [],
      "source": [
        "# df_edit = pd.get_dummies(df_edit, columns=['region'], dtype=float)"
      ]
    },
    {
      "cell_type": "markdown",
      "metadata": {
        "id": "dmAuMjJ_FuZr"
      },
      "source": [
        "## **Course (*, degs):**"
      ]
    },
    {
      "cell_type": "code",
      "execution_count": null,
      "metadata": {
        "colab": {
          "base_uri": "https://localhost:8080/",
          "height": 337
        },
        "id": "DbiWALZUF-6t",
        "outputId": "6819f5b2-d499-4546-fbf9-3ad4d597741b"
      },
      "outputs": [
        {
          "output_type": "execute_result",
          "data": {
            "text/plain": [
              "<matplotlib.axes._subplots.AxesSubplot at 0x7fbf117c2b20>"
            ]
          },
          "metadata": {},
          "execution_count": 98
        },
        {
          "output_type": "display_data",
          "data": {
            "text/plain": [
              "<Figure size 576x360 with 1 Axes>"
            ],
            "image/png": "[encoded data removed]"
          },
          "metadata": {
            "needs_background": "light"
          }
        }
      ],
      "source": [
        "pd.Series(df_edit['course']).hist(bins=100, figsize=(8,5))"
      ]
    },
    {
      "cell_type": "code",
      "source": [
        "# z-norm\n",
        "# df_edit['course'] =  (df_edit['course'] - df_edit['course'].mean()) / df_edit['course'].std()"
      ],
      "metadata": {
        "id": "MvfRFYsbSSu9"
      },
      "execution_count": null,
      "outputs": []
    },
    {
      "cell_type": "code",
      "source": [
        "# abs max scaling\n",
        "df_edit['course'] =  df_edit['course'] /  df_edit['course'].abs().max()"
      ],
      "metadata": {
        "id": "5eNVVlYqEnFm"
      },
      "execution_count": null,
      "outputs": []
    },
    {
      "cell_type": "markdown",
      "metadata": {
        "id": "KzRsgHEIIn3y"
      },
      "source": [
        "## **Velocity:**"
      ]
    },
    {
      "cell_type": "code",
      "source": [
        "print('(velocity > 12):', df_edit[df_edit.velocity > 12].shape[0])"
      ],
      "metadata": {
        "colab": {
          "base_uri": "https://localhost:8080/"
        },
        "id": "-bM1Bu-6eMDm",
        "outputId": "383ad7f8-8994-4e6c-dbf2-1ae355cd3877"
      },
      "execution_count": null,
      "outputs": [
        {
          "output_type": "stream",
          "name": "stdout",
          "text": [
            "(velocity > 12): 481\n"
          ]
        }
      ]
    },
    {
      "cell_type": "code",
      "source": [
        "df_edit = df_edit[df_edit.velocity < 12]\n",
        "df_edit.shape"
      ],
      "metadata": {
        "colab": {
          "base_uri": "https://localhost:8080/"
        },
        "id": "ZNt8VbZhea-V",
        "outputId": "2ceff8ba-a78b-4c54-bcb8-062f49dd058e"
      },
      "execution_count": null,
      "outputs": [
        {
          "output_type": "execute_result",
          "data": {
            "text/plain": [
              "(72894, 19)"
            ]
          },
          "metadata": {},
          "execution_count": 8
        }
      ]
    },
    {
      "cell_type": "code",
      "execution_count": null,
      "metadata": {
        "colab": {
          "base_uri": "https://localhost:8080/",
          "height": 337
        },
        "id": "_8yFm4etInbE",
        "outputId": "fc1f0acc-d69c-4e62-83c0-8f5a0cd4d7c0"
      },
      "outputs": [
        {
          "output_type": "execute_result",
          "data": {
            "text/plain": [
              "<matplotlib.axes._subplots.AxesSubplot at 0x7fd2bc138e50>"
            ]
          },
          "metadata": {},
          "execution_count": 11
        },
        {
          "output_type": "display_data",
          "data": {
            "text/plain": [
              "<Figure size 576x360 with 1 Axes>"
            ],
            "image/png": "[encoded data removed]"
          },
          "metadata": {
            "needs_background": "light"
          }
        }
      ],
      "source": [
        "pd.Series(df_edit['velocity']).hist(bins=100, figsize=(8,5))"
      ]
    },
    {
      "cell_type": "markdown",
      "metadata": {
        "id": "XNSHXyVabxLc"
      },
      "source": [
        "Normalization apply:"
      ]
    },
    {
      "cell_type": "code",
      "source": [
        "# z-norm\n",
        "#df_edit['velocity'] =  (df_edit['velocity'] - df_edit['velocity'].mean()) / df_edit['velocity'].std()"
      ],
      "metadata": {
        "id": "cHByL8nQTDym"
      },
      "execution_count": null,
      "outputs": []
    },
    {
      "cell_type": "code",
      "execution_count": null,
      "metadata": {
        "id": "hjtnhBb9Ffo_"
      },
      "outputs": [],
      "source": [
        "# abs max scaling\n",
        "df_edit['velocity'] = df_edit['velocity'] / df_edit['velocity'].abs().max()"
      ]
    },
    {
      "cell_type": "markdown",
      "metadata": {
        "id": "pPfKsc9JI1XL"
      },
      "source": [
        "## **Total ton ():**"
      ]
    },
    {
      "cell_type": "code",
      "source": [
        "print('(total_ton > 400):', df_edit[df_edit.total_ton > 400].shape[0])"
      ],
      "metadata": {
        "colab": {
          "base_uri": "https://localhost:8080/"
        },
        "id": "90308n63Laoo",
        "outputId": "054b9f03-27b2-46bd-e4d4-7871caff99d1"
      },
      "execution_count": null,
      "outputs": [
        {
          "output_type": "stream",
          "name": "stdout",
          "text": [
            "(total_ton > 400): 1495\n"
          ]
        }
      ]
    },
    {
      "cell_type": "code",
      "source": [
        "df_edit = pd.DataFrame(data=df_edit[df_edit.total_ton < 400].values, columns=df_edit.columns)\n",
        "df_edit.shape"
      ],
      "metadata": {
        "colab": {
          "base_uri": "https://localhost:8080/"
        },
        "id": "twl-N6-RLRXa",
        "outputId": "28ef8f45-f875-43b9-c95d-f2031a22a363"
      },
      "execution_count": null,
      "outputs": [
        {
          "output_type": "execute_result",
          "data": {
            "text/plain": [
              "(71263, 18)"
            ]
          },
          "metadata": {},
          "execution_count": 101
        }
      ]
    },
    {
      "cell_type": "code",
      "execution_count": null,
      "metadata": {
        "colab": {
          "base_uri": "https://localhost:8080/",
          "height": 337
        },
        "id": "hcNow5x5DVvU",
        "outputId": "432bca57-eee5-4007-b067-670c86044d3c"
      },
      "outputs": [
        {
          "output_type": "execute_result",
          "data": {
            "text/plain": [
              "<matplotlib.axes._subplots.AxesSubplot at 0x7fbf114d6d60>"
            ]
          },
          "metadata": {},
          "execution_count": 103
        },
        {
          "output_type": "display_data",
          "data": {
            "text/plain": [
              "<Figure size 576x360 with 1 Axes>"
            ],
            "image/png": "[encoded data removed]"
          },
          "metadata": {
            "needs_background": "light"
          }
        }
      ],
      "source": [
        "df_edit['total_ton'].hist(bins=100, figsize=(8,5))"
      ]
    },
    {
      "cell_type": "markdown",
      "metadata": {
        "id": "xWzip67Skr_B"
      },
      "source": [
        "Maximum absolute scaling apply:"
      ]
    },
    {
      "cell_type": "code",
      "source": [
        "# df_edit['total_ton'] = (df_edit['total_ton'] - df_edit['total_ton'].mean())/ df_edit['total_ton'].std()\n",
        "# df_edit['total_ton'].min(), df_edit['total_ton'].max()"
      ],
      "metadata": {
        "colab": {
          "base_uri": "https://localhost:8080/"
        },
        "id": "GMaC8yLqt0tN",
        "outputId": "78f05a8c-a423-4373-e439-c296b5fe9f68"
      },
      "execution_count": null,
      "outputs": [
        {
          "output_type": "execute_result",
          "data": {
            "text/plain": [
              "(-1.1555987578085647, 3.4039690364711057)"
            ]
          },
          "metadata": {},
          "execution_count": 51
        }
      ]
    },
    {
      "cell_type": "code",
      "source": [
        "df_edit['total_ton'] = df_edit['total_ton'] / df_edit['total_ton'].abs().max()\n",
        "df_edit['total_ton'].min(), df_edit['total_ton'].max()"
      ],
      "metadata": {
        "id": "LaN-NNlbPe9g",
        "colab": {
          "base_uri": "https://localhost:8080/"
        },
        "outputId": "3fb92fc7-44f0-4156-c3b0-69aa479f80b9"
      },
      "execution_count": null,
      "outputs": [
        {
          "output_type": "execute_result",
          "data": {
            "text/plain": [
              "(0.0, 1.0)"
            ]
          },
          "metadata": {},
          "execution_count": 102
        }
      ]
    },
    {
      "cell_type": "markdown",
      "metadata": {
        "id": "2NSzbDiO0EKq"
      },
      "source": [
        "## **Idves (ship code) & trawl (fishing gear):**"
      ]
    },
    {
      "cell_type": "markdown",
      "metadata": {
        "id": "U4RV3_ecEQBH"
      },
      "source": [
        "Standartization:"
      ]
    },
    {
      "cell_type": "code",
      "execution_count": null,
      "metadata": {
        "id": "dNOXRQ5cbvK0"
      },
      "outputs": [],
      "source": [
        "df_binary_idves = BinaryEncoder().fit_transform(df_edit['idves'], dtype=float)\n",
        "df_binary_idves.columns = ([f'i{i}' for i in range(len(df_binary_idves.columns))])\n",
        "\n",
        "df_binary_trawl = BinaryEncoder().fit_transform(df_edit['trawl'], dtype=float)\n",
        "df_binary_trawl.columns = ([f't{i}' for i in range(len(df_binary_trawl.columns))])"
      ]
    },
    {
      "cell_type": "code",
      "execution_count": null,
      "metadata": {
        "id": "n2W1yQ7Kkyyc"
      },
      "outputs": [],
      "source": [
        "df_binary_idves[df_edit.columns] = df_edit\n",
        "df_binary_idves[df_binary_trawl.columns] = df_binary_trawl\n",
        "df_edit = df_binary_idves\n",
        "df_edit = df_edit.drop(columns=['idves', 'trawl'])"
      ]
    },
    {
      "cell_type": "markdown",
      "source": [
        "\n",
        "\n",
        "> # **Save processed dataset**\n",
        "\n"
      ],
      "metadata": {
        "id": "ymArqGu0q67m"
      }
    },
    {
      "cell_type": "code",
      "source": [
        "pollok_df = df_edit"
      ],
      "metadata": {
        "id": "6h50h2wQrCQw"
      },
      "execution_count": null,
      "outputs": []
    },
    {
      "cell_type": "code",
      "source": [
        "normalized_df = pollok_df.to_csv('/content/drive/MyDrive/Colab Notebooks/AI4Sea/data/normalized_df.csv')"
      ],
      "metadata": {
        "id": "Wnls9kThoWEG"
      },
      "execution_count": null,
      "outputs": []
    },
    {
      "cell_type": "markdown",
      "metadata": {
        "id": "1q9MDNKPOiL2"
      },
      "source": [
        "\n",
        "\n",
        "> # **Models construct**\n",
        "\n"
      ]
    },
    {
      "cell_type": "markdown",
      "metadata": {
        "id": "Cohec7HQSESS"
      },
      "source": [
        "## Keras"
      ]
    },
    {
      "cell_type": "code",
      "execution_count": null,
      "metadata": {
        "id": "lIViToZQQdGY"
      },
      "outputs": [],
      "source": [
        "import tensorflow as tf\n",
        "from tensorflow import keras\n",
        "from keras.callbacks import LambdaCallback\n",
        "from keras import layers\n",
        "from keras import activations\n",
        "from keras import optimizers"
      ]
    },
    {
      "cell_type": "markdown",
      "metadata": {
        "id": "voSYqNz9q2eU"
      },
      "source": [
        "Array-like samples form:"
      ]
    },
    {
      "cell_type": "code",
      "source": [
        "pip install eco2ai"
      ],
      "metadata": {
        "id": "G4reWb3pU8zy"
      },
      "execution_count": null,
      "outputs": []
    },
    {
      "cell_type": "code",
      "source": [
        "from google.colab import drive\n",
        "drive.mount('/content/drive') # force_remount=True"
      ],
      "metadata": {
        "colab": {
          "base_uri": "https://localhost:8080/"
        },
        "id": "HSwO1zzHQq0I",
        "outputId": "95cc1a39-c55e-4803-cf18-8aa0805efc48"
      },
      "execution_count": null,
      "outputs": [
        {
          "output_type": "stream",
          "name": "stdout",
          "text": [
            "Mounted at /content/drive\n"
          ]
        }
      ]
    },
    {
      "cell_type": "code",
      "source": [
        "processed_df = pd.read_csv('/content/drive/MyDrive/Colab Notebooks/AI4Sea/data/normalized_df.csv')\n",
        "processed_df = processed_df.drop(['Unnamed: 0'], axis=1) \n",
        "pollok_df = pd.DataFrame(data=processed_df.values.astype(np.float32), columns=processed_df.columns)"
      ],
      "metadata": {
        "id": "Kpmi_jVKQtmk"
      },
      "execution_count": null,
      "outputs": []
    },
    {
      "cell_type": "code",
      "source": [
        "pollok_df"
      ],
      "metadata": {
        "id": "gCkDXwQeSA6x"
      },
      "execution_count": null,
      "outputs": []
    },
    {
      "cell_type": "code",
      "source": [
        "train_df = pollok_df.sample(frac=0.9, random_state=seed)\n",
        "test_df = pollok_df[~pollok_df.index.isin(train_df.index)]"
      ],
      "metadata": {
        "id": "vohUSXQLTGVV"
      },
      "execution_count": null,
      "outputs": []
    },
    {
      "cell_type": "code",
      "execution_count": null,
      "metadata": {
        "colab": {
          "base_uri": "https://localhost:8080/"
        },
        "id": "nO9JAF4Bq178",
        "outputId": "a4b49498-05ff-425e-8603-835e75fd92b4"
      },
      "outputs": [
        {
          "output_type": "stream",
          "name": "stdout",
          "text": [
            "(63680, 30) (63680,)\n",
            "(7075, 30) (7075,)\n"
          ]
        }
      ],
      "source": [
        "x_train = np.array((train_df.drop(['ton'], axis=1).values))\n",
        "y_train = np.array(train_df['ton'].values)\n",
        "\n",
        "x_test = np.array((test_df.drop(['ton'], axis=1).values), )\n",
        "y_test = np.array(test_df['ton'].values)\n",
        "\n",
        "print(x_train.shape, y_train.shape) \n",
        "print(x_test.shape, y_test.shape)"
      ]
    },
    {
      "cell_type": "markdown",
      "metadata": {
        "id": "VqlARRtdq7YL"
      },
      "source": [
        "Model:"
      ]
    },
    {
      "cell_type": "code",
      "execution_count": null,
      "metadata": {
        "colab": {
          "base_uri": "https://localhost:8080/"
        },
        "id": "t22AHdCazOYM",
        "outputId": "f4963636-9091-4f78-e2fe-7d3980e0c9ac"
      },
      "outputs": [
        {
          "output_type": "stream",
          "name": "stdout",
          "text": [
            "Epoch 1/150\n",
            "120/120 [==============================] - 2s 8ms/step - loss: 16.5130 - root_mean_squared_error: 4.0636 - val_loss: 26.1324 - val_root_mean_squared_error: 5.1120\n",
            "Epoch 2/150\n",
            "120/120 [==============================] - 1s 5ms/step - loss: 15.7813 - root_mean_squared_error: 3.9726 - val_loss: 25.9097 - val_root_mean_squared_error: 5.0902\n",
            "Epoch 3/150\n",
            "120/120 [==============================] - 1s 4ms/step - loss: 15.6309 - root_mean_squared_error: 3.9536 - val_loss: 25.7747 - val_root_mean_squared_error: 5.0769\n",
            "Epoch 4/150\n",
            "120/120 [==============================] - 0s 3ms/step - loss: 15.5358 - root_mean_squared_error: 3.9415 - val_loss: 25.7010 - val_root_mean_squared_error: 5.0696\n",
            "Epoch 5/150\n",
            "120/120 [==============================] - 0s 4ms/step - loss: 15.4778 - root_mean_squared_error: 3.9342 - val_loss: 25.5967 - val_root_mean_squared_error: 5.0593\n",
            "Epoch 6/150\n",
            "120/120 [==============================] - 0s 3ms/step - loss: 15.4374 - root_mean_squared_error: 3.9290 - val_loss: 25.5627 - val_root_mean_squared_error: 5.0560\n",
            "Epoch 7/150\n",
            "120/120 [==============================] - 0s 3ms/step - loss: 15.4023 - root_mean_squared_error: 3.9246 - val_loss: 25.4983 - val_root_mean_squared_error: 5.0496\n",
            "Epoch 8/150\n",
            "120/120 [==============================] - 1s 5ms/step - loss: 15.3718 - root_mean_squared_error: 3.9207 - val_loss: 25.4430 - val_root_mean_squared_error: 5.0441\n",
            "Epoch 9/150\n",
            "120/120 [==============================] - 1s 5ms/step - loss: 15.3402 - root_mean_squared_error: 3.9167 - val_loss: 25.3799 - val_root_mean_squared_error: 5.0378\n",
            "Epoch 10/150\n",
            "120/120 [==============================] - 0s 4ms/step - loss: 15.3148 - root_mean_squared_error: 3.9134 - val_loss: 25.3384 - val_root_mean_squared_error: 5.0337\n",
            "Epoch 11/150\n",
            "120/120 [==============================] - 0s 4ms/step - loss: 15.2917 - root_mean_squared_error: 3.9105 - val_loss: 25.3253 - val_root_mean_squared_error: 5.0324\n",
            "Epoch 12/150\n",
            "120/120 [==============================] - 0s 4ms/step - loss: 15.2711 - root_mean_squared_error: 3.9078 - val_loss: 25.2899 - val_root_mean_squared_error: 5.0289\n",
            "Epoch 13/150\n",
            "120/120 [==============================] - 0s 4ms/step - loss: 15.2547 - root_mean_squared_error: 3.9057 - val_loss: 25.2507 - val_root_mean_squared_error: 5.0250\n",
            "Epoch 14/150\n",
            "120/120 [==============================] - 0s 4ms/step - loss: 15.2264 - root_mean_squared_error: 3.9021 - val_loss: 25.1975 - val_root_mean_squared_error: 5.0197\n",
            "Epoch 15/150\n",
            "120/120 [==============================] - 0s 4ms/step - loss: 15.2005 - root_mean_squared_error: 3.8988 - val_loss: 25.1176 - val_root_mean_squared_error: 5.0117\n",
            "Epoch 16/150\n",
            "120/120 [==============================] - 1s 4ms/step - loss: 15.1742 - root_mean_squared_error: 3.8954 - val_loss: 25.0748 - val_root_mean_squared_error: 5.0075\n",
            "Epoch 17/150\n",
            "120/120 [==============================] - 1s 4ms/step - loss: 15.1516 - root_mean_squared_error: 3.8925 - val_loss: 25.0488 - val_root_mean_squared_error: 5.0049\n",
            "Epoch 18/150\n",
            "120/120 [==============================] - 1s 5ms/step - loss: 15.1375 - root_mean_squared_error: 3.8907 - val_loss: 25.0315 - val_root_mean_squared_error: 5.0031\n",
            "Epoch 19/150\n",
            "120/120 [==============================] - 1s 5ms/step - loss: 15.1169 - root_mean_squared_error: 3.8880 - val_loss: 25.0048 - val_root_mean_squared_error: 5.0005\n",
            "Epoch 20/150\n",
            "120/120 [==============================] - 0s 4ms/step - loss: 15.1021 - root_mean_squared_error: 3.8861 - val_loss: 24.9830 - val_root_mean_squared_error: 4.9983\n",
            "Epoch 21/150\n",
            "120/120 [==============================] - 0s 4ms/step - loss: 15.0865 - root_mean_squared_error: 3.8841 - val_loss: 24.9702 - val_root_mean_squared_error: 4.9970\n",
            "Epoch 22/150\n",
            "120/120 [==============================] - 0s 4ms/step - loss: 15.0675 - root_mean_squared_error: 3.8817 - val_loss: 24.9736 - val_root_mean_squared_error: 4.9974\n",
            "Epoch 23/150\n",
            "120/120 [==============================] - 0s 3ms/step - loss: 15.0517 - root_mean_squared_error: 3.8797 - val_loss: 24.8921 - val_root_mean_squared_error: 4.9892\n",
            "Epoch 24/150\n",
            "120/120 [==============================] - 0s 4ms/step - loss: 15.0300 - root_mean_squared_error: 3.8769 - val_loss: 24.8653 - val_root_mean_squared_error: 4.9865\n",
            "Epoch 25/150\n",
            "120/120 [==============================] - 0s 3ms/step - loss: 15.0163 - root_mean_squared_error: 3.8751 - val_loss: 24.8616 - val_root_mean_squared_error: 4.9861\n",
            "Epoch 26/150\n",
            "120/120 [==============================] - 0s 4ms/step - loss: 15.0020 - root_mean_squared_error: 3.8732 - val_loss: 24.8807 - val_root_mean_squared_error: 4.9881\n",
            "Epoch 27/150\n",
            "120/120 [==============================] - 1s 6ms/step - loss: 14.9901 - root_mean_squared_error: 3.8717 - val_loss: 24.8164 - val_root_mean_squared_error: 4.9816\n",
            "Epoch 28/150\n",
            "120/120 [==============================] - 1s 6ms/step - loss: 14.9767 - root_mean_squared_error: 3.8700 - val_loss: 24.8545 - val_root_mean_squared_error: 4.9854\n",
            "Epoch 29/150\n",
            "120/120 [==============================] - 1s 6ms/step - loss: 14.9594 - root_mean_squared_error: 3.8677 - val_loss: 24.8293 - val_root_mean_squared_error: 4.9829\n",
            "Epoch 30/150\n",
            "120/120 [==============================] - 0s 4ms/step - loss: 14.9444 - root_mean_squared_error: 3.8658 - val_loss: 24.7604 - val_root_mean_squared_error: 4.9760\n",
            "Epoch 31/150\n",
            "120/120 [==============================] - 0s 3ms/step - loss: 14.9254 - root_mean_squared_error: 3.8633 - val_loss: 24.7727 - val_root_mean_squared_error: 4.9772\n",
            "Epoch 32/150\n",
            "120/120 [==============================] - 0s 4ms/step - loss: 14.9079 - root_mean_squared_error: 3.8611 - val_loss: 24.6904 - val_root_mean_squared_error: 4.9689\n",
            "Epoch 33/150\n",
            "120/120 [==============================] - 0s 3ms/step - loss: 14.8936 - root_mean_squared_error: 3.8592 - val_loss: 24.6992 - val_root_mean_squared_error: 4.9698\n",
            "Epoch 34/150\n",
            "120/120 [==============================] - 0s 4ms/step - loss: 14.8838 - root_mean_squared_error: 3.8580 - val_loss: 24.6871 - val_root_mean_squared_error: 4.9686\n",
            "Epoch 35/150\n",
            "120/120 [==============================] - 1s 5ms/step - loss: 14.8754 - root_mean_squared_error: 3.8569 - val_loss: 24.6775 - val_root_mean_squared_error: 4.9676\n",
            "Epoch 36/150\n",
            "120/120 [==============================] - 1s 5ms/step - loss: 14.8694 - root_mean_squared_error: 3.8561 - val_loss: 24.6622 - val_root_mean_squared_error: 4.9661\n",
            "Epoch 37/150\n",
            "120/120 [==============================] - 1s 5ms/step - loss: 14.8607 - root_mean_squared_error: 3.8550 - val_loss: 24.6244 - val_root_mean_squared_error: 4.9623\n",
            "Epoch 38/150\n",
            "120/120 [==============================] - 0s 3ms/step - loss: 14.8533 - root_mean_squared_error: 3.8540 - val_loss: 24.6208 - val_root_mean_squared_error: 4.9619\n",
            "Epoch 39/150\n",
            "120/120 [==============================] - 0s 3ms/step - loss: 14.8447 - root_mean_squared_error: 3.8529 - val_loss: 24.6229 - val_root_mean_squared_error: 4.9621\n",
            "Epoch 40/150\n",
            "120/120 [==============================] - 0s 3ms/step - loss: 14.8361 - root_mean_squared_error: 3.8518 - val_loss: 24.5887 - val_root_mean_squared_error: 4.9587\n",
            "Epoch 41/150\n",
            "120/120 [==============================] - 0s 4ms/step - loss: 14.8260 - root_mean_squared_error: 3.8505 - val_loss: 24.5601 - val_root_mean_squared_error: 4.9558\n",
            "Epoch 42/150\n",
            "120/120 [==============================] - 0s 4ms/step - loss: 14.8179 - root_mean_squared_error: 3.8494 - val_loss: 24.5615 - val_root_mean_squared_error: 4.9560\n",
            "Epoch 43/150\n",
            "120/120 [==============================] - 1s 5ms/step - loss: 14.8089 - root_mean_squared_error: 3.8482 - val_loss: 24.5574 - val_root_mean_squared_error: 4.9555\n",
            "Epoch 44/150\n",
            "120/120 [==============================] - 1s 5ms/step - loss: 14.8004 - root_mean_squared_error: 3.8471 - val_loss: 24.5081 - val_root_mean_squared_error: 4.9506\n",
            "Epoch 45/150\n",
            "120/120 [==============================] - 1s 5ms/step - loss: 14.7904 - root_mean_squared_error: 3.8458 - val_loss: 24.5461 - val_root_mean_squared_error: 4.9544\n",
            "Epoch 46/150\n",
            "120/120 [==============================] - 1s 5ms/step - loss: 14.7826 - root_mean_squared_error: 3.8448 - val_loss: 24.5026 - val_root_mean_squared_error: 4.9500\n",
            "Epoch 47/150\n",
            "120/120 [==============================] - 1s 5ms/step - loss: 14.7729 - root_mean_squared_error: 3.8436 - val_loss: 24.4980 - val_root_mean_squared_error: 4.9495\n",
            "Epoch 48/150\n",
            "120/120 [==============================] - 1s 5ms/step - loss: 14.7629 - root_mean_squared_error: 3.8422 - val_loss: 24.4775 - val_root_mean_squared_error: 4.9475\n",
            "Epoch 49/150\n",
            "120/120 [==============================] - 1s 5ms/step - loss: 14.7531 - root_mean_squared_error: 3.8410 - val_loss: 24.4613 - val_root_mean_squared_error: 4.9458\n",
            "Epoch 50/150\n",
            "120/120 [==============================] - 1s 5ms/step - loss: 14.7436 - root_mean_squared_error: 3.8397 - val_loss: 24.4760 - val_root_mean_squared_error: 4.9473\n",
            "Epoch 51/150\n",
            "120/120 [==============================] - 1s 4ms/step - loss: 14.7327 - root_mean_squared_error: 3.8383 - val_loss: 24.4454 - val_root_mean_squared_error: 4.9442\n",
            "Epoch 52/150\n",
            "120/120 [==============================] - 1s 5ms/step - loss: 14.7187 - root_mean_squared_error: 3.8365 - val_loss: 24.4254 - val_root_mean_squared_error: 4.9422\n",
            "Epoch 53/150\n",
            "120/120 [==============================] - 1s 4ms/step - loss: 14.7097 - root_mean_squared_error: 3.8353 - val_loss: 24.3696 - val_root_mean_squared_error: 4.9366\n",
            "Epoch 54/150\n",
            "120/120 [==============================] - 1s 5ms/step - loss: 14.6939 - root_mean_squared_error: 3.8333 - val_loss: 24.4193 - val_root_mean_squared_error: 4.9416\n",
            "Epoch 55/150\n",
            "120/120 [==============================] - 1s 4ms/step - loss: 14.6817 - root_mean_squared_error: 3.8317 - val_loss: 24.2641 - val_root_mean_squared_error: 4.9259\n",
            "Epoch 56/150\n",
            "120/120 [==============================] - 1s 4ms/step - loss: 14.6657 - root_mean_squared_error: 3.8296 - val_loss: 24.2233 - val_root_mean_squared_error: 4.9217\n",
            "Epoch 57/150\n",
            "120/120 [==============================] - 0s 4ms/step - loss: 14.6628 - root_mean_squared_error: 3.8292 - val_loss: 24.2780 - val_root_mean_squared_error: 4.9273\n",
            "Epoch 58/150\n",
            "120/120 [==============================] - 0s 4ms/step - loss: 14.6419 - root_mean_squared_error: 3.8265 - val_loss: 24.2108 - val_root_mean_squared_error: 4.9204\n",
            "Epoch 59/150\n",
            "120/120 [==============================] - 0s 3ms/step - loss: 14.6418 - root_mean_squared_error: 3.8265 - val_loss: 24.1420 - val_root_mean_squared_error: 4.9134\n",
            "Epoch 60/150\n",
            "120/120 [==============================] - 0s 4ms/step - loss: 14.6187 - root_mean_squared_error: 3.8234 - val_loss: 24.1975 - val_root_mean_squared_error: 4.9191\n",
            "Epoch 61/150\n",
            "120/120 [==============================] - 0s 4ms/step - loss: 14.5944 - root_mean_squared_error: 3.8203 - val_loss: 24.2087 - val_root_mean_squared_error: 4.9202\n",
            "Epoch 62/150\n",
            "120/120 [==============================] - 0s 3ms/step - loss: 14.5858 - root_mean_squared_error: 3.8191 - val_loss: 24.1019 - val_root_mean_squared_error: 4.9094\n",
            "Epoch 63/150\n",
            "120/120 [==============================] - 1s 5ms/step - loss: 14.5757 - root_mean_squared_error: 3.8178 - val_loss: 24.1079 - val_root_mean_squared_error: 4.9100\n",
            "Epoch 64/150\n",
            "120/120 [==============================] - 1s 6ms/step - loss: 14.5616 - root_mean_squared_error: 3.8160 - val_loss: 24.2064 - val_root_mean_squared_error: 4.9200\n",
            "Epoch 65/150\n",
            "120/120 [==============================] - 1s 9ms/step - loss: 14.5633 - root_mean_squared_error: 3.8162 - val_loss: 24.0994 - val_root_mean_squared_error: 4.9091\n",
            "Epoch 66/150\n",
            "120/120 [==============================] - 1s 8ms/step - loss: 14.5409 - root_mean_squared_error: 3.8133 - val_loss: 24.0592 - val_root_mean_squared_error: 4.9050\n",
            "Epoch 67/150\n",
            "120/120 [==============================] - 1s 6ms/step - loss: 14.5339 - root_mean_squared_error: 3.8123 - val_loss: 24.0550 - val_root_mean_squared_error: 4.9046\n",
            "Epoch 68/150\n",
            "120/120 [==============================] - 1s 7ms/step - loss: 14.5358 - root_mean_squared_error: 3.8126 - val_loss: 23.9812 - val_root_mean_squared_error: 4.8971\n",
            "Epoch 69/150\n",
            "120/120 [==============================] - 1s 5ms/step - loss: 14.5253 - root_mean_squared_error: 3.8112 - val_loss: 24.0328 - val_root_mean_squared_error: 4.9023\n",
            "Epoch 70/150\n",
            "120/120 [==============================] - 1s 5ms/step - loss: 14.5103 - root_mean_squared_error: 3.8092 - val_loss: 24.0027 - val_root_mean_squared_error: 4.8993\n",
            "Epoch 71/150\n",
            "120/120 [==============================] - 1s 4ms/step - loss: 14.5185 - root_mean_squared_error: 3.8103 - val_loss: 24.1389 - val_root_mean_squared_error: 4.9131\n",
            "Epoch 72/150\n",
            "120/120 [==============================] - 0s 4ms/step - loss: 14.5069 - root_mean_squared_error: 3.8088 - val_loss: 23.9492 - val_root_mean_squared_error: 4.8938\n",
            "Epoch 73/150\n",
            "120/120 [==============================] - 1s 4ms/step - loss: 14.4832 - root_mean_squared_error: 3.8057 - val_loss: 23.9234 - val_root_mean_squared_error: 4.8912\n",
            "Epoch 74/150\n",
            "120/120 [==============================] - 1s 5ms/step - loss: 14.4970 - root_mean_squared_error: 3.8075 - val_loss: 23.9733 - val_root_mean_squared_error: 4.8963\n",
            "Epoch 75/150\n",
            "120/120 [==============================] - 1s 5ms/step - loss: 14.4771 - root_mean_squared_error: 3.8049 - val_loss: 23.9977 - val_root_mean_squared_error: 4.8987\n",
            "Epoch 76/150\n",
            "120/120 [==============================] - 1s 5ms/step - loss: 14.4778 - root_mean_squared_error: 3.8050 - val_loss: 23.8978 - val_root_mean_squared_error: 4.8885\n",
            "Epoch 77/150\n",
            "120/120 [==============================] - 0s 4ms/step - loss: 14.4910 - root_mean_squared_error: 3.8067 - val_loss: 23.9586 - val_root_mean_squared_error: 4.8948\n",
            "Epoch 78/150\n",
            "120/120 [==============================] - 0s 3ms/step - loss: 14.4663 - root_mean_squared_error: 3.8035 - val_loss: 23.9380 - val_root_mean_squared_error: 4.8926\n",
            "Epoch 79/150\n",
            "120/120 [==============================] - 0s 3ms/step - loss: 14.4638 - root_mean_squared_error: 3.8031 - val_loss: 23.9252 - val_root_mean_squared_error: 4.8913\n",
            "Epoch 80/150\n",
            "120/120 [==============================] - 0s 3ms/step - loss: 14.4598 - root_mean_squared_error: 3.8026 - val_loss: 23.9362 - val_root_mean_squared_error: 4.8925\n",
            "Epoch 81/150\n",
            "120/120 [==============================] - 0s 3ms/step - loss: 14.4545 - root_mean_squared_error: 3.8019 - val_loss: 23.9626 - val_root_mean_squared_error: 4.8952\n",
            "Epoch 82/150\n",
            "120/120 [==============================] - 0s 4ms/step - loss: 14.4540 - root_mean_squared_error: 3.8018 - val_loss: 23.9217 - val_root_mean_squared_error: 4.8910\n",
            "Epoch 83/150\n",
            "120/120 [==============================] - 0s 3ms/step - loss: 14.4570 - root_mean_squared_error: 3.8022 - val_loss: 23.9164 - val_root_mean_squared_error: 4.8904\n",
            "Epoch 84/150\n",
            "120/120 [==============================] - 0s 4ms/step - loss: 14.4516 - root_mean_squared_error: 3.8015 - val_loss: 23.8899 - val_root_mean_squared_error: 4.8877\n",
            "Epoch 85/150\n",
            "120/120 [==============================] - 0s 4ms/step - loss: 14.4459 - root_mean_squared_error: 3.8008 - val_loss: 23.8830 - val_root_mean_squared_error: 4.8870\n",
            "Epoch 86/150\n",
            "120/120 [==============================] - 0s 4ms/step - loss: 14.4392 - root_mean_squared_error: 3.7999 - val_loss: 23.8751 - val_root_mean_squared_error: 4.8862\n",
            "Epoch 87/150\n",
            "120/120 [==============================] - 1s 5ms/step - loss: 14.4361 - root_mean_squared_error: 3.7995 - val_loss: 23.8867 - val_root_mean_squared_error: 4.8874\n",
            "Epoch 88/150\n",
            "120/120 [==============================] - 1s 5ms/step - loss: 14.4292 - root_mean_squared_error: 3.7986 - val_loss: 23.8967 - val_root_mean_squared_error: 4.8884\n",
            "Epoch 89/150\n",
            "120/120 [==============================] - 1s 5ms/step - loss: 14.4273 - root_mean_squared_error: 3.7983 - val_loss: 23.9149 - val_root_mean_squared_error: 4.8903\n",
            "Epoch 90/150\n",
            "120/120 [==============================] - 1s 5ms/step - loss: 14.4269 - root_mean_squared_error: 3.7983 - val_loss: 23.8711 - val_root_mean_squared_error: 4.8858\n",
            "Epoch 91/150\n",
            "120/120 [==============================] - 1s 4ms/step - loss: 14.4258 - root_mean_squared_error: 3.7981 - val_loss: 23.8470 - val_root_mean_squared_error: 4.8833\n",
            "Epoch 92/150\n",
            "120/120 [==============================] - 1s 5ms/step - loss: 14.4260 - root_mean_squared_error: 3.7982 - val_loss: 23.8627 - val_root_mean_squared_error: 4.8849\n",
            "Epoch 93/150\n",
            "120/120 [==============================] - 1s 5ms/step - loss: 14.4147 - root_mean_squared_error: 3.7967 - val_loss: 23.9019 - val_root_mean_squared_error: 4.8890\n",
            "Epoch 94/150\n",
            "120/120 [==============================] - 1s 5ms/step - loss: 14.4045 - root_mean_squared_error: 3.7953 - val_loss: 23.9489 - val_root_mean_squared_error: 4.8938\n",
            "Epoch 95/150\n",
            "120/120 [==============================] - 1s 5ms/step - loss: 14.4023 - root_mean_squared_error: 3.7950 - val_loss: 23.9348 - val_root_mean_squared_error: 4.8923\n",
            "Epoch 96/150\n",
            "120/120 [==============================] - 1s 5ms/step - loss: 14.3948 - root_mean_squared_error: 3.7940 - val_loss: 23.9194 - val_root_mean_squared_error: 4.8907\n",
            "Epoch 97/150\n",
            "120/120 [==============================] - 1s 5ms/step - loss: 14.3962 - root_mean_squared_error: 3.7942 - val_loss: 23.9197 - val_root_mean_squared_error: 4.8908\n",
            "Epoch 98/150\n",
            "120/120 [==============================] - 1s 5ms/step - loss: 14.3916 - root_mean_squared_error: 3.7936 - val_loss: 23.9342 - val_root_mean_squared_error: 4.8923\n",
            "Epoch 99/150\n",
            "120/120 [==============================] - 1s 6ms/step - loss: 14.3917 - root_mean_squared_error: 3.7936 - val_loss: 23.8301 - val_root_mean_squared_error: 4.8816\n",
            "Epoch 100/150\n",
            "120/120 [==============================] - 1s 5ms/step - loss: 14.3877 - root_mean_squared_error: 3.7931 - val_loss: 23.8484 - val_root_mean_squared_error: 4.8835\n",
            "Epoch 101/150\n",
            "120/120 [==============================] - 1s 5ms/step - loss: 14.3844 - root_mean_squared_error: 3.7927 - val_loss: 23.8548 - val_root_mean_squared_error: 4.8841\n",
            "Epoch 102/150\n",
            "120/120 [==============================] - 1s 5ms/step - loss: 14.3709 - root_mean_squared_error: 3.7909 - val_loss: 23.9318 - val_root_mean_squared_error: 4.8920\n",
            "Epoch 103/150\n",
            "120/120 [==============================] - 1s 5ms/step - loss: 14.3753 - root_mean_squared_error: 3.7915 - val_loss: 23.8610 - val_root_mean_squared_error: 4.8848\n",
            "Epoch 104/150\n",
            "120/120 [==============================] - 1s 5ms/step - loss: 14.3633 - root_mean_squared_error: 3.7899 - val_loss: 23.7630 - val_root_mean_squared_error: 4.8747\n",
            "Epoch 105/150\n",
            "120/120 [==============================] - 1s 5ms/step - loss: 14.3669 - root_mean_squared_error: 3.7904 - val_loss: 23.9690 - val_root_mean_squared_error: 4.8958\n",
            "Epoch 106/150\n",
            "120/120 [==============================] - 1s 5ms/step - loss: 14.3561 - root_mean_squared_error: 3.7889 - val_loss: 23.9048 - val_root_mean_squared_error: 4.8893\n",
            "Epoch 107/150\n",
            "120/120 [==============================] - 1s 5ms/step - loss: 14.3569 - root_mean_squared_error: 3.7890 - val_loss: 23.8229 - val_root_mean_squared_error: 4.8809\n",
            "Epoch 108/150\n",
            "120/120 [==============================] - 1s 4ms/step - loss: 14.3496 - root_mean_squared_error: 3.7881 - val_loss: 23.8392 - val_root_mean_squared_error: 4.8825\n",
            "Epoch 109/150\n",
            "120/120 [==============================] - 0s 4ms/step - loss: 14.3338 - root_mean_squared_error: 3.7860 - val_loss: 23.9049 - val_root_mean_squared_error: 4.8893\n",
            "Epoch 110/150\n",
            "120/120 [==============================] - 0s 3ms/step - loss: 14.3232 - root_mean_squared_error: 3.7846 - val_loss: 23.8534 - val_root_mean_squared_error: 4.8840\n",
            "Epoch 111/150\n",
            "120/120 [==============================] - 0s 4ms/step - loss: 14.3163 - root_mean_squared_error: 3.7837 - val_loss: 23.8289 - val_root_mean_squared_error: 4.8815\n",
            "Epoch 112/150\n",
            "120/120 [==============================] - 0s 3ms/step - loss: 14.3124 - root_mean_squared_error: 3.7832 - val_loss: 23.8285 - val_root_mean_squared_error: 4.8814\n",
            "Epoch 113/150\n",
            "120/120 [==============================] - 1s 4ms/step - loss: 14.3201 - root_mean_squared_error: 3.7842 - val_loss: 23.8168 - val_root_mean_squared_error: 4.8802\n",
            "Epoch 114/150\n",
            "120/120 [==============================] - 1s 4ms/step - loss: 14.2999 - root_mean_squared_error: 3.7815 - val_loss: 23.7731 - val_root_mean_squared_error: 4.8758\n",
            "Epoch 115/150\n",
            "120/120 [==============================] - 1s 5ms/step - loss: 14.2977 - root_mean_squared_error: 3.7812 - val_loss: 23.8215 - val_root_mean_squared_error: 4.8807\n",
            "Epoch 116/150\n",
            "120/120 [==============================] - 1s 4ms/step - loss: 14.2846 - root_mean_squared_error: 3.7795 - val_loss: 23.8230 - val_root_mean_squared_error: 4.8809\n",
            "Epoch 117/150\n",
            "120/120 [==============================] - 1s 5ms/step - loss: 14.2860 - root_mean_squared_error: 3.7797 - val_loss: 23.8578 - val_root_mean_squared_error: 4.8844\n",
            "Epoch 118/150\n",
            "120/120 [==============================] - 1s 4ms/step - loss: 14.2900 - root_mean_squared_error: 3.7802 - val_loss: 23.8023 - val_root_mean_squared_error: 4.8788\n",
            "Epoch 119/150\n",
            "120/120 [==============================] - 0s 4ms/step - loss: 14.2765 - root_mean_squared_error: 3.7784 - val_loss: 23.8894 - val_root_mean_squared_error: 4.8877\n",
            "Epoch 120/150\n",
            "120/120 [==============================] - 0s 4ms/step - loss: 14.2726 - root_mean_squared_error: 3.7779 - val_loss: 23.8249 - val_root_mean_squared_error: 4.8811\n",
            "Epoch 121/150\n",
            "120/120 [==============================] - 1s 5ms/step - loss: 14.2702 - root_mean_squared_error: 3.7776 - val_loss: 23.9239 - val_root_mean_squared_error: 4.8912\n",
            "Epoch 122/150\n",
            "120/120 [==============================] - 1s 5ms/step - loss: 14.2697 - root_mean_squared_error: 3.7775 - val_loss: 23.9670 - val_root_mean_squared_error: 4.8956\n",
            "Epoch 123/150\n",
            "120/120 [==============================] - 0s 4ms/step - loss: 14.2724 - root_mean_squared_error: 3.7779 - val_loss: 23.8364 - val_root_mean_squared_error: 4.8823\n",
            "Epoch 124/150\n",
            "120/120 [==============================] - 0s 4ms/step - loss: 14.2634 - root_mean_squared_error: 3.7767 - val_loss: 23.9000 - val_root_mean_squared_error: 4.8888\n",
            "Epoch 125/150\n",
            "120/120 [==============================] - 0s 4ms/step - loss: 14.2536 - root_mean_squared_error: 3.7754 - val_loss: 23.9224 - val_root_mean_squared_error: 4.8911\n",
            "Epoch 126/150\n",
            "120/120 [==============================] - 0s 4ms/step - loss: 14.2611 - root_mean_squared_error: 3.7764 - val_loss: 23.9774 - val_root_mean_squared_error: 4.8967\n",
            "Epoch 127/150\n",
            "120/120 [==============================] - 0s 4ms/step - loss: 14.2638 - root_mean_squared_error: 3.7767 - val_loss: 23.9136 - val_root_mean_squared_error: 4.8902\n",
            "Epoch 128/150\n",
            "120/120 [==============================] - 0s 4ms/step - loss: 14.2514 - root_mean_squared_error: 3.7751 - val_loss: 23.8988 - val_root_mean_squared_error: 4.8886\n",
            "Epoch 129/150\n",
            "120/120 [==============================] - 1s 4ms/step - loss: 14.2482 - root_mean_squared_error: 3.7747 - val_loss: 23.8753 - val_root_mean_squared_error: 4.8862\n",
            "Epoch 130/150\n",
            "120/120 [==============================] - 1s 5ms/step - loss: 14.2456 - root_mean_squared_error: 3.7743 - val_loss: 23.8969 - val_root_mean_squared_error: 4.8884\n",
            "Epoch 131/150\n",
            "120/120 [==============================] - 1s 6ms/step - loss: 14.2362 - root_mean_squared_error: 3.7731 - val_loss: 23.9152 - val_root_mean_squared_error: 4.8903\n",
            "Epoch 132/150\n",
            "120/120 [==============================] - 1s 5ms/step - loss: 14.2488 - root_mean_squared_error: 3.7748 - val_loss: 23.8239 - val_root_mean_squared_error: 4.8810\n",
            "Epoch 133/150\n",
            "120/120 [==============================] - 0s 4ms/step - loss: 14.2366 - root_mean_squared_error: 3.7731 - val_loss: 23.8605 - val_root_mean_squared_error: 4.8847\n",
            "Epoch 134/150\n",
            "120/120 [==============================] - 0s 4ms/step - loss: 14.2303 - root_mean_squared_error: 3.7723 - val_loss: 23.8566 - val_root_mean_squared_error: 4.8843\n",
            "Epoch 135/150\n",
            "120/120 [==============================] - 1s 6ms/step - loss: 14.2297 - root_mean_squared_error: 3.7722 - val_loss: 23.9249 - val_root_mean_squared_error: 4.8913\n",
            "Epoch 136/150\n",
            "120/120 [==============================] - 1s 6ms/step - loss: 14.2270 - root_mean_squared_error: 3.7719 - val_loss: 23.8135 - val_root_mean_squared_error: 4.8799\n",
            "Epoch 137/150\n",
            "120/120 [==============================] - 1s 5ms/step - loss: 14.2287 - root_mean_squared_error: 3.7721 - val_loss: 23.8973 - val_root_mean_squared_error: 4.8885\n",
            "Epoch 138/150\n",
            "120/120 [==============================] - 1s 6ms/step - loss: 14.2138 - root_mean_squared_error: 3.7701 - val_loss: 23.8272 - val_root_mean_squared_error: 4.8813\n",
            "Epoch 139/150\n",
            "120/120 [==============================] - 1s 5ms/step - loss: 14.2174 - root_mean_squared_error: 3.7706 - val_loss: 23.8611 - val_root_mean_squared_error: 4.8848\n",
            "Epoch 140/150\n",
            "120/120 [==============================] - 1s 5ms/step - loss: 14.2060 - root_mean_squared_error: 3.7691 - val_loss: 23.7906 - val_root_mean_squared_error: 4.8776\n",
            "Epoch 141/150\n",
            "120/120 [==============================] - 1s 5ms/step - loss: 14.2134 - root_mean_squared_error: 3.7701 - val_loss: 23.9076 - val_root_mean_squared_error: 4.8895\n",
            "Epoch 142/150\n",
            "120/120 [==============================] - 1s 5ms/step - loss: 14.2189 - root_mean_squared_error: 3.7708 - val_loss: 23.8415 - val_root_mean_squared_error: 4.8828\n",
            "Epoch 143/150\n",
            "120/120 [==============================] - 0s 4ms/step - loss: 14.1997 - root_mean_squared_error: 3.7682 - val_loss: 23.8901 - val_root_mean_squared_error: 4.8878\n",
            "Epoch 144/150\n",
            "120/120 [==============================] - 0s 4ms/step - loss: 14.2056 - root_mean_squared_error: 3.7690 - val_loss: 23.8508 - val_root_mean_squared_error: 4.8837\n",
            "Epoch 145/150\n",
            "120/120 [==============================] - 1s 5ms/step - loss: 14.1837 - root_mean_squared_error: 3.7661 - val_loss: 23.7735 - val_root_mean_squared_error: 4.8758\n",
            "Epoch 146/150\n",
            "120/120 [==============================] - 1s 5ms/step - loss: 14.1894 - root_mean_squared_error: 3.7669 - val_loss: 23.9615 - val_root_mean_squared_error: 4.8951\n",
            "Epoch 147/150\n",
            "120/120 [==============================] - 1s 5ms/step - loss: 14.2451 - root_mean_squared_error: 3.7743 - val_loss: 23.8668 - val_root_mean_squared_error: 4.8854\n",
            "Epoch 148/150\n",
            "120/120 [==============================] - 1s 5ms/step - loss: 14.1742 - root_mean_squared_error: 3.7649 - val_loss: 23.8257 - val_root_mean_squared_error: 4.8812\n",
            "Epoch 149/150\n",
            "120/120 [==============================] - 1s 5ms/step - loss: 14.1598 - root_mean_squared_error: 3.7630 - val_loss: 23.8129 - val_root_mean_squared_error: 4.8798\n",
            "Epoch 150/150\n",
            "120/120 [==============================] - 1s 5ms/step - loss: 14.1505 - root_mean_squared_error: 3.7617 - val_loss: 23.8583 - val_root_mean_squared_error: 4.8845\n",
            "CPU times: user 1min 36s, sys: 3.51 s, total: 1min 40s\n",
            "Wall time: 2min 23s\n"
          ]
        },
        {
          "output_type": "execute_result",
          "data": {
            "text/plain": [
              "<keras.callbacks.History at 0x7fbf11ad2730>"
            ]
          },
          "metadata": {},
          "execution_count": 129
        }
      ],
      "source": [
        "%%time\n",
        "tf.keras.utils.set_random_seed(seed)\n",
        "\n",
        "model = keras.Sequential([keras.Input(shape=x_test.shape[1]), \n",
        "                          layers.Dense(7, activation=activations.tanh), \n",
        "                          layers.Dense(15, activation=activations.relu),\n",
        "                          layers.Dense(15, activation=activations.relu), \n",
        "                          layers.Dense(15, activation=activations.relu),\n",
        "                          layers.Dense(7, activation=activations.relu), \n",
        "                          layers.Dense(5, activation=activations.relu), \n",
        "                          layers.Dense(1)])\n",
        "\n",
        "model.compile(loss='mse', optimizer='adamax', metrics=[tf.keras.metrics.RootMeanSquaredError()])\n",
        "\n",
        "model.fit(x_train, y_train, epochs=150, validation_split=0.05, batch_size=512, verbose=1 )"
      ]
    },
    {
      "cell_type": "code",
      "source": [
        "preds_ker = model.predict(x_test) # 200 epoches\n",
        "scores = model.evaluate(x_test, y_test, batch_size=512)\n",
        "R2_keras = r2_score(y_test, preds_ker)\n",
        "print('R2: ', R2_keras)\n",
        "\n",
        "plt.plot(y_test, preds_ker, 'o', c = 'b', label = 'Keras pred distr')\n",
        "plt.ylabel('preds');  \n",
        "plt.xlabel('y_test');\n",
        "plt.legend(loc = 'upper right');"
      ],
      "metadata": {
        "colab": {
          "base_uri": "https://localhost:8080/",
          "height": 332
        },
        "id": "6yZh1HG_Dwm2",
        "outputId": "cd1dce9e-0858-4a51-c345-e3ef67f94f72"
      },
      "execution_count": null,
      "outputs": [
        {
          "output_type": "stream",
          "name": "stdout",
          "text": [
            "223/223 [==============================] - 0s 2ms/step\n",
            "14/14 [==============================] - 0s 3ms/step - loss: 14.1845 - root_mean_squared_error: 3.7662\n",
            "R2:  0.0829434978623953\n"
          ]
        },
        {
          "output_type": "display_data",
          "data": {
            "text/plain": [
              "<Figure size 432x288 with 1 Axes>"
            ],
            "image/png": "[encoded data removed]"
          },
          "metadata": {
            "needs_background": "light"
          }
        }
      ]
    },
    {
      "cell_type": "markdown",
      "metadata": {
        "id": "XHs9YXdCWtWp"
      },
      "source": [
        "## RF"
      ]
    },
    {
      "cell_type": "code",
      "execution_count": null,
      "metadata": {
        "id": "ENxAhNAA0BNM"
      },
      "outputs": [],
      "source": [
        "def RMSE_ar(pred, true):  \n",
        "    dev = (pred-true)**2    \n",
        "    return np.sqrt(dev.mean())"
      ]
    },
    {
      "cell_type": "code",
      "execution_count": null,
      "metadata": {
        "id": "1rH7-kn9WtJi",
        "colab": {
          "base_uri": "https://localhost:8080/"
        },
        "outputId": "90df90d0-442f-434f-8929-a18765712fbf"
      },
      "outputs": [
        {
          "output_type": "stream",
          "name": "stdout",
          "text": [
            "CPU times: user 5min 50s, sys: 397 ms, total: 5min 50s\n",
            "Wall time: 5min 52s\n"
          ]
        }
      ],
      "source": [
        "%%time\n",
        "RF_Reg = RandomForestRegressor(n_estimators = 500, criterion='squared_error', random_state=seed, min_samples_split=7) # random_state=seed\n",
        "RF_Reg.fit(x_train, y_train)\n",
        "\n",
        "preds_rf = RF_Reg.predict(x_test)"
      ]
    },
    {
      "cell_type": "code",
      "source": [
        "# RF_Reg = RandomForestRegressor(n_estimators = 500, criterion='squared_error', random_state=42, min_samples_split=7)\n",
        "RMSE_r = RMSE_ar(y_test, preds_rf)\n",
        "R2_RF = sklearn.metrics.r2_score(y_test, preds_rf)\n",
        "print('R2_score: ', R2_RF) \n",
        "print('RMSE: ', RMSE_r) \n",
        "\n",
        "plt.plot(y_test, preds_rf, 'o', c = 'b', label = 'RF pred distr')\n",
        "plt.ylabel('preds');  \n",
        "plt.xlabel('y_test');\n",
        "plt.legend(loc = 'upper right');"
      ],
      "metadata": {
        "colab": {
          "base_uri": "https://localhost:8080/",
          "height": 315
        },
        "id": "xfcALvpXDl-e",
        "outputId": "84bbe0cb-7132-41b2-8e89-fb242e038d5d"
      },
      "execution_count": null,
      "outputs": [
        {
          "output_type": "stream",
          "name": "stdout",
          "text": [
            "R2_score:  0.16478139425439875\n",
            "RMSE:  3.5942625174959035\n"
          ]
        },
        {
          "output_type": "display_data",
          "data": {
            "text/plain": [
              "<Figure size 432x288 with 1 Axes>"
            ],
            "image/png": "[encoded data removed]"
          },
          "metadata": {
            "needs_background": "light"
          }
        }
      ]
    },
    {
      "cell_type": "code",
      "source": [
        "# RF_Reg = RandomForestRegressor(n_estimators = 500, criterion='squared_error', random_state=42, min_samples_split=5)\n",
        "RMSE_r = RMSE_ar(y_test, preds_rf)\n",
        "R2_RF = sklearn.metrics.r2_score(y_test, preds_rf)\n",
        "print('R2_score: ', R2_RF) \n",
        "print('RMSE: ', RMSE_r) \n",
        "\n",
        "plt.plot(y_test, preds_rf, 'o', c = 'b', label = 'RF pred distr')\n",
        "plt.ylabel('preds');  \n",
        "plt.xlabel('y_test');\n",
        "plt.legend(loc = 'upper right');"
      ],
      "metadata": {
        "colab": {
          "base_uri": "https://localhost:8080/",
          "height": 315
        },
        "id": "eBGwtLzNxeA0",
        "outputId": "65a9f00a-8c35-4177-cca4-a2cc474b833d"
      },
      "execution_count": null,
      "outputs": [
        {
          "output_type": "stream",
          "name": "stdout",
          "text": [
            "R2_score:  0.16144166359754208\n",
            "RMSE:  3.601441412223798\n"
          ]
        },
        {
          "output_type": "display_data",
          "data": {
            "text/plain": [
              "<Figure size 432x288 with 1 Axes>"
            ],
            "image/png": "[encoded data removed]"
          },
          "metadata": {
            "needs_background": "light"
          }
        }
      ]
    }
  ],
  "metadata": {
    "colab": {
      "provenance": [],
      "toc_visible": true,
      "authorship_tag": "ABX9TyOHUhPtcGd6XkGfB1HNLI6+",
      "include_colab_link": true
    },
    "gpuClass": "standard",
    "kernelspec": {
      "display_name": "Python 3",
      "name": "python3"
    },
    "language_info": {
      "name": "python"
    }
  },
  "nbformat": 4,
  "nbformat_minor": 0
}