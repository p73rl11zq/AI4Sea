{
  "cells": [
    {
      "cell_type": "markdown",
      "metadata": {
        "id": "view-in-github",
        "colab_type": "text"
      },
      "source": [
        "<a href=\"https://colab.research.google.com/github/p73rl11zq/AI4Sea/blob/main/AI4Sea.ipynb\" target=\"_parent\"><img src=\"https://colab.research.google.com/assets/colab-badge.svg\" alt=\"Open In Colab\"/></a>"
      ]
    },
    {
      "cell_type": "code",
      "execution_count": null,
      "metadata": {
        "id": "AYW4YsTMYXcX"
      },
      "outputs": [],
      "source": [
        "import pandas as pd\n",
        "import matplotlib\n",
        "from matplotlib import pyplot as plt\n",
        "import torch\n",
        "import random\n",
        "import numpy as np\n",
        "\n",
        "import sklearn\n",
        "from sklearn.metrics import r2_score\n",
        "from sklearn.ensemble import RandomForestRegressor\n",
        "# matplotlib.rcParams['figure.figsize'] = (8.0, 5.0)\n",
        "\n",
        "!pip install category_encoders\n",
        "from category_encoders.binary import BinaryEncoder;"
      ]
    },
    {
      "cell_type": "code",
      "execution_count": 2,
      "metadata": {
        "id": "I_cVHiV1dLhP"
      },
      "outputs": [],
      "source": [
        "seed = 42\n",
        "\n",
        "random.seed(seed)\n",
        "torch.manual_seed(seed)\n",
        "torch.cuda.manual_seed(seed)\n",
        "torch.backends.cudnn.deterministic = True"
      ]
    },
    {
      "cell_type": "markdown",
      "metadata": {
        "id": "FGOtIxm1YMIk"
      },
      "source": [
        "> # **Challenge info**\n",
        "\n"
      ]
    },
    {
      "cell_type": "markdown",
      "metadata": {
        "id": "IK8dwcxrXpnZ"
      },
      "source": [
        "All data about challenge available via the link:\n",
        "https://dsworks.ru/champ/545de8cb-e023-4b64-9be4-b95b9519f8d3#overview"
      ]
    },
    {
      "cell_type": "markdown",
      "metadata": {
        "id": "dr4qUVu6SQWA"
      },
      "source": [
        "> # **Data reading**\n",
        "\n"
      ]
    },
    {
      "cell_type": "code",
      "execution_count": 3,
      "metadata": {
        "colab": {
          "base_uri": "https://localhost:8080/"
        },
        "id": "gIep3p6eaCmU",
        "outputId": "205b916c-2df8-4296-a5cb-18c7cb8f0e88"
      },
      "outputs": [
        {
          "output_type": "stream",
          "name": "stdout",
          "text": [
            "Mounted at /content/drive\n"
          ]
        }
      ],
      "source": [
        "from google.colab import drive\n",
        "drive.mount('/content/drive') # force_remount=True"
      ]
    },
    {
      "cell_type": "code",
      "execution_count": 184,
      "metadata": {
        "id": "dO3l1CDXak7i"
      },
      "outputs": [],
      "source": [
        "pollok_df = pd.read_csv('/content/drive/MyDrive/Colab Notebooks/AI4Sea/data/polock_dataset_train.csv', parse_dates=['date', 'datetimes'], dayfirst=True) # \n",
        "pollok_df = pollok_df.drop(['Unnamed: 0'], axis=1) "
      ]
    },
    {
      "cell_type": "code",
      "source": [
        "pd.Series(pollok_df['ton']).hist(bins=100, figsize=(8,5))"
      ],
      "metadata": {
        "colab": {
          "base_uri": "https://localhost:8080/",
          "height": 337
        },
        "id": "z_a4seXgzQIS",
        "outputId": "d4a3ff9e-0146-420c-e8b7-581aa71f27a1"
      },
      "execution_count": null,
      "outputs": [
        {
          "output_type": "execute_result",
          "data": {
            "text/plain": [
              "<matplotlib.axes._subplots.AxesSubplot at 0x7f5ac2b67b80>"
            ]
          },
          "metadata": {},
          "execution_count": 165
        },
        {
          "output_type": "display_data",
          "data": {
            "text/plain": [
              "<Figure size 576x360 with 1 Axes>"
            ],
            "image/png": "[encoded data removed]"
          },
          "metadata": {
            "needs_background": "light"
          }
        }
      ]
    },
    {
      "cell_type": "code",
      "source": [
        "pollok_df[pollok_df.ton > 20].ton.count()"
      ],
      "metadata": {
        "colab": {
          "base_uri": "https://localhost:8080/"
        },
        "id": "DY4Mh_rQannR",
        "outputId": "8a308895-30d4-4719-d339-a08cae5e898b"
      },
      "execution_count": 33,
      "outputs": [
        {
          "output_type": "execute_result",
          "data": {
            "text/plain": [
              "596"
            ]
          },
          "metadata": {},
          "execution_count": 33
        }
      ]
    },
    {
      "cell_type": "code",
      "source": [
        "pollok_df = pollok_df[pollok_df.ton < 20]"
      ],
      "metadata": {
        "id": "ywvW4rLobuZI"
      },
      "execution_count": 124,
      "outputs": []
    },
    {
      "cell_type": "code",
      "execution_count": 105,
      "metadata": {
        "colab": {
          "base_uri": "https://localhost:8080/"
        },
        "id": "KKoSSiGEfj3F",
        "outputId": "2f120612-87c6-424f-8f41-cdceb94122a5"
      },
      "outputs": [
        {
          "output_type": "execute_result",
          "data": {
            "text/plain": [
              "idves        0\n",
              "date         0\n",
              "datetimes    0\n",
              "idinf        0\n",
              "latitude     0\n",
              "longitude    0\n",
              "region       0\n",
              "course       0\n",
              "velocity     0\n",
              "ton          0\n",
              "total_ton    0\n",
              "trawl        0\n",
              "science      0\n",
              "dtype: int64"
            ]
          },
          "metadata": {},
          "execution_count": 105
        }
      ],
      "source": [
        "pollok_df.isna().sum()"
      ]
    },
    {
      "cell_type": "code",
      "execution_count": null,
      "metadata": {
        "id": "yzp96YE5ogSy"
      },
      "outputs": [],
      "source": [
        "print(\"-- Velocity: \")\n",
        "print('Minimum: ', pollok_df['velocity'].min(), '\\n', 'Maximum: ', pollok_df['velocity'].max())\n",
        "print('Median: ', pollok_df[\"velocity\"].median(), '\\n', 'Mean value: ', pollok_df[\"velocity\"].mean())\n",
        "\n",
        "print('\\n', '-- Course: ')\n",
        "print('Minimum: ', pollok_df['course'].min(), '\\n','Maximum: ', pollok_df['course'].max())\n",
        "print('Median: ', pollok_df[\"course\"].median(), '\\n', 'Mean value: ', pollok_df[\"course\"].mean())"
      ]
    },
    {
      "cell_type": "code",
      "execution_count": 185,
      "metadata": {
        "id": "Xz3QsA9LyX6f"
      },
      "outputs": [],
      "source": [
        "pollok_df['course'] = pollok_df.groupby('idves')['course'].bfill(limit=1).ffill(limit=1)\n",
        "pollok_df['course'] = pollok_df.groupby('idves')['course'].apply(lambda x: x.interpolate(method='linear'))\n",
        "\n",
        "pollok_df['velocity'].fillna(pollok_df.groupby('idves')['velocity'].transform('median'), inplace = True)\n",
        "\n",
        "df_edit = pollok_df.copy()"
      ]
    },
    {
      "cell_type": "markdown",
      "metadata": {
        "id": "NZSsmxXfD6fF"
      },
      "source": [
        "> # **'Raw' df processing**"
      ]
    },
    {
      "cell_type": "markdown",
      "metadata": {
        "id": "3fVZuqceHblA"
      },
      "source": [
        "## **Datetimes (timestamp)**"
      ]
    },
    {
      "cell_type": "code",
      "source": [
        "df_edit = pollok_df.copy()"
      ],
      "metadata": {
        "id": "1ePg8IuBx141"
      },
      "execution_count": 186,
      "outputs": []
    },
    {
      "cell_type": "code",
      "execution_count": 187,
      "metadata": {
        "id": "Rfk7HG15t2cI"
      },
      "outputs": [],
      "source": [
        "df_edit['year'] = df_edit['datetimes'].dt.year \n",
        "df_edit['month'] = df_edit['datetimes'].dt.month\n",
        "df_edit['day'] = df_edit['datetimes'].dt.day\n",
        "df_edit['hour'] = df_edit['datetimes'].dt.hour\n",
        "df_edit['minute'] = df_edit['datetimes'].dt.minute\n",
        "df_edit['abs_minute'] = df_edit.hour*60 + df_edit.minute"
      ]
    },
    {
      "cell_type": "markdown",
      "metadata": {
        "id": "HDkrBkIvHws2"
      },
      "source": [
        "Extract lenght of every voyage for every ship:"
      ]
    },
    {
      "cell_type": "code",
      "execution_count": 188,
      "metadata": {
        "colab": {
          "base_uri": "https://localhost:8080/",
          "height": 143
        },
        "id": "eY5QEQj1HbIf",
        "outputId": "e7e84b79-5ffa-4e18-e18b-bc1134929f42"
      },
      "outputs": [
        {
          "output_type": "execute_result",
          "data": {
            "text/plain": [
              "                                idves       date  count\n",
              "768  cc2b1ba0368ccd98d5bed7e2e97b4bb0 2003-01-29     24\n",
              "361  7463afe23eae7efe3c72737a5d3d693f 2003-02-08     26\n",
              "821  fc84ad56f9f547eb89c72b9bac209312 2003-02-13     28"
            ],
            "text/html": [
              "\n",
              "  <div id=\"df-aa72e0ae-e2c8-4781-8471-cd4587c678ac\">\n",
              "    <div class=\"colab-df-container\">\n",
              "      <div>\n",
              "<style scoped>\n",
              "    .dataframe tbody tr th:only-of-type {\n",
              "        vertical-align: middle;\n",
              "    }\n",
              "\n",
              "    .dataframe tbody tr th {\n",
              "        vertical-align: top;\n",
              "    }\n",
              "\n",
              "    .dataframe thead th {\n",
              "        text-align: right;\n",
              "    }\n",
              "</style>\n",
              "<table border=\"1\" class=\"dataframe\">\n",
              "  <thead>\n",
              "    <tr style=\"text-align: right;\">\n",
              "      <th></th>\n",
              "      <th>idves</th>\n",
              "      <th>date</th>\n",
              "      <th>count</th>\n",
              "    </tr>\n",
              "  </thead>\n",
              "  <tbody>\n",
              "    <tr>\n",
              "      <th>768</th>\n",
              "      <td>cc2b1ba0368ccd98d5bed7e2e97b4bb0</td>\n",
              "      <td>2003-01-29</td>\n",
              "      <td>24</td>\n",
              "    </tr>\n",
              "    <tr>\n",
              "      <th>361</th>\n",
              "      <td>7463afe23eae7efe3c72737a5d3d693f</td>\n",
              "      <td>2003-02-08</td>\n",
              "      <td>26</td>\n",
              "    </tr>\n",
              "    <tr>\n",
              "      <th>821</th>\n",
              "      <td>fc84ad56f9f547eb89c72b9bac209312</td>\n",
              "      <td>2003-02-13</td>\n",
              "      <td>28</td>\n",
              "    </tr>\n",
              "  </tbody>\n",
              "</table>\n",
              "</div>\n",
              "      <button class=\"colab-df-convert\" onclick=\"convertToInteractive('df-aa72e0ae-e2c8-4781-8471-cd4587c678ac')\"\n",
              "              title=\"Convert this dataframe to an interactive table.\"\n",
              "              style=\"display:none;\">\n",
              "        \n",
              "  <svg xmlns=\"http://www.w3.org/2000/svg\" height=\"24px\"viewBox=\"0 0 24 24\"\n",
              "       width=\"24px\">\n",
              "    <path d=\"M0 0h24v24H0V0z\" fill=\"none\"/>\n",
              "    <path d=\"M18.56 5.44l.94 2.06.94-2.06 2.06-.94-2.06-.94-.94-2.06-.94 2.06-2.06.94zm-11 1L8.5 8.5l.94-2.06 2.06-.94-2.06-.94L8.5 2.5l-.94 2.06-2.06.94zm10 10l.94 2.06.94-2.06 2.06-.94-2.06-.94-.94-2.06-.94 2.06-2.06.94z\"/><path d=\"M17.41 7.96l-1.37-1.37c-.4-.4-.92-.59-1.43-.59-.52 0-1.04.2-1.43.59L10.3 9.45l-7.72 7.72c-.78.78-.78 2.05 0 2.83L4 21.41c.39.39.9.59 1.41.59.51 0 1.02-.2 1.41-.59l7.78-7.78 2.81-2.81c.8-.78.8-2.07 0-2.86zM5.41 20L4 18.59l7.72-7.72 1.47 1.35L5.41 20z\"/>\n",
              "  </svg>\n",
              "      </button>\n",
              "      \n",
              "  <style>\n",
              "    .colab-df-container {\n",
              "      display:flex;\n",
              "      flex-wrap:wrap;\n",
              "      gap: 12px;\n",
              "    }\n",
              "\n",
              "    .colab-df-convert {\n",
              "      background-color: #E8F0FE;\n",
              "      border: none;\n",
              "      border-radius: 50%;\n",
              "      cursor: pointer;\n",
              "      display: none;\n",
              "      fill: #1967D2;\n",
              "      height: 32px;\n",
              "      padding: 0 0 0 0;\n",
              "      width: 32px;\n",
              "    }\n",
              "\n",
              "    .colab-df-convert:hover {\n",
              "      background-color: #E2EBFA;\n",
              "      box-shadow: 0px 1px 2px rgba(60, 64, 67, 0.3), 0px 1px 3px 1px rgba(60, 64, 67, 0.15);\n",
              "      fill: #174EA6;\n",
              "    }\n",
              "\n",
              "    [theme=dark] .colab-df-convert {\n",
              "      background-color: #3B4455;\n",
              "      fill: #D2E3FC;\n",
              "    }\n",
              "\n",
              "    [theme=dark] .colab-df-convert:hover {\n",
              "      background-color: #434B5C;\n",
              "      box-shadow: 0px 1px 3px 1px rgba(0, 0, 0, 0.15);\n",
              "      filter: drop-shadow(0px 1px 2px rgba(0, 0, 0, 0.3));\n",
              "      fill: #FFFFFF;\n",
              "    }\n",
              "  </style>\n",
              "\n",
              "      <script>\n",
              "        const buttonEl =\n",
              "          document.querySelector('#df-aa72e0ae-e2c8-4781-8471-cd4587c678ac button.colab-df-convert');\n",
              "        buttonEl.style.display =\n",
              "          google.colab.kernel.accessAllowed ? 'block' : 'none';\n",
              "\n",
              "        async function convertToInteractive(key) {\n",
              "          const element = document.querySelector('#df-aa72e0ae-e2c8-4781-8471-cd4587c678ac');\n",
              "          const dataTable =\n",
              "            await google.colab.kernel.invokeFunction('convertToInteractive',\n",
              "                                                     [key], {});\n",
              "          if (!dataTable) return;\n",
              "\n",
              "          const docLinkHtml = 'Like what you see? Visit the ' +\n",
              "            '<a target=\"_blank\" href=https://colab.research.google.com/notebooks/data_table.ipynb>data table notebook</a>'\n",
              "            + ' to learn more about interactive tables.';\n",
              "          element.innerHTML = '';\n",
              "          dataTable['output_type'] = 'display_data';\n",
              "          await google.colab.output.renderOutput(dataTable, element);\n",
              "          const docLink = document.createElement('div');\n",
              "          docLink.innerHTML = docLinkHtml;\n",
              "          element.appendChild(docLink);\n",
              "        }\n",
              "      </script>\n",
              "    </div>\n",
              "  </div>\n",
              "  "
            ]
          },
          "metadata": {},
          "execution_count": 188
        }
      ],
      "source": [
        "df1 = pd.DataFrame({'count' : df_edit.groupby([\"idves\", \"date\"]).size()}).reset_index().sort_values(by='date')\n",
        "df1.head(3)"
      ]
    },
    {
      "cell_type": "markdown",
      "metadata": {
        "id": "6cy2PnsLIXzf"
      },
      "source": [
        "Marking all voyages in ascend order:"
      ]
    },
    {
      "cell_type": "code",
      "execution_count": 189,
      "metadata": {
        "id": "ymmGgBtXHoYO"
      },
      "outputs": [],
      "source": [
        "df_edit['num_of_voyage'] = 1\n",
        "temp = df_edit['num_of_voyage']"
      ]
    },
    {
      "cell_type": "code",
      "execution_count": 190,
      "metadata": {
        "colab": {
          "base_uri": "https://localhost:8080/"
        },
        "id": "NwdwJUiPHoT-",
        "outputId": "1ca0faed-2061-4e51-a116-ece5033520e1"
      },
      "outputs": [
        {
          "output_type": "stream",
          "name": "stderr",
          "text": [
            "<ipython-input-190-67e57eb22897>:7: SettingWithCopyWarning: \n",
            "A value is trying to be set on a copy of a slice from a DataFrame\n",
            "\n",
            "See the caveats in the documentation: https://pandas.pydata.org/pandas-docs/stable/user_guide/indexing.html#returning-a-view-versus-a-copy\n",
            "  temp[step+i] = voyage\n"
          ]
        }
      ],
      "source": [
        "step = 0\n",
        "voyage = 1\n",
        "\n",
        "for j in df1['count']:\n",
        "    \n",
        "    for i in range(j):\n",
        "        temp[step+i] = voyage\n",
        "\n",
        "    voyage += 1\n",
        "    step += j\n",
        "\n",
        "df_edit['num_of_voyage'] = temp"
      ]
    },
    {
      "cell_type": "code",
      "source": [
        "df_edit.head(3)"
      ],
      "metadata": {
        "id": "NdJuHmlQxxJM"
      },
      "execution_count": null,
      "outputs": []
    },
    {
      "cell_type": "code",
      "source": [
        "time_df = pd.DataFrame(data=df_edit[['date', 'datetimes','day','month','year', 'hour', 'minute', 'abs_minute', 'num_of_voyage']].values, \n",
        "                       columns=df_edit[['date', 'datetimes','day','month','year', 'hour', 'minute', 'abs_minute', 'num_of_voyage']].columns)\n",
        "time_df"
      ],
      "metadata": {
        "id": "9bRMQU42waBr"
      },
      "execution_count": null,
      "outputs": []
    },
    {
      "cell_type": "markdown",
      "source": [
        "Normalization for date features:"
      ],
      "metadata": {
        "id": "NonJP1N1ei2A"
      }
    },
    {
      "cell_type": "code",
      "execution_count": 191,
      "metadata": {
        "id": "0l4001DaMqAe"
      },
      "outputs": [],
      "source": [
        "# Decimal-normalization\n",
        "num_of_voyage = df_edit['num_of_voyage']\n",
        "dec = num_of_voyage.max().round(-3)\n",
        "num_of_voyage = df_edit['num_of_voyage'] / dec"
      ]
    },
    {
      "cell_type": "code",
      "source": [
        "day = df_edit['day']\n",
        "month = df_edit['month']\n",
        "year = df_edit['year']\n",
        "\n",
        "hour = df_edit['hour']\n",
        "minute = df_edit['minute']\n",
        "abs_minute = df_edit['abs_minute']"
      ],
      "metadata": {
        "id": "aj1gFrUUeW5I"
      },
      "execution_count": 192,
      "outputs": []
    },
    {
      "cell_type": "code",
      "source": [
        "day = day/day.abs().max()\n",
        "print(day.min(), day.max())\n",
        "\n",
        "month = (month - month.min()) / (month.max() - month.min())\n",
        "print(month.min(), month.max())\n",
        "\n",
        "year = (year - year.min()) / (year.max() - year.min())\n",
        "print(year.min(), year.max())"
      ],
      "metadata": {
        "colab": {
          "base_uri": "https://localhost:8080/"
        },
        "id": "Rz7hjpsme0T_",
        "outputId": "615f2ea5-3898-486e-d446-bb79878759f9"
      },
      "execution_count": 193,
      "outputs": [
        {
          "output_type": "stream",
          "name": "stdout",
          "text": [
            "0.03225806451612903 1.0\n",
            "0.0 1.0\n",
            "0.0 1.0\n"
          ]
        }
      ]
    },
    {
      "cell_type": "code",
      "source": [
        "hour = hour/hour.abs().max()\n",
        "print(hour.min(), hour.max())\n",
        "\n",
        "minute = minute/minute.abs().max()\n",
        "print(minute.min(), minute.max())\n",
        "\n",
        "abs_minute = abs_minute/abs_minute.abs().max()\n",
        "print(abs_minute.min(), abs_minute.max())"
      ],
      "metadata": {
        "colab": {
          "base_uri": "https://localhost:8080/"
        },
        "id": "EBRdmUfgkBG4",
        "outputId": "f299ec34-9eaa-421b-f055-ed7ccea7f5aa"
      },
      "execution_count": 194,
      "outputs": [
        {
          "output_type": "stream",
          "name": "stdout",
          "text": [
            "0.0 1.0\n",
            "0.0 1.0\n",
            "0.0 1.0\n"
          ]
        }
      ]
    },
    {
      "cell_type": "markdown",
      "metadata": {
        "id": "nK90xHqYd1I7"
      },
      "source": [
        "Scaling apply:"
      ]
    },
    {
      "cell_type": "code",
      "execution_count": 195,
      "metadata": {
        "id": "Pk63u-65d07C"
      },
      "outputs": [],
      "source": [
        "df_edit['num_of_voyage'] = num_of_voyage\n",
        "df_edit['day'] = day\n",
        "df_edit['month'] = num_of_voyage\n",
        "df_edit['year'] = year\n",
        "df_edit['hour'] = hour\n",
        "df_edit['minute'] = minute\n",
        "df_edit['abs_minute'] = abs_minute"
      ]
    },
    {
      "cell_type": "code",
      "source": [
        "df_edit = df_edit.drop(['date', 'datetimes'], axis=1)"
      ],
      "metadata": {
        "id": "y4KNFUqioNXJ"
      },
      "execution_count": 196,
      "outputs": []
    },
    {
      "cell_type": "code",
      "source": [
        "df_edit.shape"
      ],
      "metadata": {
        "colab": {
          "base_uri": "https://localhost:8080/"
        },
        "id": "gNTzT8qfnDao",
        "outputId": "f1bc5784-d139-443b-9414-4e54db492da3"
      },
      "execution_count": 197,
      "outputs": [
        {
          "output_type": "execute_result",
          "data": {
            "text/plain": [
              "(73934, 18)"
            ]
          },
          "metadata": {},
          "execution_count": 197
        }
      ]
    },
    {
      "cell_type": "markdown",
      "metadata": {
        "id": "kEKr86XjILzD"
      },
      "source": [
        "## **Idinf (coordinate source code):**"
      ]
    },
    {
      "cell_type": "code",
      "execution_count": null,
      "metadata": {
        "colab": {
          "base_uri": "https://localhost:8080/",
          "height": 337
        },
        "id": "67O29eJkM6o9",
        "outputId": "9a70303c-a188-43ad-ee12-222bdfe51118"
      },
      "outputs": [
        {
          "output_type": "execute_result",
          "data": {
            "text/plain": [
              "<matplotlib.axes._subplots.AxesSubplot at 0x7f5ac2e568b0>"
            ]
          },
          "metadata": {},
          "execution_count": 161
        },
        {
          "output_type": "display_data",
          "data": {
            "text/plain": [
              "<Figure size 576x360 with 1 Axes>"
            ],
            "image/png": "[encoded data removed]"
          },
          "metadata": {
            "needs_background": "light"
          }
        }
      ],
      "source": [
        "pd.Series(df_edit['idinf']).hist(bins=100, figsize=(8,5))"
      ]
    },
    {
      "cell_type": "markdown",
      "metadata": {
        "id": "Zd-7iy8-YkYy"
      },
      "source": [
        "Maximum absolute scaling apply:"
      ]
    },
    {
      "cell_type": "code",
      "execution_count": 198,
      "metadata": {
        "id": "4iZg3zSPaASn",
        "colab": {
          "base_uri": "https://localhost:8080/"
        },
        "outputId": "7d0d37d4-cb2a-46e1-af8a-4eafe3431e8a"
      },
      "outputs": [
        {
          "output_type": "execute_result",
          "data": {
            "text/plain": [
              "(0.0, 1.0)"
            ]
          },
          "metadata": {},
          "execution_count": 198
        }
      ],
      "source": [
        "df_edit['idinf'] = df_edit['idinf'] / df_edit['idinf'].abs().max()\n",
        "df_edit['idinf'].min(), df_edit['idinf'].max()"
      ]
    },
    {
      "cell_type": "markdown",
      "metadata": {
        "id": "4zAlinbYISjC"
      },
      "source": [
        "## **Latitude & longitude (*, decimal)**"
      ]
    },
    {
      "cell_type": "code",
      "execution_count": null,
      "metadata": {
        "colab": {
          "base_uri": "https://localhost:8080/",
          "height": 337
        },
        "id": "AZ2yz3MdL0mo",
        "outputId": "c420ad98-a14f-4bce-d8c7-27571c998a80"
      },
      "outputs": [
        {
          "data": {
            "text/plain": [
              "<matplotlib.legend.Legend at 0x7f76e450b760>"
            ]
          },
          "execution_count": 24,
          "metadata": {},
          "output_type": "execute_result"
        },
        {
          "data": {
            "image/png": "[encoded data removed]",
            "text/plain": [
              "<Figure size 1008x360 with 2 Axes>"
            ]
          },
          "metadata": {},
          "output_type": "display_data"
        }
      ],
      "source": [
        "plot, axis = plt.subplots(1, 2, figsize=(14,5))\n",
        "\n",
        "axis[0].hist(df_edit['latitude'],bins=100);\n",
        "axis[0].grid(visible=True)\n",
        "\n",
        "axis[1].hist(df_edit['longitude'],bins=100);\n",
        "axis[1].grid(visible=True)\n",
        "\n",
        "axis[0].legend(['latitude'], loc='upper left')\n",
        "axis[1].legend(['longitude'], loc='upper left')"
      ]
    },
    {
      "cell_type": "markdown",
      "metadata": {
        "id": "cxpu0AfqMT3A"
      },
      "source": [
        "Min-max normalization apply:"
      ]
    },
    {
      "cell_type": "code",
      "execution_count": 199,
      "metadata": {
        "id": "qYcuNO_xaGzd"
      },
      "outputs": [],
      "source": [
        "df_edit['latitude'] = (df_edit['latitude'] - df_edit['latitude'].min()) / (df_edit['latitude'].max() - df_edit['latitude'].min())\n",
        "df_edit['longitude'] = (df_edit['longitude'] - df_edit['longitude'].min()) / (df_edit['longitude'].max() - df_edit['longitude'].min())"
      ]
    },
    {
      "cell_type": "markdown",
      "metadata": {
        "id": "FNPPKqeFIc_L"
      },
      "source": [
        "## **Region (fishing subzone, categorical):**"
      ]
    },
    {
      "cell_type": "code",
      "execution_count": null,
      "metadata": {
        "colab": {
          "base_uri": "https://localhost:8080/"
        },
        "id": "HKuuuz8weEnE",
        "outputId": "fddb1e96-0ff9-4753-a7cf-210b8b9e7899"
      },
      "outputs": [
        {
          "output_type": "execute_result",
          "data": {
            "text/plain": [
              "array([274, 273, 272, 275])"
            ]
          },
          "metadata": {},
          "execution_count": 19
        }
      ],
      "source": [
        "df_edit.region.unique()"
      ]
    },
    {
      "cell_type": "code",
      "source": [
        "region = df_edit.region\n",
        "region =  (region - region.mean()) / region.std()"
      ],
      "metadata": {
        "id": "xwyZxh4Pzz7d"
      },
      "execution_count": null,
      "outputs": []
    },
    {
      "cell_type": "code",
      "source": [
        "pd.Series(df_edit['region']).hist(bins=100, figsize=(8,5))"
      ],
      "metadata": {
        "colab": {
          "base_uri": "https://localhost:8080/",
          "height": 337
        },
        "id": "wbwjE1MPo6x8",
        "outputId": "379c6f19-14c5-4a0f-e9c1-5d46f1b800ff"
      },
      "execution_count": null,
      "outputs": [
        {
          "output_type": "execute_result",
          "data": {
            "text/plain": [
              "<matplotlib.axes._subplots.AxesSubplot at 0x7f5ac3e419d0>"
            ]
          },
          "metadata": {},
          "execution_count": 200
        },
        {
          "output_type": "display_data",
          "data": {
            "text/plain": [
              "<Figure size 576x360 with 1 Axes>"
            ],
            "image/png": "[encoded data removed]"
          },
          "metadata": {
            "needs_background": "light"
          }
        }
      ]
    },
    {
      "cell_type": "markdown",
      "source": [
        "One-hot encoding apply:"
      ],
      "metadata": {
        "id": "RErxyX0Ic7Zg"
      }
    },
    {
      "cell_type": "code",
      "execution_count": 200,
      "metadata": {
        "id": "Vk33WSBzIchS"
      },
      "outputs": [],
      "source": [
        "df_edit = pd.get_dummies(df_edit, columns=['region'], dtype=float)"
      ]
    },
    {
      "cell_type": "markdown",
      "metadata": {
        "id": "dmAuMjJ_FuZr"
      },
      "source": [
        "## **Course (*, degs):**"
      ]
    },
    {
      "cell_type": "code",
      "execution_count": 121,
      "metadata": {
        "colab": {
          "base_uri": "https://localhost:8080/",
          "height": 337
        },
        "id": "DbiWALZUF-6t",
        "outputId": "a5a393e1-e7a9-4b46-f855-72f20ebd4633"
      },
      "outputs": [
        {
          "output_type": "execute_result",
          "data": {
            "text/plain": [
              "<matplotlib.axes._subplots.AxesSubplot at 0x7f16ab8173a0>"
            ]
          },
          "metadata": {},
          "execution_count": 121
        },
        {
          "output_type": "display_data",
          "data": {
            "text/plain": [
              "<Figure size 576x360 with 1 Axes>"
            ],
            "image/png": "[encoded data removed]"
          },
          "metadata": {
            "needs_background": "light"
          }
        }
      ],
      "source": [
        "pd.Series(df_edit['course']).hist(bins=100, figsize=(8,5))"
      ]
    },
    {
      "cell_type": "code",
      "source": [
        "course = df_edit['course']\n",
        "(course - course.mean()) / course.std()"
      ],
      "metadata": {
        "id": "_A_rzM7xS4dW"
      },
      "execution_count": null,
      "outputs": []
    },
    {
      "cell_type": "code",
      "source": [
        "# z-norm\n",
        "df_edit['course'] =  (df_edit['course'] - df_edit['course'].mean()) / df_edit['course'].std()"
      ],
      "metadata": {
        "id": "MvfRFYsbSSu9"
      },
      "execution_count": null,
      "outputs": []
    },
    {
      "cell_type": "code",
      "source": [
        "# abs max scaling\n",
        "df_edit['course'] =  df_edit['course'] /  df_edit['course'].abs().max()"
      ],
      "metadata": {
        "id": "5eNVVlYqEnFm"
      },
      "execution_count": 201,
      "outputs": []
    },
    {
      "cell_type": "markdown",
      "metadata": {
        "id": "KzRsgHEIIn3y"
      },
      "source": [
        "## **Velocity:**"
      ]
    },
    {
      "cell_type": "code",
      "source": [
        "df_edit = pollok_df.copy()"
      ],
      "metadata": {
        "id": "7ztT0BdDej0_"
      },
      "execution_count": null,
      "outputs": []
    },
    {
      "cell_type": "code",
      "source": [
        "print('(velocity > 12):', df_edit[df_edit.velocity > 12].shape[0])"
      ],
      "metadata": {
        "colab": {
          "base_uri": "https://localhost:8080/"
        },
        "id": "-bM1Bu-6eMDm",
        "outputId": "f0e4360c-8031-44d9-d2dd-ce7abec006ac"
      },
      "execution_count": 44,
      "outputs": [
        {
          "output_type": "stream",
          "name": "stdout",
          "text": [
            "(velocity > 12): 429\n"
          ]
        }
      ]
    },
    {
      "cell_type": "code",
      "source": [
        "df_edit = df_edit[df_edit.velocity < 12]\n",
        "df_edit.shape"
      ],
      "metadata": {
        "colab": {
          "base_uri": "https://localhost:8080/"
        },
        "id": "ZNt8VbZhea-V",
        "outputId": "15ce282c-718e-4052-c044-d7d4a6dd9bef"
      },
      "execution_count": 202,
      "outputs": [
        {
          "output_type": "execute_result",
          "data": {
            "text/plain": [
              "(72894, 21)"
            ]
          },
          "metadata": {},
          "execution_count": 202
        }
      ]
    },
    {
      "cell_type": "code",
      "execution_count": 142,
      "metadata": {
        "colab": {
          "base_uri": "https://localhost:8080/",
          "height": 337
        },
        "id": "_8yFm4etInbE",
        "outputId": "5d6a4aaa-7749-4a34-c9e6-09b8b4a3acc4"
      },
      "outputs": [
        {
          "output_type": "execute_result",
          "data": {
            "text/plain": [
              "<matplotlib.axes._subplots.AxesSubplot at 0x7f16aa7029a0>"
            ]
          },
          "metadata": {},
          "execution_count": 142
        },
        {
          "output_type": "display_data",
          "data": {
            "text/plain": [
              "<Figure size 576x360 with 1 Axes>"
            ],
            "image/png": "[encoded data removed]"
          },
          "metadata": {
            "needs_background": "light"
          }
        }
      ],
      "source": [
        "pd.Series(df_edit['velocity']).hist(bins=100, figsize=(8,5), legend='')\n"
      ]
    },
    {
      "cell_type": "markdown",
      "metadata": {
        "id": "XNSHXyVabxLc"
      },
      "source": [
        "Normalization apply:"
      ]
    },
    {
      "cell_type": "code",
      "source": [
        "# z-norm\n",
        "df_edit['velocity'] =  (df_edit['velocity'] - df_edit['velocity'].mean()) / df_edit['velocity'].std()"
      ],
      "metadata": {
        "id": "cHByL8nQTDym"
      },
      "execution_count": null,
      "outputs": []
    },
    {
      "cell_type": "code",
      "execution_count": 203,
      "metadata": {
        "id": "hjtnhBb9Ffo_"
      },
      "outputs": [],
      "source": [
        "# abs max scaling\n",
        "df_edit['velocity'] = df_edit['velocity'] / df_edit['velocity'].abs().max()"
      ]
    },
    {
      "cell_type": "markdown",
      "metadata": {
        "id": "pPfKsc9JI1XL"
      },
      "source": [
        "## **Total ton ():**"
      ]
    },
    {
      "cell_type": "code",
      "source": [
        "df_edit = pollok_df.copy()"
      ],
      "metadata": {
        "id": "rmkJt-ipOQhH"
      },
      "execution_count": 39,
      "outputs": []
    },
    {
      "cell_type": "code",
      "source": [
        "print('(total_ton > 400):', df_edit[df_edit.total_ton > 400].shape[0])"
      ],
      "metadata": {
        "colab": {
          "base_uri": "https://localhost:8080/"
        },
        "id": "90308n63Laoo",
        "outputId": "6425c506-c3dd-4f9c-ea42-955453e666df"
      },
      "execution_count": 144,
      "outputs": [
        {
          "output_type": "stream",
          "name": "stdout",
          "text": [
            "(total_ton > 400): 1417\n"
          ]
        }
      ]
    },
    {
      "cell_type": "code",
      "source": [
        "df_edit = pd.DataFrame(data=df_edit[df_edit.total_ton < 400].values, columns=df_edit.columns)\n",
        "df_edit.shape"
      ],
      "metadata": {
        "colab": {
          "base_uri": "https://localhost:8080/"
        },
        "id": "twl-N6-RLRXa",
        "outputId": "74f8cee8-7c11-41a2-ecd2-defd3e3ca2d9"
      },
      "execution_count": 204,
      "outputs": [
        {
          "output_type": "execute_result",
          "data": {
            "text/plain": [
              "(71263, 21)"
            ]
          },
          "metadata": {},
          "execution_count": 204
        }
      ]
    },
    {
      "cell_type": "code",
      "execution_count": 146,
      "metadata": {
        "colab": {
          "base_uri": "https://localhost:8080/",
          "height": 337
        },
        "id": "hcNow5x5DVvU",
        "outputId": "aa8e73a3-2982-4255-c115-e497eaca4fea"
      },
      "outputs": [
        {
          "output_type": "execute_result",
          "data": {
            "text/plain": [
              "<matplotlib.axes._subplots.AxesSubplot at 0x7f16ac0265e0>"
            ]
          },
          "metadata": {},
          "execution_count": 146
        },
        {
          "output_type": "display_data",
          "data": {
            "text/plain": [
              "<Figure size 576x360 with 1 Axes>"
            ],
            "image/png": "[encoded data removed]"
          },
          "metadata": {
            "needs_background": "light"
          }
        }
      ],
      "source": [
        "df_edit['total_ton'].hist(bins=100, figsize=(8,5))"
      ]
    },
    {
      "cell_type": "markdown",
      "metadata": {
        "id": "xWzip67Skr_B"
      },
      "source": [
        "Maximum absolute scaling apply:"
      ]
    },
    {
      "cell_type": "code",
      "source": [
        "df_edit['total_ton'] = df_edit['total_ton'] / df_edit['total_ton'].abs().max()\n",
        "df_edit['total_ton'].min(), df_edit['total_ton'].max()"
      ],
      "metadata": {
        "id": "LaN-NNlbPe9g",
        "colab": {
          "base_uri": "https://localhost:8080/"
        },
        "outputId": "507a50a0-5c7c-4d3e-fbc2-b3a35a801e5d"
      },
      "execution_count": 205,
      "outputs": [
        {
          "output_type": "execute_result",
          "data": {
            "text/plain": [
              "(0.0, 1.0)"
            ]
          },
          "metadata": {},
          "execution_count": 205
        }
      ]
    },
    {
      "cell_type": "markdown",
      "metadata": {
        "id": "2NSzbDiO0EKq"
      },
      "source": [
        "## **Idves (ship code) & trawl (fishing gear):**"
      ]
    },
    {
      "cell_type": "markdown",
      "metadata": {
        "id": "U4RV3_ecEQBH"
      },
      "source": [
        "Standartization:"
      ]
    },
    {
      "cell_type": "code",
      "execution_count": 206,
      "metadata": {
        "id": "dNOXRQ5cbvK0"
      },
      "outputs": [],
      "source": [
        "df_binary_idves = BinaryEncoder().fit_transform(df_edit['idves'], dtype=float)\n",
        "df_binary_idves.columns = ([f'i{i}' for i in range(len(df_binary_idves.columns))])\n",
        "\n",
        "df_binary_trawl = BinaryEncoder().fit_transform(df_edit['trawl'], dtype=float)\n",
        "df_binary_trawl.columns = ([f't{i}' for i in range(len(df_binary_trawl.columns))])"
      ]
    },
    {
      "cell_type": "code",
      "source": [
        "df = df_binary_idves\n",
        "df[df_binary_trawl.columns] = df_binary_trawl\n",
        "df"
      ],
      "metadata": {
        "id": "CFkMt_yIFs3R"
      },
      "execution_count": null,
      "outputs": []
    },
    {
      "cell_type": "code",
      "execution_count": 207,
      "metadata": {
        "id": "n2W1yQ7Kkyyc"
      },
      "outputs": [],
      "source": [
        "df_binary_idves[df_edit.columns] = df_edit\n",
        "df_binary_idves[df_binary_trawl.columns] = df_binary_trawl\n",
        "df_edit = df_binary_idves\n",
        "df_edit = df_edit.drop(columns=['idves', 'trawl'])"
      ]
    },
    {
      "cell_type": "markdown",
      "source": [
        "\n",
        "\n",
        "> # **Save processed dataset**\n",
        "\n"
      ],
      "metadata": {
        "id": "ymArqGu0q67m"
      }
    },
    {
      "cell_type": "code",
      "source": [
        "pollok_df = df_edit"
      ],
      "metadata": {
        "id": "6h50h2wQrCQw"
      },
      "execution_count": null,
      "outputs": []
    },
    {
      "cell_type": "code",
      "source": [
        "normalized_df = pollok_df.to_csv('/content/drive/MyDrive/Colab Notebooks/AI4Sea/data/normalized_df.csv')"
      ],
      "metadata": {
        "id": "Wnls9kThoWEG"
      },
      "execution_count": 155,
      "outputs": []
    },
    {
      "cell_type": "markdown",
      "metadata": {
        "id": "1q9MDNKPOiL2"
      },
      "source": [
        "\n",
        "\n",
        "> # **Models construct**\n",
        "\n"
      ]
    },
    {
      "cell_type": "markdown",
      "metadata": {
        "id": "QtqGQXidSAkD"
      },
      "source": [
        "## Torch"
      ]
    },
    {
      "cell_type": "markdown",
      "source": [
        "Tensor-like XY samples:"
      ],
      "metadata": {
        "id": "gb7g9bgqKz0q"
      }
    },
    {
      "cell_type": "code",
      "source": [
        "pollok_df = df_edit"
      ],
      "metadata": {
        "id": "eD3KVGTAThl_"
      },
      "execution_count": 151,
      "outputs": []
    },
    {
      "cell_type": "code",
      "source": [
        "train_df = pollok_df.sample(frac=0.95, random_state=seed)\n",
        "test_df = pollok_df[~pollok_df.index.isin(train_df.index)]\n",
        "\n",
        "train_main = train_df.sample(frac=0.95, random_state=seed)\n",
        "train_valid = train_df[~train_df.index.isin(train_main.index)]"
      ],
      "metadata": {
        "id": "9unbcF7jTjS5"
      },
      "execution_count": null,
      "outputs": []
    },
    {
      "cell_type": "code",
      "source": [
        "x_train = torch.tensor((train_main.drop(['ton'], axis=1).values), dtype=torch.float32)\n",
        "y_train = torch.tensor(train_main['ton'].values, dtype=torch.float32)\n",
        "\n",
        "x_valid = torch.tensor((train_valid.drop(['ton'], axis=1).values), dtype=torch.float32)\n",
        "y_valid = torch.tensor(train_valid['ton'].values, dtype=torch.float32)\n",
        "\n",
        "x_test = torch.tensor((test_df.drop(['ton'], axis=1).values), dtype=torch.float32)\n",
        "y_test = torch.tensor(test_df['ton'].values, dtype=torch.float32)\n",
        "\n",
        "print(x_train.shape, y_train.shape) \n",
        "print(x_valid.shape, y_valid.shape)\n",
        "print(x_test.shape, y_test.shape)"
      ],
      "metadata": {
        "colab": {
          "base_uri": "https://localhost:8080/"
        },
        "id": "IXR_IIflKzn7",
        "outputId": "8a893b05-3b2c-4dae-9499-8e0d2be1e4d0"
      },
      "execution_count": null,
      "outputs": [
        {
          "output_type": "stream",
          "name": "stdout",
          "text": [
            "torch.Size([59887, 24]) torch.Size([59887])\n",
            "torch.Size([6654, 24]) torch.Size([6654])\n",
            "torch.Size([7393, 24]) torch.Size([7393])\n"
          ]
        }
      ]
    },
    {
      "cell_type": "code",
      "execution_count": null,
      "metadata": {
        "id": "S9GjJ0JtLmkU"
      },
      "outputs": [],
      "source": [
        "class Catch_predictor(torch.nn.Module):\n",
        "    def __init__(self, dim, layers):                       \n",
        "        \n",
        "        super(Catch_predictor, self).__init__()                 # torch.nn.ReLU()    torch.nn.Tanh()  \n",
        "\n",
        "        self.fc1 = torch.nn.Linear(dim, layers[0])          \n",
        "        self.act1 = torch.nn.Tanh() \n",
        "        self.fc2 = torch.nn.Linear(layers[0], layers[1])     \n",
        "        self.act2 = torch.nn.Tanh() \n",
        "        self.fc3 = torch.nn.Linear(layers[1], layers[2])     \n",
        "        self.act3 = torch.nn.Tanh() \n",
        "        self.fc4 = torch.nn.Linear(layers[2], layers[3])     \n",
        "        self.act4 = torch.nn.ReLU()                         \n",
        "        self.fc5 = torch.nn.Linear(layers[3], layers[4])     \n",
        "        self.act5 = torch.nn.ReLU() \n",
        "        self.fc6 = torch.nn.Linear(layers[4], layers[5])     \n",
        "        self.act6 = torch.nn.ReLU() \n",
        "        self.fc7 = torch.nn.Linear(layers[5], 1)     \n",
        "        \n",
        "        # self.act7 = torch.nn.ReLU() \n",
        "        # self.fc8 = torch.nn.Linear(layers[6], layers[7])     \n",
        "        # self.act8 = torch.nn.ReLU()                         \n",
        "        # self.fc9 = torch.nn.Linear(layers[7], layers[8])     \n",
        "        # self.act9 = torch.nn.ReLU() \n",
        "        # self.fc10 = torch.nn.Linear(layers[8], layers[9])     \n",
        "        # self.act10 = torch.nn.ReLU() \n",
        "        # self.fc11 = torch.nn.Linear(layers[9], 1)     \n",
        "\n",
        "\n",
        "    def forward(self, x):\n",
        "        \n",
        "        x = self.fc1(x)\n",
        "        x = self.act1(x)\n",
        "        x = self.fc2(x)\n",
        "        x = self.act2(x)\n",
        "        x = self.fc3(x)\n",
        "        x = self.act3(x)\n",
        "        x = self.fc4(x)\n",
        "        x = self.act4(x)\n",
        "        x = self.fc5(x)\n",
        "        x = self.act5(x)\n",
        "        x = self.fc6(x)\n",
        "        x = self.act6(x)\n",
        "        x = self.fc7(x)\n",
        "\n",
        "        # x = self.act7(x)\n",
        "        # x = self.fc8(x)\n",
        "        # x = self.act8(x)\n",
        "        # x = self.fc9(x)\n",
        "        # x = self.act9(x)\n",
        "        # x = self.fc10(x)\n",
        "        # x = self.act10(x)\n",
        "        # x = self.fc11(x)\n",
        "\n",
        "        return x"
      ]
    },
    {
      "cell_type": "code",
      "execution_count": null,
      "metadata": {
        "id": "Gl7tyCZeMqj1"
      },
      "outputs": [],
      "source": [
        "def MSE(pred, true):  \n",
        "    sq = (true-pred)**2    \n",
        "    return sq.mean()\n",
        "\n",
        "def RMSE(pred, true):  \n",
        "    dev = (true-pred)**2    \n",
        "    return torch.sqrt(dev.mean())"
      ]
    },
    {
      "cell_type": "markdown",
      "metadata": {
        "id": "KuTZDuWYrLfD"
      },
      "source": [
        "Model:"
      ]
    },
    {
      "cell_type": "code",
      "source": [
        "torch.manual_seed(3)\n",
        "torch.cuda.manual_seed(3)\n",
        "torch.backends.cudnn.deterministic = True"
      ],
      "metadata": {
        "id": "EKW3ghykvjTr"
      },
      "execution_count": null,
      "outputs": []
    },
    {
      "cell_type": "code",
      "execution_count": null,
      "metadata": {
        "colab": {
          "base_uri": "https://localhost:8080/",
          "height": 467
        },
        "id": "XGQ3k9_rrd1w",
        "outputId": "5fc199c4-a34b-4e1a-a7e9-2d035f2bf48f"
      },
      "outputs": [
        {
          "output_type": "stream",
          "name": "stdout",
          "text": [
            "tensor(21.6948) -0.00037 tensor(4.6578)\n",
            "tensor(21.6873) -3e-05 tensor(4.6570)\n",
            "tensor(21.6893) -0.00012 tensor(4.6572)\n",
            "tensor(21.6960) -0.00042 tensor(4.6579)\n"
          ]
        },
        {
          "output_type": "error",
          "ename": "KeyboardInterrupt",
          "evalue": "ignored",
          "traceback": [
            "\u001b[0;31m---------------------------------------------------------------------------\u001b[0m",
            "\u001b[0;31mKeyboardInterrupt\u001b[0m                         Traceback (most recent call last)",
            "\u001b[0;32m<ipython-input-164-c1a1db1a4dc1>\u001b[0m in \u001b[0;36m<module>\u001b[0;34m\u001b[0m\n\u001b[1;32m     29\u001b[0m         \u001b[0mloss_value\u001b[0m \u001b[0;34m=\u001b[0m \u001b[0mMSE\u001b[0m\u001b[0;34m(\u001b[0m\u001b[0mpreds_t\u001b[0m\u001b[0;34m,\u001b[0m \u001b[0my_batch\u001b[0m\u001b[0;34m)\u001b[0m\u001b[0;34m\u001b[0m\u001b[0;34m\u001b[0m\u001b[0m\n\u001b[1;32m     30\u001b[0m         \u001b[0;31m#print(loss_value, r2_score(y_batch.detach().numpy(), preds_t.detach().numpy()))\u001b[0m\u001b[0;34m\u001b[0m\u001b[0;34m\u001b[0m\u001b[0;34m\u001b[0m\u001b[0m\n\u001b[0;32m---> 31\u001b[0;31m         \u001b[0mloss_value\u001b[0m\u001b[0;34m.\u001b[0m\u001b[0mbackward\u001b[0m\u001b[0;34m(\u001b[0m\u001b[0;34m)\u001b[0m\u001b[0;34m\u001b[0m\u001b[0;34m\u001b[0m\u001b[0m\n\u001b[0m\u001b[1;32m     32\u001b[0m \u001b[0;34m\u001b[0m\u001b[0m\n\u001b[1;32m     33\u001b[0m         \u001b[0moptimizer\u001b[0m\u001b[0;34m.\u001b[0m\u001b[0mstep\u001b[0m\u001b[0;34m(\u001b[0m\u001b[0;34m)\u001b[0m\u001b[0;34m\u001b[0m\u001b[0;34m\u001b[0m\u001b[0m\n",
            "\u001b[0;32m/usr/local/lib/python3.8/dist-packages/torch/_tensor.py\u001b[0m in \u001b[0;36mbackward\u001b[0;34m(self, gradient, retain_graph, create_graph, inputs)\u001b[0m\n\u001b[1;32m    485\u001b[0m                 \u001b[0minputs\u001b[0m\u001b[0;34m=\u001b[0m\u001b[0minputs\u001b[0m\u001b[0;34m,\u001b[0m\u001b[0;34m\u001b[0m\u001b[0;34m\u001b[0m\u001b[0m\n\u001b[1;32m    486\u001b[0m             )\n\u001b[0;32m--> 487\u001b[0;31m         torch.autograd.backward(\n\u001b[0m\u001b[1;32m    488\u001b[0m             \u001b[0mself\u001b[0m\u001b[0;34m,\u001b[0m \u001b[0mgradient\u001b[0m\u001b[0;34m,\u001b[0m \u001b[0mretain_graph\u001b[0m\u001b[0;34m,\u001b[0m \u001b[0mcreate_graph\u001b[0m\u001b[0;34m,\u001b[0m \u001b[0minputs\u001b[0m\u001b[0;34m=\u001b[0m\u001b[0minputs\u001b[0m\u001b[0;34m\u001b[0m\u001b[0;34m\u001b[0m\u001b[0m\n\u001b[1;32m    489\u001b[0m         )\n",
            "\u001b[0;32m/usr/local/lib/python3.8/dist-packages/torch/autograd/__init__.py\u001b[0m in \u001b[0;36mbackward\u001b[0;34m(tensors, grad_tensors, retain_graph, create_graph, grad_variables, inputs)\u001b[0m\n\u001b[1;32m    195\u001b[0m     \u001b[0;31m# some Python versions print out the first line of a multi-line function\u001b[0m\u001b[0;34m\u001b[0m\u001b[0;34m\u001b[0m\u001b[0;34m\u001b[0m\u001b[0m\n\u001b[1;32m    196\u001b[0m     \u001b[0;31m# calls in the traceback and some print out the last line\u001b[0m\u001b[0;34m\u001b[0m\u001b[0;34m\u001b[0m\u001b[0;34m\u001b[0m\u001b[0m\n\u001b[0;32m--> 197\u001b[0;31m     Variable._execution_engine.run_backward(  # Calls into the C++ engine to run the backward pass\n\u001b[0m\u001b[1;32m    198\u001b[0m         \u001b[0mtensors\u001b[0m\u001b[0;34m,\u001b[0m \u001b[0mgrad_tensors_\u001b[0m\u001b[0;34m,\u001b[0m \u001b[0mretain_graph\u001b[0m\u001b[0;34m,\u001b[0m \u001b[0mcreate_graph\u001b[0m\u001b[0;34m,\u001b[0m \u001b[0minputs\u001b[0m\u001b[0;34m,\u001b[0m\u001b[0;34m\u001b[0m\u001b[0;34m\u001b[0m\u001b[0m\n\u001b[1;32m    199\u001b[0m         allow_unreachable=True, accumulate_grad=True)  # Calls into the C++ engine to run the backward pass\n",
            "\u001b[0;31mKeyboardInterrupt\u001b[0m: "
          ]
        }
      ],
      "source": [
        "layers = np.array([7, 15, 15, 15, 7, 5]) # np.array([7, 15, 15, 15, 7, 5])\n",
        "Gigachad = Catch_predictor(dim=x_train.shape[1], layers=layers)\n",
        "\n",
        "optimizer = torch.optim.Adamax(Gigachad.parameters())\n",
        "\n",
        "epoch = 150\n",
        "batch_size = 512\n",
        "\n",
        "valid_RMSE_history = []\n",
        "valid_R2_history = []\n",
        "valid_loss_history = []\n",
        "\n",
        "for e in range(epoch):\n",
        "    \n",
        "    order = np.random.permutation(x_train.shape[0])\n",
        "    Gigachad.train()\n",
        "\n",
        "    for start_index in range(0, x_train.shape[0], batch_size):\n",
        "\n",
        "        optimizer.zero_grad()\n",
        "\n",
        "        batch_indexes = order[start_index : start_index+batch_size]\n",
        "\n",
        "        X_batch = x_train[batch_indexes]\n",
        "        y_batch = y_train[batch_indexes]\n",
        "\n",
        "        preds_t = Gigachad.forward(X_batch)\n",
        "\n",
        "        loss_value = MSE(preds_t, y_batch)\n",
        "        #print(loss_value, r2_score(y_batch.detach().numpy(), preds_t.detach().numpy()))\n",
        "        loss_value.backward()\n",
        "\n",
        "        optimizer.step()\n",
        "        \n",
        "            \n",
        "    Gigachad.eval()\n",
        "\n",
        "    valid_preds = Gigachad.forward(x_valid)\n",
        "\n",
        "    valid_loss_history.append(MSE(valid_preds, y_valid).data.cpu())\n",
        "    valid_R2_history.append(r2_score(y_valid.detach().numpy(), valid_preds.detach().numpy()).data)\n",
        "    valid_RMSE_history.append(RMSE(valid_preds, y_valid).data.cpu())\n",
        "\n",
        "    if e%10 == 0:\n",
        "        print(MSE(valid_preds, y_valid).data, \n",
        "            r2_score(y_valid.detach().numpy(), valid_preds.detach().numpy()).round(5),\n",
        "            RMSE(valid_preds, y_valid).data)"
      ]
    },
    {
      "cell_type": "code",
      "execution_count": null,
      "metadata": {
        "id": "7j3UzS1Hz-er",
        "colab": {
          "base_uri": "https://localhost:8080/"
        },
        "outputId": "e7c34ae9-7bc4-4ccc-e5cc-29635a5ab3f1"
      },
      "outputs": [
        {
          "output_type": "stream",
          "name": "stdout",
          "text": [
            "-2.626169542940815e-06\n",
            "tensor(4.3106)\n"
          ]
        }
      ],
      "source": [
        "test_pred = Gigachad.forward(x_test)\n",
        "\n",
        "print(sklearn.metrics.r2_score(y_test.detach().numpy(), test_pred.detach().numpy()))\n",
        "print(RMSE(test_pred, y_test).data)"
      ]
    },
    {
      "cell_type": "code",
      "source": [
        "plt.plot(y_test, test_pred.detach().numpy(), 'o', c = 'b', label = 'Torch pred distr')\n",
        "\n",
        "plt.ylabel('preds');  \n",
        "plt.xlabel('y_test');\n",
        "    \n",
        "plt.legend(loc = 'upper right');"
      ],
      "metadata": {
        "colab": {
          "base_uri": "https://localhost:8080/",
          "height": 280
        },
        "id": "zwjxcfUWZvTf",
        "outputId": "00c01d63-2cd4-425f-8be9-f29f428ae0ec"
      },
      "execution_count": null,
      "outputs": [
        {
          "output_type": "display_data",
          "data": {
            "text/plain": [
              "<Figure size 432x288 with 1 Axes>"
            ],
            "image/png": "[encoded data removed]"
          },
          "metadata": {
            "needs_background": "light"
          }
        }
      ]
    },
    {
      "cell_type": "markdown",
      "metadata": {
        "id": "Cohec7HQSESS"
      },
      "source": [
        "## Keras"
      ]
    },
    {
      "cell_type": "code",
      "execution_count": 157,
      "metadata": {
        "id": "lIViToZQQdGY"
      },
      "outputs": [],
      "source": [
        "import tensorflow as tf\n",
        "from tensorflow import keras\n",
        "from keras.callbacks import LambdaCallback\n",
        "from keras import layers\n",
        "from keras import activations\n",
        "from keras import optimizers"
      ]
    },
    {
      "cell_type": "markdown",
      "metadata": {
        "id": "voSYqNz9q2eU"
      },
      "source": [
        "Array-like samples form:"
      ]
    },
    {
      "cell_type": "code",
      "source": [
        "pollok_df = df_edit\n",
        "pollok_df = pd.DataFrame(data=pollok_df.values.astype(np.float32), columns=pollok_df.columns)"
      ],
      "metadata": {
        "id": "RO8zhcMOtNML"
      },
      "execution_count": 210,
      "outputs": []
    },
    {
      "cell_type": "code",
      "source": [
        "pollok_df.dtypes"
      ],
      "metadata": {
        "colab": {
          "base_uri": "https://localhost:8080/"
        },
        "id": "_3t3oZVKrsuY",
        "outputId": "eab50e91-185d-47eb-b476-bfa3d6e63d9e"
      },
      "execution_count": 211,
      "outputs": [
        {
          "output_type": "execute_result",
          "data": {
            "text/plain": [
              "i0               float32\n",
              "i1               float32\n",
              "i2               float32\n",
              "i3               float32\n",
              "i4               float32\n",
              "i5               float32\n",
              "idinf            float32\n",
              "latitude         float32\n",
              "longitude        float32\n",
              "course           float32\n",
              "velocity         float32\n",
              "ton              float32\n",
              "total_ton        float32\n",
              "science          float32\n",
              "year             float32\n",
              "month            float32\n",
              "day              float32\n",
              "hour             float32\n",
              "minute           float32\n",
              "abs_minute       float32\n",
              "num_of_voyage    float32\n",
              "region_272       float32\n",
              "region_273       float32\n",
              "region_274       float32\n",
              "region_275       float32\n",
              "t0               float32\n",
              "t1               float32\n",
              "t2               float32\n",
              "t3               float32\n",
              "t4               float32\n",
              "t5               float32\n",
              "dtype: object"
            ]
          },
          "metadata": {},
          "execution_count": 211
        }
      ]
    },
    {
      "cell_type": "code",
      "source": [
        "train_df = pollok_df.sample(frac=0.95, random_state=seed)\n",
        "test_df = pollok_df[~pollok_df.index.isin(train_df.index)]"
      ],
      "metadata": {
        "id": "vohUSXQLTGVV"
      },
      "execution_count": 212,
      "outputs": []
    },
    {
      "cell_type": "code",
      "execution_count": 213,
      "metadata": {
        "colab": {
          "base_uri": "https://localhost:8080/"
        },
        "id": "nO9JAF4Bq178",
        "outputId": "03f206bd-0aa3-4ebb-8da8-2501816b8b51"
      },
      "outputs": [
        {
          "output_type": "stream",
          "name": "stdout",
          "text": [
            "(67700, 30) (67700,)\n",
            "(3563, 30) (3563,)\n"
          ]
        }
      ],
      "source": [
        "x_train = np.array((train_df.drop(['ton'], axis=1).values))\n",
        "y_train = np.array(train_df['ton'].values)\n",
        "\n",
        "x_test = np.array((test_df.drop(['ton'], axis=1).values), )\n",
        "y_test = np.array(test_df['ton'].values)\n",
        "\n",
        "print(x_train.shape, y_train.shape) \n",
        "print(x_test.shape, y_test.shape)"
      ]
    },
    {
      "cell_type": "markdown",
      "metadata": {
        "id": "VqlARRtdq7YL"
      },
      "source": [
        "Model:"
      ]
    },
    {
      "cell_type": "code",
      "execution_count": 221,
      "metadata": {
        "colab": {
          "base_uri": "https://localhost:8080/"
        },
        "id": "t22AHdCazOYM",
        "outputId": "60a81b0f-0449-4af0-831e-1d8d9164fcf2"
      },
      "outputs": [
        {
          "output_type": "stream",
          "name": "stdout",
          "text": [
            "Epoch 1/80\n",
            "126/126 [==============================] - 3s 9ms/step - loss: 17.2587 - root_mean_squared_error: 4.1544 - val_loss: 11.6481 - val_root_mean_squared_error: 3.4129\n",
            "Epoch 2/80\n",
            "126/126 [==============================] - 0s 3ms/step - loss: 16.6439 - root_mean_squared_error: 4.0797 - val_loss: 11.0398 - val_root_mean_squared_error: 3.3226\n",
            "Epoch 3/80\n",
            "126/126 [==============================] - 0s 2ms/step - loss: 16.2068 - root_mean_squared_error: 4.0258 - val_loss: 10.9751 - val_root_mean_squared_error: 3.3129\n",
            "Epoch 4/80\n",
            "126/126 [==============================] - 0s 2ms/step - loss: 16.1173 - root_mean_squared_error: 4.0146 - val_loss: 10.8731 - val_root_mean_squared_error: 3.2974\n",
            "Epoch 5/80\n",
            "126/126 [==============================] - 0s 3ms/step - loss: 16.0328 - root_mean_squared_error: 4.0041 - val_loss: 10.7891 - val_root_mean_squared_error: 3.2847\n",
            "Epoch 6/80\n",
            "126/126 [==============================] - 0s 2ms/step - loss: 15.9608 - root_mean_squared_error: 3.9951 - val_loss: 10.7300 - val_root_mean_squared_error: 3.2757\n",
            "Epoch 7/80\n",
            "126/126 [==============================] - 0s 2ms/step - loss: 15.8935 - root_mean_squared_error: 3.9867 - val_loss: 10.6652 - val_root_mean_squared_error: 3.2658\n",
            "Epoch 8/80\n",
            "126/126 [==============================] - 0s 2ms/step - loss: 15.8372 - root_mean_squared_error: 3.9796 - val_loss: 10.6232 - val_root_mean_squared_error: 3.2593\n",
            "Epoch 9/80\n",
            "126/126 [==============================] - 0s 2ms/step - loss: 15.7897 - root_mean_squared_error: 3.9736 - val_loss: 10.6057 - val_root_mean_squared_error: 3.2566\n",
            "Epoch 10/80\n",
            "126/126 [==============================] - 0s 2ms/step - loss: 15.7532 - root_mean_squared_error: 3.9690 - val_loss: 10.5652 - val_root_mean_squared_error: 3.2504\n",
            "Epoch 11/80\n",
            "126/126 [==============================] - 0s 2ms/step - loss: 15.7098 - root_mean_squared_error: 3.9636 - val_loss: 10.5453 - val_root_mean_squared_error: 3.2474\n",
            "Epoch 12/80\n",
            "126/126 [==============================] - 0s 3ms/step - loss: 15.6695 - root_mean_squared_error: 3.9585 - val_loss: 10.4971 - val_root_mean_squared_error: 3.2399\n",
            "Epoch 13/80\n",
            "126/126 [==============================] - 0s 2ms/step - loss: 15.6340 - root_mean_squared_error: 3.9540 - val_loss: 10.4666 - val_root_mean_squared_error: 3.2352\n",
            "Epoch 14/80\n",
            "126/126 [==============================] - 0s 2ms/step - loss: 15.5988 - root_mean_squared_error: 3.9495 - val_loss: 10.4450 - val_root_mean_squared_error: 3.2319\n",
            "Epoch 15/80\n",
            "126/126 [==============================] - 0s 2ms/step - loss: 15.5681 - root_mean_squared_error: 3.9456 - val_loss: 10.4545 - val_root_mean_squared_error: 3.2333\n",
            "Epoch 16/80\n",
            "126/126 [==============================] - 0s 2ms/step - loss: 15.5394 - root_mean_squared_error: 3.9420 - val_loss: 10.4273 - val_root_mean_squared_error: 3.2291\n",
            "Epoch 17/80\n",
            "126/126 [==============================] - 0s 2ms/step - loss: 15.5133 - root_mean_squared_error: 3.9387 - val_loss: 10.4049 - val_root_mean_squared_error: 3.2257\n",
            "Epoch 18/80\n",
            "126/126 [==============================] - 0s 2ms/step - loss: 15.4886 - root_mean_squared_error: 3.9356 - val_loss: 10.4013 - val_root_mean_squared_error: 3.2251\n",
            "Epoch 19/80\n",
            "126/126 [==============================] - 0s 3ms/step - loss: 15.4685 - root_mean_squared_error: 3.9330 - val_loss: 10.3812 - val_root_mean_squared_error: 3.2220\n",
            "Epoch 20/80\n",
            "126/126 [==============================] - 0s 2ms/step - loss: 15.4436 - root_mean_squared_error: 3.9298 - val_loss: 10.3601 - val_root_mean_squared_error: 3.2187\n",
            "Epoch 21/80\n",
            "126/126 [==============================] - 0s 3ms/step - loss: 15.4200 - root_mean_squared_error: 3.9268 - val_loss: 10.3590 - val_root_mean_squared_error: 3.2185\n",
            "Epoch 22/80\n",
            "126/126 [==============================] - 0s 3ms/step - loss: 15.3977 - root_mean_squared_error: 3.9240 - val_loss: 10.3266 - val_root_mean_squared_error: 3.2135\n",
            "Epoch 23/80\n",
            "126/126 [==============================] - 0s 3ms/step - loss: 15.3784 - root_mean_squared_error: 3.9215 - val_loss: 10.3258 - val_root_mean_squared_error: 3.2134\n",
            "Epoch 24/80\n",
            "126/126 [==============================] - 0s 3ms/step - loss: 15.3567 - root_mean_squared_error: 3.9188 - val_loss: 10.3028 - val_root_mean_squared_error: 3.2098\n",
            "Epoch 25/80\n",
            "126/126 [==============================] - 0s 3ms/step - loss: 15.3392 - root_mean_squared_error: 3.9165 - val_loss: 10.2965 - val_root_mean_squared_error: 3.2088\n",
            "Epoch 26/80\n",
            "126/126 [==============================] - 0s 3ms/step - loss: 15.3202 - root_mean_squared_error: 3.9141 - val_loss: 10.2827 - val_root_mean_squared_error: 3.2067\n",
            "Epoch 27/80\n",
            "126/126 [==============================] - 0s 3ms/step - loss: 15.3074 - root_mean_squared_error: 3.9125 - val_loss: 10.3303 - val_root_mean_squared_error: 3.2141\n",
            "Epoch 28/80\n",
            "126/126 [==============================] - 0s 3ms/step - loss: 15.2912 - root_mean_squared_error: 3.9104 - val_loss: 10.2680 - val_root_mean_squared_error: 3.2044\n",
            "Epoch 29/80\n",
            "126/126 [==============================] - 0s 3ms/step - loss: 15.2774 - root_mean_squared_error: 3.9086 - val_loss: 10.3069 - val_root_mean_squared_error: 3.2104\n",
            "Epoch 30/80\n",
            "126/126 [==============================] - 0s 3ms/step - loss: 15.2661 - root_mean_squared_error: 3.9072 - val_loss: 10.2924 - val_root_mean_squared_error: 3.2082\n",
            "Epoch 31/80\n",
            "126/126 [==============================] - 0s 3ms/step - loss: 15.2508 - root_mean_squared_error: 3.9052 - val_loss: 10.3054 - val_root_mean_squared_error: 3.2102\n",
            "Epoch 32/80\n",
            "126/126 [==============================] - 0s 3ms/step - loss: 15.2414 - root_mean_squared_error: 3.9040 - val_loss: 10.2455 - val_root_mean_squared_error: 3.2009\n",
            "Epoch 33/80\n",
            "126/126 [==============================] - 0s 3ms/step - loss: 15.2305 - root_mean_squared_error: 3.9026 - val_loss: 10.2832 - val_root_mean_squared_error: 3.2067\n",
            "Epoch 34/80\n",
            "126/126 [==============================] - 0s 3ms/step - loss: 15.2219 - root_mean_squared_error: 3.9015 - val_loss: 10.2460 - val_root_mean_squared_error: 3.2009\n",
            "Epoch 35/80\n",
            "126/126 [==============================] - 0s 3ms/step - loss: 15.2160 - root_mean_squared_error: 3.9008 - val_loss: 10.2395 - val_root_mean_squared_error: 3.1999\n",
            "Epoch 36/80\n",
            "126/126 [==============================] - 0s 2ms/step - loss: 15.2080 - root_mean_squared_error: 3.8997 - val_loss: 10.2377 - val_root_mean_squared_error: 3.1996\n",
            "Epoch 37/80\n",
            "126/126 [==============================] - 0s 3ms/step - loss: 15.1994 - root_mean_squared_error: 3.8986 - val_loss: 10.2356 - val_root_mean_squared_error: 3.1993\n",
            "Epoch 38/80\n",
            "126/126 [==============================] - 0s 2ms/step - loss: 15.1890 - root_mean_squared_error: 3.8973 - val_loss: 10.3054 - val_root_mean_squared_error: 3.2102\n",
            "Epoch 39/80\n",
            "126/126 [==============================] - 0s 2ms/step - loss: 15.1799 - root_mean_squared_error: 3.8961 - val_loss: 10.2370 - val_root_mean_squared_error: 3.1995\n",
            "Epoch 40/80\n",
            "126/126 [==============================] - 0s 2ms/step - loss: 15.1736 - root_mean_squared_error: 3.8953 - val_loss: 10.2540 - val_root_mean_squared_error: 3.2022\n",
            "Epoch 41/80\n",
            "126/126 [==============================] - 0s 2ms/step - loss: 15.1629 - root_mean_squared_error: 3.8940 - val_loss: 10.2335 - val_root_mean_squared_error: 3.1990\n",
            "Epoch 42/80\n",
            "126/126 [==============================] - 0s 2ms/step - loss: 15.1579 - root_mean_squared_error: 3.8933 - val_loss: 10.2344 - val_root_mean_squared_error: 3.1991\n",
            "Epoch 43/80\n",
            "126/126 [==============================] - 0s 2ms/step - loss: 15.1613 - root_mean_squared_error: 3.8937 - val_loss: 10.2089 - val_root_mean_squared_error: 3.1951\n",
            "Epoch 44/80\n",
            "126/126 [==============================] - 0s 2ms/step - loss: 15.1473 - root_mean_squared_error: 3.8919 - val_loss: 10.2429 - val_root_mean_squared_error: 3.2005\n",
            "Epoch 45/80\n",
            "126/126 [==============================] - 0s 3ms/step - loss: 15.1355 - root_mean_squared_error: 3.8904 - val_loss: 10.2568 - val_root_mean_squared_error: 3.2026\n",
            "Epoch 46/80\n",
            "126/126 [==============================] - 0s 2ms/step - loss: 15.1360 - root_mean_squared_error: 3.8905 - val_loss: 10.2089 - val_root_mean_squared_error: 3.1951\n",
            "Epoch 47/80\n",
            "126/126 [==============================] - 0s 2ms/step - loss: 15.1312 - root_mean_squared_error: 3.8899 - val_loss: 10.2229 - val_root_mean_squared_error: 3.1973\n",
            "Epoch 48/80\n",
            "126/126 [==============================] - 0s 2ms/step - loss: 15.1252 - root_mean_squared_error: 3.8891 - val_loss: 10.1975 - val_root_mean_squared_error: 3.1933\n",
            "Epoch 49/80\n",
            "126/126 [==============================] - 0s 3ms/step - loss: 15.1250 - root_mean_squared_error: 3.8891 - val_loss: 10.2316 - val_root_mean_squared_error: 3.1987\n",
            "Epoch 50/80\n",
            "126/126 [==============================] - 0s 3ms/step - loss: 15.1112 - root_mean_squared_error: 3.8873 - val_loss: 10.2325 - val_root_mean_squared_error: 3.1988\n",
            "Epoch 51/80\n",
            "126/126 [==============================] - 0s 3ms/step - loss: 15.1155 - root_mean_squared_error: 3.8879 - val_loss: 10.2277 - val_root_mean_squared_error: 3.1981\n",
            "Epoch 52/80\n",
            "126/126 [==============================] - 0s 3ms/step - loss: 15.1006 - root_mean_squared_error: 3.8860 - val_loss: 10.2449 - val_root_mean_squared_error: 3.2008\n",
            "Epoch 53/80\n",
            "126/126 [==============================] - 0s 3ms/step - loss: 15.0973 - root_mean_squared_error: 3.8855 - val_loss: 10.2065 - val_root_mean_squared_error: 3.1948\n",
            "Epoch 54/80\n",
            "126/126 [==============================] - 0s 3ms/step - loss: 15.0875 - root_mean_squared_error: 3.8843 - val_loss: 10.2176 - val_root_mean_squared_error: 3.1965\n",
            "Epoch 55/80\n",
            "126/126 [==============================] - 0s 2ms/step - loss: 15.0913 - root_mean_squared_error: 3.8847 - val_loss: 10.2234 - val_root_mean_squared_error: 3.1974\n",
            "Epoch 56/80\n",
            "126/126 [==============================] - 0s 3ms/step - loss: 15.0790 - root_mean_squared_error: 3.8832 - val_loss: 10.2156 - val_root_mean_squared_error: 3.1962\n",
            "Epoch 57/80\n",
            "126/126 [==============================] - 0s 3ms/step - loss: 15.0825 - root_mean_squared_error: 3.8836 - val_loss: 10.2283 - val_root_mean_squared_error: 3.1982\n",
            "Epoch 58/80\n",
            "126/126 [==============================] - 0s 3ms/step - loss: 15.0744 - root_mean_squared_error: 3.8826 - val_loss: 10.2007 - val_root_mean_squared_error: 3.1939\n",
            "Epoch 59/80\n",
            "126/126 [==============================] - 0s 3ms/step - loss: 15.0696 - root_mean_squared_error: 3.8820 - val_loss: 10.2284 - val_root_mean_squared_error: 3.1982\n",
            "Epoch 60/80\n",
            "126/126 [==============================] - 0s 3ms/step - loss: 15.0636 - root_mean_squared_error: 3.8812 - val_loss: 10.2290 - val_root_mean_squared_error: 3.1983\n",
            "Epoch 61/80\n",
            "126/126 [==============================] - 0s 2ms/step - loss: 15.0703 - root_mean_squared_error: 3.8821 - val_loss: 10.2011 - val_root_mean_squared_error: 3.1939\n",
            "Epoch 62/80\n",
            "126/126 [==============================] - 0s 3ms/step - loss: 15.0575 - root_mean_squared_error: 3.8804 - val_loss: 10.2690 - val_root_mean_squared_error: 3.2045\n",
            "Epoch 63/80\n",
            "126/126 [==============================] - 0s 3ms/step - loss: 15.0500 - root_mean_squared_error: 3.8794 - val_loss: 10.1995 - val_root_mean_squared_error: 3.1937\n",
            "Epoch 64/80\n",
            "126/126 [==============================] - 0s 3ms/step - loss: 15.0448 - root_mean_squared_error: 3.8788 - val_loss: 10.2620 - val_root_mean_squared_error: 3.2034\n",
            "Epoch 65/80\n",
            "126/126 [==============================] - 0s 3ms/step - loss: 15.0531 - root_mean_squared_error: 3.8798 - val_loss: 10.2358 - val_root_mean_squared_error: 3.1993\n",
            "Epoch 66/80\n",
            "126/126 [==============================] - 0s 2ms/step - loss: 15.0434 - root_mean_squared_error: 3.8786 - val_loss: 10.2470 - val_root_mean_squared_error: 3.2011\n",
            "Epoch 67/80\n",
            "126/126 [==============================] - 0s 2ms/step - loss: 15.0347 - root_mean_squared_error: 3.8775 - val_loss: 10.2138 - val_root_mean_squared_error: 3.1959\n",
            "Epoch 68/80\n",
            "126/126 [==============================] - 0s 3ms/step - loss: 15.0311 - root_mean_squared_error: 3.8770 - val_loss: 10.2210 - val_root_mean_squared_error: 3.1970\n",
            "Epoch 69/80\n",
            "126/126 [==============================] - 0s 2ms/step - loss: 15.0308 - root_mean_squared_error: 3.8770 - val_loss: 10.2123 - val_root_mean_squared_error: 3.1957\n",
            "Epoch 70/80\n",
            "126/126 [==============================] - 0s 2ms/step - loss: 15.0233 - root_mean_squared_error: 3.8760 - val_loss: 10.2358 - val_root_mean_squared_error: 3.1993\n",
            "Epoch 71/80\n",
            "126/126 [==============================] - 0s 3ms/step - loss: 15.0242 - root_mean_squared_error: 3.8761 - val_loss: 10.1902 - val_root_mean_squared_error: 3.1922\n",
            "Epoch 72/80\n",
            "126/126 [==============================] - 0s 3ms/step - loss: 15.0133 - root_mean_squared_error: 3.8747 - val_loss: 10.1932 - val_root_mean_squared_error: 3.1927\n",
            "Epoch 73/80\n",
            "126/126 [==============================] - 0s 3ms/step - loss: 15.0044 - root_mean_squared_error: 3.8736 - val_loss: 10.2069 - val_root_mean_squared_error: 3.1948\n",
            "Epoch 74/80\n",
            "126/126 [==============================] - 0s 3ms/step - loss: 15.0118 - root_mean_squared_error: 3.8745 - val_loss: 10.2231 - val_root_mean_squared_error: 3.1974\n",
            "Epoch 75/80\n",
            "126/126 [==============================] - 0s 3ms/step - loss: 15.0069 - root_mean_squared_error: 3.8739 - val_loss: 10.1875 - val_root_mean_squared_error: 3.1918\n",
            "Epoch 76/80\n",
            "126/126 [==============================] - 0s 3ms/step - loss: 15.0088 - root_mean_squared_error: 3.8741 - val_loss: 10.2193 - val_root_mean_squared_error: 3.1968\n",
            "Epoch 77/80\n",
            "126/126 [==============================] - 0s 2ms/step - loss: 14.9976 - root_mean_squared_error: 3.8727 - val_loss: 10.2475 - val_root_mean_squared_error: 3.2012\n",
            "Epoch 78/80\n",
            "126/126 [==============================] - 0s 3ms/step - loss: 14.9960 - root_mean_squared_error: 3.8725 - val_loss: 10.2438 - val_root_mean_squared_error: 3.2006\n",
            "Epoch 79/80\n",
            "126/126 [==============================] - 0s 3ms/step - loss: 14.9981 - root_mean_squared_error: 3.8727 - val_loss: 10.2390 - val_root_mean_squared_error: 3.1998\n",
            "Epoch 80/80\n",
            "126/126 [==============================] - 0s 3ms/step - loss: 14.9888 - root_mean_squared_error: 3.8715 - val_loss: 10.2425 - val_root_mean_squared_error: 3.2004\n",
            "CPU times: user 31.1 s, sys: 1.29 s, total: 32.3 s\n",
            "Wall time: 43 s\n"
          ]
        },
        {
          "output_type": "execute_result",
          "data": {
            "text/plain": [
              "<keras.callbacks.History at 0x7f164cec3e80>"
            ]
          },
          "metadata": {},
          "execution_count": 221
        }
      ],
      "source": [
        "%%time\n",
        "tf.keras.utils.set_random_seed(seed)\n",
        "\n",
        "model = keras.Sequential([keras.Input(shape=x_test.shape[1]), \n",
        "                          layers.Dense(7, activation=activations.relu), \n",
        "                          layers.Dense(15, activation=activations.relu),\n",
        "                          layers.Dense(15, activation=activations.relu), \n",
        "                          layers.Dense(15, activation=activations.relu),\n",
        "                          layers.Dense(7, activation=activations.relu), \n",
        "                          layers.Dense(5, activation=activations.relu), \n",
        "                          layers.Dense(1)])\n",
        "\n",
        "model.compile(loss='mse', optimizer='adamax', metrics=[tf.keras.metrics.RootMeanSquaredError()])\n",
        "\n",
        "model.fit(x_train, y_train, epochs=80, validation_split=0.05, batch_size=512, verbose=1 )"
      ]
    },
    {
      "cell_type": "code",
      "source": [
        "preds_ker = model.predict(x_test)\n",
        "\n",
        "scores = model.evaluate(x_test, y_test, batch_size=512)\n",
        "R2_keras = r2_score(y_test, preds_ker)\n",
        "print('R2: ', R2_keras)"
      ],
      "metadata": {
        "colab": {
          "base_uri": "https://localhost:8080/"
        },
        "id": "neWr0TifuIko",
        "outputId": "c541f1d8-8052-4ef7-a76d-3df468a62bff"
      },
      "execution_count": 222,
      "outputs": [
        {
          "output_type": "stream",
          "name": "stdout",
          "text": [
            "112/112 [==============================] - 0s 1ms/step\n",
            "7/7 [==============================] - 0s 2ms/step - loss: 18.6395 - root_mean_squared_error: 4.3173\n",
            "R2:  0.07261832434868254\n"
          ]
        }
      ]
    },
    {
      "cell_type": "code",
      "source": [
        "plt.plot(y_test, preds_ker, 'o', c = 'b', label = 'Keras pred distr')\n",
        "\n",
        "plt.ylabel('preds');  \n",
        "plt.xlabel('y_test');\n",
        "    \n",
        "plt.legend(loc = 'upper right');"
      ],
      "metadata": {
        "colab": {
          "base_uri": "https://localhost:8080/",
          "height": 280
        },
        "id": "wFbJNEfcW2fS",
        "outputId": "bd0a466f-8490-4fa9-d7d1-c1997881214b"
      },
      "execution_count": 223,
      "outputs": [
        {
          "output_type": "display_data",
          "data": {
            "text/plain": [
              "<Figure size 432x288 with 1 Axes>"
            ],
            "image/png": "[encoded data removed]"
          },
          "metadata": {
            "needs_background": "light"
          }
        }
      ]
    },
    {
      "cell_type": "markdown",
      "source": [
        "Set res: etalon"
      ],
      "metadata": {
        "id": "TcnCj_ePlndN"
      }
    },
    {
      "cell_type": "code",
      "source": [
        "preds_ker = model.predict(x_test)\n",
        "\n",
        "scores = model.evaluate(x_test, y_test, batch_size=512)\n",
        "R2_keras = r2_score(y_test, preds_ker)\n",
        "print('R2: ', R2_keras)"
      ],
      "metadata": {
        "colab": {
          "base_uri": "https://localhost:8080/"
        },
        "id": "WtfixTsyliN1",
        "outputId": "6e223878-07d1-4c7f-8120-0d91934cb0c0"
      },
      "execution_count": null,
      "outputs": [
        {
          "output_type": "stream",
          "name": "stdout",
          "text": [
            "232/232 [==============================] - 1s 2ms/step\n",
            "15/15 [==============================] - 0s 3ms/step - loss: 17.8289 - root_mean_squared_error: 4.2224\n",
            "R2:  0.040498787702291095\n"
          ]
        }
      ]
    },
    {
      "cell_type": "code",
      "source": [
        "plt.plot(y_test, preds_ker, 'o', c = 'b', label = 'Keras pred distr')\n",
        "\n",
        "plt.ylabel('preds');  \n",
        "plt.xlabel('y_test');\n",
        "    \n",
        "plt.legend(loc = 'upper right');"
      ],
      "metadata": {
        "colab": {
          "base_uri": "https://localhost:8080/",
          "height": 280
        },
        "id": "UUTE_FCMlnLl",
        "outputId": "13f94cd6-26da-4200-ef05-09ffc4dcca2f"
      },
      "execution_count": null,
      "outputs": [
        {
          "output_type": "display_data",
          "data": {
            "text/plain": [
              "<Figure size 432x288 with 1 Axes>"
            ],
            "image/png": "[encoded data removed]"
          },
          "metadata": {
            "needs_background": "light"
          }
        }
      ]
    },
    {
      "cell_type": "markdown",
      "metadata": {
        "id": "XHs9YXdCWtWp"
      },
      "source": [
        "## RF"
      ]
    },
    {
      "cell_type": "code",
      "execution_count": 216,
      "metadata": {
        "id": "ENxAhNAA0BNM"
      },
      "outputs": [],
      "source": [
        "def RMSE_ar(pred, true):  \n",
        "    dev = (pred-true)**2    \n",
        "    return np.sqrt(dev.mean())"
      ]
    },
    {
      "cell_type": "code",
      "execution_count": 224,
      "metadata": {
        "id": "1rH7-kn9WtJi",
        "colab": {
          "base_uri": "https://localhost:8080/"
        },
        "outputId": "f36ee11a-5eff-4af2-8585-9fba26ff4bd3"
      },
      "outputs": [
        {
          "output_type": "stream",
          "name": "stdout",
          "text": [
            "CPU times: user 5min 54s, sys: 458 ms, total: 5min 55s\n",
            "Wall time: 5min 55s\n"
          ]
        }
      ],
      "source": [
        "%%time\n",
        "RF_Reg = RandomForestRegressor(n_estimators = 500, criterion='squared_error', random_state=seed, min_samples_split=5) # random_state=seed\n",
        "RF_Reg.fit(x_train, y_train)\n",
        "\n",
        "preds_rf = RF_Reg.predict(x_test)"
      ]
    },
    {
      "cell_type": "code",
      "source": [
        "# RF_Reg = RandomForestRegressor(n_estimators = 500, criterion='squared_error', random_state=42, min_samples_split=5)\n",
        "RMSE_r = RMSE_ar(y_test, preds_rf)\n",
        "R2_RF = sklearn.metrics.r2_score(y_test, preds_rf)\n",
        "print(R2_RF, RMSE_r) "
      ],
      "metadata": {
        "colab": {
          "base_uri": "https://localhost:8080/"
        },
        "id": "w4SOzzYVsHTo",
        "outputId": "e2862188-f334-4e01-a464-427529e90de3"
      },
      "execution_count": 227,
      "outputs": [
        {
          "output_type": "stream",
          "name": "stdout",
          "text": [
            "0.15032766106655748 4.132506749571259\n"
          ]
        }
      ]
    },
    {
      "cell_type": "code",
      "source": [
        "plt.plot(y_test, preds_rf, 'o', c = 'b', label = 'RF pred distr')\n",
        "    \n",
        "plt.ylabel('preds');  \n",
        "plt.xlabel('y_test');\n",
        "    \n",
        "plt.legend(loc = 'upper right');"
      ],
      "metadata": {
        "colab": {
          "base_uri": "https://localhost:8080/",
          "height": 280
        },
        "id": "jVV_DZfNwl1Z",
        "outputId": "cb32015a-8110-4538-f359-062a122bd1a0"
      },
      "execution_count": 228,
      "outputs": [
        {
          "output_type": "display_data",
          "data": {
            "text/plain": [
              "<Figure size 432x288 with 1 Axes>"
            ],
            "image/png": "[encoded data removed]"
          },
          "metadata": {
            "needs_background": "light"
          }
        }
      ]
    },
    {
      "cell_type": "markdown",
      "source": [
        "Etalon:"
      ],
      "metadata": {
        "id": "GU-tfAvywiyY"
      }
    },
    {
      "cell_type": "code",
      "execution_count": null,
      "metadata": {
        "id": "JVLIAn5TxLfu",
        "colab": {
          "base_uri": "https://localhost:8080/"
        },
        "outputId": "68e0be72-67ec-4750-d83b-619a3a01e29a"
      },
      "outputs": [
        {
          "output_type": "stream",
          "name": "stdout",
          "text": [
            "0.12449366463784195 4.033381542660547\n"
          ]
        }
      ],
      "source": [
        "# RF_Reg = RandomForestRegressor(n_estimators = 500, criterion='squared_error', random_state=42, min_samples_split=5)\n",
        "RMSE_r = RMSE_ar(y_test, preds_rf)\n",
        "R2_RF = sklearn.metrics.r2_score(y_test, preds_rf)\n",
        "print(R2_RF, RMSE_r) "
      ]
    },
    {
      "cell_type": "code",
      "source": [
        "plt.plot(y_test, preds_rf, 'o', c = 'b', label = 'RF pred distr')\n",
        "    \n",
        "plt.ylabel('preds');  \n",
        "plt.xlabel('y_test');\n",
        "    \n",
        "plt.legend(loc = 'upper right');"
      ],
      "metadata": {
        "colab": {
          "base_uri": "https://localhost:8080/",
          "height": 280
        },
        "id": "Opc-Ks30WIbl",
        "outputId": "14fbbd1a-403d-4f4c-f340-1d5f9b71b166"
      },
      "execution_count": null,
      "outputs": [
        {
          "output_type": "display_data",
          "data": {
            "text/plain": [
              "<Figure size 432x288 with 1 Axes>"
            ],
            "image/png": "[encoded data removed]"
          },
          "metadata": {
            "needs_background": "light"
          }
        }
      ]
    },
    {
      "cell_type": "markdown",
      "source": [
        "## Elastic Net "
      ],
      "metadata": {
        "id": "DQ8XeyQbO3XB"
      }
    },
    {
      "cell_type": "code",
      "source": [
        "from sklearn.linear_model import ElasticNetCV\n",
        "\n",
        "ENet = ElasticNetCV(l1_ratio=0.35, eps=0.0005, n_alphas=150, max_iter=100000, cv=None, copy_X=True, verbose=0, random_state=seed)\n",
        "ENet.fit(x_train, y_train)"
      ],
      "metadata": {
        "colab": {
          "base_uri": "https://localhost:8080/",
          "height": 380
        },
        "id": "Jp76bmLVO8XS",
        "outputId": "64f508d0-cfa1-424f-8a7c-97a9293894fa"
      },
      "execution_count": 229,
      "outputs": [
        {
          "output_type": "error",
          "ename": "ValueError",
          "evalue": "ignored",
          "traceback": [
            "\u001b[0;31m---------------------------------------------------------------------------\u001b[0m",
            "\u001b[0;31mValueError\u001b[0m                                Traceback (most recent call last)",
            "\u001b[0;32m<ipython-input-229-957f172c2f88>\u001b[0m in \u001b[0;36m<module>\u001b[0;34m\u001b[0m\n\u001b[1;32m      2\u001b[0m \u001b[0;34m\u001b[0m\u001b[0m\n\u001b[1;32m      3\u001b[0m \u001b[0mENet\u001b[0m \u001b[0;34m=\u001b[0m \u001b[0mElasticNetCV\u001b[0m\u001b[0;34m(\u001b[0m\u001b[0ml1_ratio\u001b[0m\u001b[0;34m=\u001b[0m\u001b[0;36m0.35\u001b[0m\u001b[0;34m,\u001b[0m \u001b[0meps\u001b[0m\u001b[0;34m=\u001b[0m\u001b[0;36m0.0005\u001b[0m\u001b[0;34m,\u001b[0m \u001b[0mn_alphas\u001b[0m\u001b[0;34m=\u001b[0m\u001b[0;36m150\u001b[0m\u001b[0;34m,\u001b[0m \u001b[0mmax_iter\u001b[0m\u001b[0;34m=\u001b[0m\u001b[0;36m100000\u001b[0m\u001b[0;34m,\u001b[0m \u001b[0mcv\u001b[0m\u001b[0;34m=\u001b[0m\u001b[0;32mNone\u001b[0m\u001b[0;34m,\u001b[0m \u001b[0mcopy_X\u001b[0m\u001b[0;34m=\u001b[0m\u001b[0;32mTrue\u001b[0m\u001b[0;34m,\u001b[0m \u001b[0mverbose\u001b[0m\u001b[0;34m=\u001b[0m\u001b[0;36m0\u001b[0m\u001b[0;34m,\u001b[0m \u001b[0mrandom_state\u001b[0m\u001b[0;34m=\u001b[0m\u001b[0mseed\u001b[0m\u001b[0;34m)\u001b[0m\u001b[0;34m\u001b[0m\u001b[0;34m\u001b[0m\u001b[0m\n\u001b[0;32m----> 4\u001b[0;31m \u001b[0mENet\u001b[0m\u001b[0;34m.\u001b[0m\u001b[0mfit\u001b[0m\u001b[0;34m(\u001b[0m\u001b[0mx_train\u001b[0m\u001b[0;34m,\u001b[0m \u001b[0my_train\u001b[0m\u001b[0;34m)\u001b[0m\u001b[0;34m\u001b[0m\u001b[0;34m\u001b[0m\u001b[0m\n\u001b[0m",
            "\u001b[0;32m/usr/local/lib/python3.8/dist-packages/sklearn/linear_model/_coordinate_descent.py\u001b[0m in \u001b[0;36mfit\u001b[0;34m(self, X, y, sample_weight)\u001b[0m\n\u001b[1;32m   1668\u001b[0m             \u001b[0;32mfor\u001b[0m \u001b[0mtrain\u001b[0m\u001b[0;34m,\u001b[0m \u001b[0mtest\u001b[0m \u001b[0;32min\u001b[0m \u001b[0mfolds\u001b[0m\u001b[0;34m\u001b[0m\u001b[0;34m\u001b[0m\u001b[0m\n\u001b[1;32m   1669\u001b[0m         )\n\u001b[0;32m-> 1670\u001b[0;31m         mse_paths = Parallel(\n\u001b[0m\u001b[1;32m   1671\u001b[0m             \u001b[0mn_jobs\u001b[0m\u001b[0;34m=\u001b[0m\u001b[0mself\u001b[0m\u001b[0;34m.\u001b[0m\u001b[0mn_jobs\u001b[0m\u001b[0;34m,\u001b[0m\u001b[0;34m\u001b[0m\u001b[0;34m\u001b[0m\u001b[0m\n\u001b[1;32m   1672\u001b[0m             \u001b[0mverbose\u001b[0m\u001b[0;34m=\u001b[0m\u001b[0mself\u001b[0m\u001b[0;34m.\u001b[0m\u001b[0mverbose\u001b[0m\u001b[0;34m,\u001b[0m\u001b[0;34m\u001b[0m\u001b[0;34m\u001b[0m\u001b[0m\n",
            "\u001b[0;32m/usr/local/lib/python3.8/dist-packages/joblib/parallel.py\u001b[0m in \u001b[0;36m__call__\u001b[0;34m(self, iterable)\u001b[0m\n\u001b[1;32m   1083\u001b[0m             \u001b[0;31m# remaining jobs.\u001b[0m\u001b[0;34m\u001b[0m\u001b[0;34m\u001b[0m\u001b[0;34m\u001b[0m\u001b[0m\n\u001b[1;32m   1084\u001b[0m             \u001b[0mself\u001b[0m\u001b[0;34m.\u001b[0m\u001b[0m_iterating\u001b[0m \u001b[0;34m=\u001b[0m \u001b[0;32mFalse\u001b[0m\u001b[0;34m\u001b[0m\u001b[0;34m\u001b[0m\u001b[0m\n\u001b[0;32m-> 1085\u001b[0;31m             \u001b[0;32mif\u001b[0m \u001b[0mself\u001b[0m\u001b[0;34m.\u001b[0m\u001b[0mdispatch_one_batch\u001b[0m\u001b[0;34m(\u001b[0m\u001b[0miterator\u001b[0m\u001b[0;34m)\u001b[0m\u001b[0;34m:\u001b[0m\u001b[0;34m\u001b[0m\u001b[0;34m\u001b[0m\u001b[0m\n\u001b[0m\u001b[1;32m   1086\u001b[0m                 \u001b[0mself\u001b[0m\u001b[0;34m.\u001b[0m\u001b[0m_iterating\u001b[0m \u001b[0;34m=\u001b[0m \u001b[0mself\u001b[0m\u001b[0;34m.\u001b[0m\u001b[0m_original_iterator\u001b[0m \u001b[0;32mis\u001b[0m \u001b[0;32mnot\u001b[0m \u001b[0;32mNone\u001b[0m\u001b[0;34m\u001b[0m\u001b[0;34m\u001b[0m\u001b[0m\n\u001b[1;32m   1087\u001b[0m \u001b[0;34m\u001b[0m\u001b[0m\n",
            "\u001b[0;32m/usr/local/lib/python3.8/dist-packages/joblib/parallel.py\u001b[0m in \u001b[0;36mdispatch_one_batch\u001b[0;34m(self, iterator)\u001b[0m\n\u001b[1;32m    899\u001b[0m                 \u001b[0;32mreturn\u001b[0m \u001b[0;32mFalse\u001b[0m\u001b[0;34m\u001b[0m\u001b[0;34m\u001b[0m\u001b[0m\n\u001b[1;32m    900\u001b[0m             \u001b[0;32melse\u001b[0m\u001b[0;34m:\u001b[0m\u001b[0;34m\u001b[0m\u001b[0;34m\u001b[0m\u001b[0m\n\u001b[0;32m--> 901\u001b[0;31m                 \u001b[0mself\u001b[0m\u001b[0;34m.\u001b[0m\u001b[0m_dispatch\u001b[0m\u001b[0;34m(\u001b[0m\u001b[0mtasks\u001b[0m\u001b[0;34m)\u001b[0m\u001b[0;34m\u001b[0m\u001b[0;34m\u001b[0m\u001b[0m\n\u001b[0m\u001b[1;32m    902\u001b[0m                 \u001b[0;32mreturn\u001b[0m \u001b[0;32mTrue\u001b[0m\u001b[0;34m\u001b[0m\u001b[0;34m\u001b[0m\u001b[0m\n\u001b[1;32m    903\u001b[0m \u001b[0;34m\u001b[0m\u001b[0m\n",
            "\u001b[0;32m/usr/local/lib/python3.8/dist-packages/joblib/parallel.py\u001b[0m in \u001b[0;36m_dispatch\u001b[0;34m(self, batch)\u001b[0m\n\u001b[1;32m    817\u001b[0m         \u001b[0;32mwith\u001b[0m \u001b[0mself\u001b[0m\u001b[0;34m.\u001b[0m\u001b[0m_lock\u001b[0m\u001b[0;34m:\u001b[0m\u001b[0;34m\u001b[0m\u001b[0;34m\u001b[0m\u001b[0m\n\u001b[1;32m    818\u001b[0m             \u001b[0mjob_idx\u001b[0m \u001b[0;34m=\u001b[0m \u001b[0mlen\u001b[0m\u001b[0;34m(\u001b[0m\u001b[0mself\u001b[0m\u001b[0;34m.\u001b[0m\u001b[0m_jobs\u001b[0m\u001b[0;34m)\u001b[0m\u001b[0;34m\u001b[0m\u001b[0;34m\u001b[0m\u001b[0m\n\u001b[0;32m--> 819\u001b[0;31m             \u001b[0mjob\u001b[0m \u001b[0;34m=\u001b[0m \u001b[0mself\u001b[0m\u001b[0;34m.\u001b[0m\u001b[0m_backend\u001b[0m\u001b[0;34m.\u001b[0m\u001b[0mapply_async\u001b[0m\u001b[0;34m(\u001b[0m\u001b[0mbatch\u001b[0m\u001b[0;34m,\u001b[0m \u001b[0mcallback\u001b[0m\u001b[0;34m=\u001b[0m\u001b[0mcb\u001b[0m\u001b[0;34m)\u001b[0m\u001b[0;34m\u001b[0m\u001b[0;34m\u001b[0m\u001b[0m\n\u001b[0m\u001b[1;32m    820\u001b[0m             \u001b[0;31m# A job can complete so quickly than its callback is\u001b[0m\u001b[0;34m\u001b[0m\u001b[0;34m\u001b[0m\u001b[0;34m\u001b[0m\u001b[0m\n\u001b[1;32m    821\u001b[0m             \u001b[0;31m# called before we get here, causing self._jobs to\u001b[0m\u001b[0;34m\u001b[0m\u001b[0;34m\u001b[0m\u001b[0;34m\u001b[0m\u001b[0m\n",
            "\u001b[0;32m/usr/local/lib/python3.8/dist-packages/joblib/_parallel_backends.py\u001b[0m in \u001b[0;36mapply_async\u001b[0;34m(self, func, callback)\u001b[0m\n\u001b[1;32m    206\u001b[0m     \u001b[0;32mdef\u001b[0m \u001b[0mapply_async\u001b[0m\u001b[0;34m(\u001b[0m\u001b[0mself\u001b[0m\u001b[0;34m,\u001b[0m \u001b[0mfunc\u001b[0m\u001b[0;34m,\u001b[0m \u001b[0mcallback\u001b[0m\u001b[0;34m=\u001b[0m\u001b[0;32mNone\u001b[0m\u001b[0;34m)\u001b[0m\u001b[0;34m:\u001b[0m\u001b[0;34m\u001b[0m\u001b[0;34m\u001b[0m\u001b[0m\n\u001b[1;32m    207\u001b[0m         \u001b[0;34m\"\"\"Schedule a func to be run\"\"\"\u001b[0m\u001b[0;34m\u001b[0m\u001b[0;34m\u001b[0m\u001b[0m\n\u001b[0;32m--> 208\u001b[0;31m         \u001b[0mresult\u001b[0m \u001b[0;34m=\u001b[0m \u001b[0mImmediateResult\u001b[0m\u001b[0;34m(\u001b[0m\u001b[0mfunc\u001b[0m\u001b[0;34m)\u001b[0m\u001b[0;34m\u001b[0m\u001b[0;34m\u001b[0m\u001b[0m\n\u001b[0m\u001b[1;32m    209\u001b[0m         \u001b[0;32mif\u001b[0m \u001b[0mcallback\u001b[0m\u001b[0;34m:\u001b[0m\u001b[0;34m\u001b[0m\u001b[0;34m\u001b[0m\u001b[0m\n\u001b[1;32m    210\u001b[0m             \u001b[0mcallback\u001b[0m\u001b[0;34m(\u001b[0m\u001b[0mresult\u001b[0m\u001b[0;34m)\u001b[0m\u001b[0;34m\u001b[0m\u001b[0;34m\u001b[0m\u001b[0m\n",
            "\u001b[0;32m/usr/local/lib/python3.8/dist-packages/joblib/_parallel_backends.py\u001b[0m in \u001b[0;36m__init__\u001b[0;34m(self, batch)\u001b[0m\n\u001b[1;32m    595\u001b[0m         \u001b[0;31m# Don't delay the application, to avoid keeping the input\u001b[0m\u001b[0;34m\u001b[0m\u001b[0;34m\u001b[0m\u001b[0;34m\u001b[0m\u001b[0m\n\u001b[1;32m    596\u001b[0m         \u001b[0;31m# arguments in memory\u001b[0m\u001b[0;34m\u001b[0m\u001b[0;34m\u001b[0m\u001b[0;34m\u001b[0m\u001b[0m\n\u001b[0;32m--> 597\u001b[0;31m         \u001b[0mself\u001b[0m\u001b[0;34m.\u001b[0m\u001b[0mresults\u001b[0m \u001b[0;34m=\u001b[0m \u001b[0mbatch\u001b[0m\u001b[0;34m(\u001b[0m\u001b[0;34m)\u001b[0m\u001b[0;34m\u001b[0m\u001b[0;34m\u001b[0m\u001b[0m\n\u001b[0m\u001b[1;32m    598\u001b[0m \u001b[0;34m\u001b[0m\u001b[0m\n\u001b[1;32m    599\u001b[0m     \u001b[0;32mdef\u001b[0m \u001b[0mget\u001b[0m\u001b[0;34m(\u001b[0m\u001b[0mself\u001b[0m\u001b[0;34m)\u001b[0m\u001b[0;34m:\u001b[0m\u001b[0;34m\u001b[0m\u001b[0;34m\u001b[0m\u001b[0m\n",
            "\u001b[0;32m/usr/local/lib/python3.8/dist-packages/joblib/parallel.py\u001b[0m in \u001b[0;36m__call__\u001b[0;34m(self)\u001b[0m\n\u001b[1;32m    286\u001b[0m         \u001b[0;31m# change the default number of processes to -1\u001b[0m\u001b[0;34m\u001b[0m\u001b[0;34m\u001b[0m\u001b[0;34m\u001b[0m\u001b[0m\n\u001b[1;32m    287\u001b[0m         \u001b[0;32mwith\u001b[0m \u001b[0mparallel_backend\u001b[0m\u001b[0;34m(\u001b[0m\u001b[0mself\u001b[0m\u001b[0;34m.\u001b[0m\u001b[0m_backend\u001b[0m\u001b[0;34m,\u001b[0m \u001b[0mn_jobs\u001b[0m\u001b[0;34m=\u001b[0m\u001b[0mself\u001b[0m\u001b[0;34m.\u001b[0m\u001b[0m_n_jobs\u001b[0m\u001b[0;34m)\u001b[0m\u001b[0;34m:\u001b[0m\u001b[0;34m\u001b[0m\u001b[0;34m\u001b[0m\u001b[0m\n\u001b[0;32m--> 288\u001b[0;31m             return [func(*args, **kwargs)\n\u001b[0m\u001b[1;32m    289\u001b[0m                     for func, args, kwargs in self.items]\n\u001b[1;32m    290\u001b[0m \u001b[0;34m\u001b[0m\u001b[0m\n",
            "\u001b[0;32m/usr/local/lib/python3.8/dist-packages/joblib/parallel.py\u001b[0m in \u001b[0;36m<listcomp>\u001b[0;34m(.0)\u001b[0m\n\u001b[1;32m    286\u001b[0m         \u001b[0;31m# change the default number of processes to -1\u001b[0m\u001b[0;34m\u001b[0m\u001b[0;34m\u001b[0m\u001b[0;34m\u001b[0m\u001b[0m\n\u001b[1;32m    287\u001b[0m         \u001b[0;32mwith\u001b[0m \u001b[0mparallel_backend\u001b[0m\u001b[0;34m(\u001b[0m\u001b[0mself\u001b[0m\u001b[0;34m.\u001b[0m\u001b[0m_backend\u001b[0m\u001b[0;34m,\u001b[0m \u001b[0mn_jobs\u001b[0m\u001b[0;34m=\u001b[0m\u001b[0mself\u001b[0m\u001b[0;34m.\u001b[0m\u001b[0m_n_jobs\u001b[0m\u001b[0;34m)\u001b[0m\u001b[0;34m:\u001b[0m\u001b[0;34m\u001b[0m\u001b[0;34m\u001b[0m\u001b[0m\n\u001b[0;32m--> 288\u001b[0;31m             return [func(*args, **kwargs)\n\u001b[0m\u001b[1;32m    289\u001b[0m                     for func, args, kwargs in self.items]\n\u001b[1;32m    290\u001b[0m \u001b[0;34m\u001b[0m\u001b[0m\n",
            "\u001b[0;32m/usr/local/lib/python3.8/dist-packages/sklearn/utils/fixes.py\u001b[0m in \u001b[0;36m__call__\u001b[0;34m(self, *args, **kwargs)\u001b[0m\n\u001b[1;32m    214\u001b[0m     \u001b[0;32mdef\u001b[0m \u001b[0m__call__\u001b[0m\u001b[0;34m(\u001b[0m\u001b[0mself\u001b[0m\u001b[0;34m,\u001b[0m \u001b[0;34m*\u001b[0m\u001b[0margs\u001b[0m\u001b[0;34m,\u001b[0m \u001b[0;34m**\u001b[0m\u001b[0mkwargs\u001b[0m\u001b[0;34m)\u001b[0m\u001b[0;34m:\u001b[0m\u001b[0;34m\u001b[0m\u001b[0;34m\u001b[0m\u001b[0m\n\u001b[1;32m    215\u001b[0m         \u001b[0;32mwith\u001b[0m \u001b[0mconfig_context\u001b[0m\u001b[0;34m(\u001b[0m\u001b[0;34m**\u001b[0m\u001b[0mself\u001b[0m\u001b[0;34m.\u001b[0m\u001b[0mconfig\u001b[0m\u001b[0;34m)\u001b[0m\u001b[0;34m:\u001b[0m\u001b[0;34m\u001b[0m\u001b[0;34m\u001b[0m\u001b[0m\n\u001b[0;32m--> 216\u001b[0;31m             \u001b[0;32mreturn\u001b[0m \u001b[0mself\u001b[0m\u001b[0;34m.\u001b[0m\u001b[0mfunction\u001b[0m\u001b[0;34m(\u001b[0m\u001b[0;34m*\u001b[0m\u001b[0margs\u001b[0m\u001b[0;34m,\u001b[0m \u001b[0;34m**\u001b[0m\u001b[0mkwargs\u001b[0m\u001b[0;34m)\u001b[0m\u001b[0;34m\u001b[0m\u001b[0;34m\u001b[0m\u001b[0m\n\u001b[0m\u001b[1;32m    217\u001b[0m \u001b[0;34m\u001b[0m\u001b[0m\n\u001b[1;32m    218\u001b[0m \u001b[0;34m\u001b[0m\u001b[0m\n",
            "\u001b[0;32m/usr/local/lib/python3.8/dist-packages/sklearn/linear_model/_coordinate_descent.py\u001b[0m in \u001b[0;36m_path_residuals\u001b[0;34m(X, y, sample_weight, train, test, normalize, fit_intercept, path, path_params, alphas, l1_ratio, X_order, dtype)\u001b[0m\n\u001b[1;32m   1400\u001b[0m     \u001b[0;31m# X is copied and a reference is kept here\u001b[0m\u001b[0;34m\u001b[0m\u001b[0;34m\u001b[0m\u001b[0;34m\u001b[0m\u001b[0m\n\u001b[1;32m   1401\u001b[0m     \u001b[0mX_train\u001b[0m \u001b[0;34m=\u001b[0m \u001b[0mcheck_array\u001b[0m\u001b[0;34m(\u001b[0m\u001b[0mX_train\u001b[0m\u001b[0;34m,\u001b[0m \u001b[0maccept_sparse\u001b[0m\u001b[0;34m=\u001b[0m\u001b[0;34m\"csc\"\u001b[0m\u001b[0;34m,\u001b[0m \u001b[0mdtype\u001b[0m\u001b[0;34m=\u001b[0m\u001b[0mdtype\u001b[0m\u001b[0;34m,\u001b[0m \u001b[0morder\u001b[0m\u001b[0;34m=\u001b[0m\u001b[0mX_order\u001b[0m\u001b[0;34m)\u001b[0m\u001b[0;34m\u001b[0m\u001b[0;34m\u001b[0m\u001b[0m\n\u001b[0;32m-> 1402\u001b[0;31m     \u001b[0malphas\u001b[0m\u001b[0;34m,\u001b[0m \u001b[0mcoefs\u001b[0m\u001b[0;34m,\u001b[0m \u001b[0m_\u001b[0m \u001b[0;34m=\u001b[0m \u001b[0mpath\u001b[0m\u001b[0;34m(\u001b[0m\u001b[0mX_train\u001b[0m\u001b[0;34m,\u001b[0m \u001b[0my_train\u001b[0m\u001b[0;34m,\u001b[0m \u001b[0;34m**\u001b[0m\u001b[0mpath_params\u001b[0m\u001b[0;34m)\u001b[0m\u001b[0;34m\u001b[0m\u001b[0;34m\u001b[0m\u001b[0m\n\u001b[0m\u001b[1;32m   1403\u001b[0m     \u001b[0;32mdel\u001b[0m \u001b[0mX_train\u001b[0m\u001b[0;34m,\u001b[0m \u001b[0my_train\u001b[0m\u001b[0;34m\u001b[0m\u001b[0;34m\u001b[0m\u001b[0m\n\u001b[1;32m   1404\u001b[0m \u001b[0;34m\u001b[0m\u001b[0m\n",
            "\u001b[0;32m/usr/local/lib/python3.8/dist-packages/sklearn/linear_model/_coordinate_descent.py\u001b[0m in \u001b[0;36menet_path\u001b[0;34m(X, y, l1_ratio, eps, n_alphas, alphas, precompute, Xy, copy_X, coef_init, verbose, return_n_iter, positive, check_input, **params)\u001b[0m\n\u001b[1;32m    556\u001b[0m     \u001b[0;31m# from ElasticNet.fit\u001b[0m\u001b[0;34m\u001b[0m\u001b[0;34m\u001b[0m\u001b[0;34m\u001b[0m\u001b[0m\n\u001b[1;32m    557\u001b[0m     \u001b[0;32mif\u001b[0m \u001b[0mcheck_input\u001b[0m\u001b[0;34m:\u001b[0m\u001b[0;34m\u001b[0m\u001b[0;34m\u001b[0m\u001b[0m\n\u001b[0;32m--> 558\u001b[0;31m         X, y, X_offset, y_offset, X_scale, precompute, Xy = _pre_fit(\n\u001b[0m\u001b[1;32m    559\u001b[0m             \u001b[0mX\u001b[0m\u001b[0;34m,\u001b[0m\u001b[0;34m\u001b[0m\u001b[0;34m\u001b[0m\u001b[0m\n\u001b[1;32m    560\u001b[0m             \u001b[0my\u001b[0m\u001b[0;34m,\u001b[0m\u001b[0;34m\u001b[0m\u001b[0;34m\u001b[0m\u001b[0m\n",
            "\u001b[0;32m/usr/local/lib/python3.8/dist-packages/sklearn/linear_model/_base.py\u001b[0m in \u001b[0;36m_pre_fit\u001b[0;34m(X, y, Xy, precompute, normalize, fit_intercept, copy, check_input, sample_weight)\u001b[0m\n\u001b[1;32m    848\u001b[0m             \u001b[0;31m# If we're going to use the user's precomputed gram matrix, we\u001b[0m\u001b[0;34m\u001b[0m\u001b[0;34m\u001b[0m\u001b[0;34m\u001b[0m\u001b[0m\n\u001b[1;32m    849\u001b[0m             \u001b[0;31m# do a quick check to make sure its not totally bogus.\u001b[0m\u001b[0;34m\u001b[0m\u001b[0;34m\u001b[0m\u001b[0;34m\u001b[0m\u001b[0m\n\u001b[0;32m--> 850\u001b[0;31m             \u001b[0m_check_precomputed_gram_matrix\u001b[0m\u001b[0;34m(\u001b[0m\u001b[0mX\u001b[0m\u001b[0;34m,\u001b[0m \u001b[0mprecompute\u001b[0m\u001b[0;34m,\u001b[0m \u001b[0mX_offset\u001b[0m\u001b[0;34m,\u001b[0m \u001b[0mX_scale\u001b[0m\u001b[0;34m)\u001b[0m\u001b[0;34m\u001b[0m\u001b[0;34m\u001b[0m\u001b[0m\n\u001b[0m\u001b[1;32m    851\u001b[0m \u001b[0;34m\u001b[0m\u001b[0m\n\u001b[1;32m    852\u001b[0m     \u001b[0;31m# precompute if n_samples > n_features\u001b[0m\u001b[0;34m\u001b[0m\u001b[0;34m\u001b[0m\u001b[0;34m\u001b[0m\u001b[0m\n",
            "\u001b[0;32m/usr/local/lib/python3.8/dist-packages/sklearn/linear_model/_base.py\u001b[0m in \u001b[0;36m_check_precomputed_gram_matrix\u001b[0;34m(X, precompute, X_offset, X_scale, rtol, atol)\u001b[0m\n\u001b[1;32m    772\u001b[0m \u001b[0;34m\u001b[0m\u001b[0m\n\u001b[1;32m    773\u001b[0m     \u001b[0;32mif\u001b[0m \u001b[0;32mnot\u001b[0m \u001b[0mnp\u001b[0m\u001b[0;34m.\u001b[0m\u001b[0misclose\u001b[0m\u001b[0;34m(\u001b[0m\u001b[0mexpected\u001b[0m\u001b[0;34m,\u001b[0m \u001b[0mactual\u001b[0m\u001b[0;34m,\u001b[0m \u001b[0mrtol\u001b[0m\u001b[0;34m=\u001b[0m\u001b[0mrtol\u001b[0m\u001b[0;34m,\u001b[0m \u001b[0matol\u001b[0m\u001b[0;34m=\u001b[0m\u001b[0matol\u001b[0m\u001b[0;34m)\u001b[0m\u001b[0;34m:\u001b[0m\u001b[0;34m\u001b[0m\u001b[0;34m\u001b[0m\u001b[0m\n\u001b[0;32m--> 774\u001b[0;31m         raise ValueError(\n\u001b[0m\u001b[1;32m    775\u001b[0m             \u001b[0;34m\"Gram matrix passed in via 'precompute' parameter \"\u001b[0m\u001b[0;34m\u001b[0m\u001b[0;34m\u001b[0m\u001b[0m\n\u001b[1;32m    776\u001b[0m             \u001b[0;34m\"did not pass validation when a single element was \"\u001b[0m\u001b[0;34m\u001b[0m\u001b[0;34m\u001b[0m\u001b[0m\n",
            "\u001b[0;31mValueError\u001b[0m: Gram matrix passed in via 'precompute' parameter did not pass validation when a single element was checked - please check that it was computed properly. For element (15,16) we computed 18.56169319152832 but the user-supplied value was 18.561677932739258."
          ]
        }
      ]
    },
    {
      "cell_type": "code",
      "source": [
        "preds_ENet = ENet.predict(x_test)"
      ],
      "metadata": {
        "id": "zQglFiQZYGTR"
      },
      "execution_count": null,
      "outputs": []
    },
    {
      "cell_type": "code",
      "source": [
        "RMSE_ENet = RMSE_ar(y_test, preds_ENet)\n",
        "R2_ENet = sklearn.metrics.r2_score(y_test, preds_ENet)\n",
        "print(R2_ENet, RMSE_ENet) "
      ],
      "metadata": {
        "colab": {
          "base_uri": "https://localhost:8080/"
        },
        "id": "N_thzFGoYz5h",
        "outputId": "bf50de86-1462-4512-ef15-637687ace748"
      },
      "execution_count": null,
      "outputs": [
        {
          "output_type": "stream",
          "name": "stdout",
          "text": [
            "0.05353941057859413 4.1936378884751635\n"
          ]
        }
      ]
    },
    {
      "cell_type": "code",
      "source": [
        "RMSE_ENet = RMSE_ar(y_test, preds_ENet)\n",
        "R2_ENet = sklearn.metrics.r2_score(y_test, preds_ENet)\n",
        "print(R2_ENet, RMSE_ENet) "
      ],
      "metadata": {
        "colab": {
          "base_uri": "https://localhost:8080/"
        },
        "id": "2oQXhA2oYGL4",
        "outputId": "44c3c75f-a09f-47c7-9d01-e6cfa5086e9e"
      },
      "execution_count": null,
      "outputs": [
        {
          "output_type": "stream",
          "name": "stdout",
          "text": [
            "0.053407741405013254 4.193929582412746\n"
          ]
        }
      ]
    },
    {
      "cell_type": "code",
      "source": [
        "plt.plot(y_test, preds_ENet, 'o', c = 'b', label = 'ENet pred distr')\n",
        "    \n",
        "plt.ylabel('preds');  \n",
        "plt.xlabel('y_test');\n",
        "    \n",
        "plt.legend(loc = 'upper right');"
      ],
      "metadata": {
        "colab": {
          "base_uri": "https://localhost:8080/",
          "height": 280
        },
        "id": "bDHyWrRKYUk4",
        "outputId": "78d0da63-5d63-4cf7-d597-ba7e37a46191"
      },
      "execution_count": null,
      "outputs": [
        {
          "output_type": "display_data",
          "data": {
            "text/plain": [
              "<Figure size 432x288 with 1 Axes>"
            ],
            "image/png": "[encoded data removed]"
          },
          "metadata": {
            "needs_background": "light"
          }
        }
      ]
    },
    {
      "cell_type": "code",
      "source": [
        "y_t = pd.Series(y_test)"
      ],
      "metadata": {
        "id": "z3Hmv_ZScZ_F"
      },
      "execution_count": null,
      "outputs": []
    },
    {
      "cell_type": "code",
      "source": [
        "y_t.unique()"
      ],
      "metadata": {
        "colab": {
          "base_uri": "https://localhost:8080/"
        },
        "id": "gdHxixLMciZc",
        "outputId": "c732f5f0-c846-4e2a-e30f-04492709d852"
      },
      "execution_count": null,
      "outputs": [
        {
          "output_type": "execute_result",
          "data": {
            "text/plain": [
              "array([0.        , 1.28      , 0.13913043, ..., 0.07626298, 0.19119339,\n",
              "       0.0699488 ])"
            ]
          },
          "metadata": {},
          "execution_count": 100
        }
      ]
    },
    {
      "cell_type": "code",
      "source": [
        "preds_ENet"
      ],
      "metadata": {
        "colab": {
          "base_uri": "https://localhost:8080/"
        },
        "id": "2O1A_XsTc52F",
        "outputId": "fb9127de-0734-4252-b180-ec429b35be8b"
      },
      "execution_count": null,
      "outputs": [
        {
          "output_type": "execute_result",
          "data": {
            "text/plain": [
              "array([ 2.13082277,  1.77473553,  1.39740411, ..., -0.63520653,\n",
              "       -0.62641072, -0.73455378])"
            ]
          },
          "metadata": {},
          "execution_count": 101
        }
      ]
    }
  ],
  "metadata": {
    "colab": {
      "toc_visible": true,
      "provenance": [],
      "collapsed_sections": [
        "DQ8XeyQbO3XB"
      ],
      "authorship_tag": "ABX9TyP4Lkzq9zQLrqryShgRYU5V",
      "include_colab_link": true
    },
    "gpuClass": "standard",
    "kernelspec": {
      "display_name": "Python 3",
      "name": "python3"
    },
    "language_info": {
      "name": "python"
    }
  },
  "nbformat": 4,
  "nbformat_minor": 0
}