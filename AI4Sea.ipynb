{
  "cells": [
    {
      "cell_type": "markdown",
      "metadata": {
        "id": "view-in-github",
        "colab_type": "text"
      },
      "source": [
        "<a href=\"https://colab.research.google.com/github/p73rl11zq/AI4Sea/blob/main/AI4Sea.ipynb\" target=\"_parent\"><img src=\"https://colab.research.google.com/assets/colab-badge.svg\" alt=\"Open In Colab\"/></a>"
      ]
    },
    {
      "cell_type": "code",
      "execution_count": 3,
      "metadata": {
        "colab": {
          "base_uri": "https://localhost:8080/"
        },
        "id": "AYW4YsTMYXcX",
        "outputId": "03a3069f-e597-4687-b304-d415da61d76b"
      },
      "outputs": [
        {
          "output_type": "stream",
          "name": "stdout",
          "text": [
            "Looking in indexes: https://pypi.org/simple, https://us-python.pkg.dev/colab-wheels/public/simple/\n",
            "Requirement already satisfied: category_encoders in /usr/local/lib/python3.8/dist-packages (2.5.1.post0)\n",
            "Requirement already satisfied: numpy>=1.14.0 in /usr/local/lib/python3.8/dist-packages (from category_encoders) (1.21.6)\n",
            "Requirement already satisfied: scikit-learn>=0.20.0 in /usr/local/lib/python3.8/dist-packages (from category_encoders) (1.0.2)\n",
            "Requirement already satisfied: scipy>=1.0.0 in /usr/local/lib/python3.8/dist-packages (from category_encoders) (1.7.3)\n",
            "Requirement already satisfied: statsmodels>=0.9.0 in /usr/local/lib/python3.8/dist-packages (from category_encoders) (0.12.2)\n",
            "Requirement already satisfied: patsy>=0.5.1 in /usr/local/lib/python3.8/dist-packages (from category_encoders) (0.5.3)\n",
            "Requirement already satisfied: pandas>=1.0.5 in /usr/local/lib/python3.8/dist-packages (from category_encoders) (1.3.5)\n",
            "Requirement already satisfied: python-dateutil>=2.7.3 in /usr/local/lib/python3.8/dist-packages (from pandas>=1.0.5->category_encoders) (2.8.2)\n",
            "Requirement already satisfied: pytz>=2017.3 in /usr/local/lib/python3.8/dist-packages (from pandas>=1.0.5->category_encoders) (2022.6)\n",
            "Requirement already satisfied: six in /usr/local/lib/python3.8/dist-packages (from patsy>=0.5.1->category_encoders) (1.15.0)\n",
            "Requirement already satisfied: joblib>=0.11 in /usr/local/lib/python3.8/dist-packages (from scikit-learn>=0.20.0->category_encoders) (1.2.0)\n",
            "Requirement already satisfied: threadpoolctl>=2.0.0 in /usr/local/lib/python3.8/dist-packages (from scikit-learn>=0.20.0->category_encoders) (3.1.0)\n"
          ]
        }
      ],
      "source": [
        "import pandas as pd\n",
        "import matplotlib\n",
        "from matplotlib import pyplot as plt\n",
        "import torch\n",
        "import random\n",
        "import numpy as np\n",
        "\n",
        "import sklearn\n",
        "from sklearn.metrics import r2_score\n",
        "from sklearn.ensemble import RandomForestRegressor\n",
        "# matplotlib.rcParams['figure.figsize'] = (8.0, 5.0)\n",
        "\n",
        "!pip install category_encoders\n",
        "from category_encoders.binary import BinaryEncoder"
      ]
    },
    {
      "cell_type": "code",
      "execution_count": 4,
      "metadata": {
        "id": "I_cVHiV1dLhP"
      },
      "outputs": [],
      "source": [
        "seed = 42\n",
        "\n",
        "random.seed(seed)\n",
        "torch.manual_seed(seed)\n",
        "torch.cuda.manual_seed(seed)\n",
        "torch.backends.cudnn.deterministic = True"
      ]
    },
    {
      "cell_type": "markdown",
      "metadata": {
        "id": "FGOtIxm1YMIk"
      },
      "source": [
        "> # **Challenge info**\n",
        "\n"
      ]
    },
    {
      "cell_type": "markdown",
      "metadata": {
        "id": "IK8dwcxrXpnZ"
      },
      "source": [
        "All data about challenge available via the link:\n",
        "https://dsworks.ru/champ/545de8cb-e023-4b64-9be4-b95b9519f8d3#overview"
      ]
    },
    {
      "cell_type": "markdown",
      "metadata": {
        "id": "dr4qUVu6SQWA"
      },
      "source": [
        "> # **Data reading**\n",
        "\n"
      ]
    },
    {
      "cell_type": "code",
      "execution_count": 5,
      "metadata": {
        "colab": {
          "base_uri": "https://localhost:8080/"
        },
        "id": "gIep3p6eaCmU",
        "outputId": "70ee005c-2708-455c-f004-a7d2df832739"
      },
      "outputs": [
        {
          "output_type": "stream",
          "name": "stdout",
          "text": [
            "Drive already mounted at /content/drive; to attempt to forcibly remount, call drive.mount(\"/content/drive\", force_remount=True).\n"
          ]
        }
      ],
      "source": [
        "from google.colab import drive\n",
        "drive.mount('/content/drive') # force_remount=True"
      ]
    },
    {
      "cell_type": "code",
      "execution_count": 6,
      "metadata": {
        "id": "dO3l1CDXak7i"
      },
      "outputs": [],
      "source": [
        "pollok_df = pd.read_csv('/content/drive/MyDrive/Colab Notebooks/AI4Sea/data/polock_dataset_train.csv', parse_dates=['date', 'datetimes'], dayfirst=True) # \n",
        "pollok_df = pollok_df.drop(['Unnamed: 0'], axis=1) "
      ]
    },
    {
      "cell_type": "code",
      "execution_count": 7,
      "metadata": {
        "colab": {
          "base_uri": "https://localhost:8080/",
          "height": 312
        },
        "id": "mHRGpVO89jcK",
        "outputId": "269ddcf8-4d2e-44b9-c961-279e2d1a44c1"
      },
      "outputs": [
        {
          "output_type": "execute_result",
          "data": {
            "text/plain": [
              "                              idves       date           datetimes  idinf  \\\n",
              "0  cc2b1ba0368ccd98d5bed7e2e97b4bb0 2003-01-29 2003-01-29 00:48:00     52   \n",
              "1  cc2b1ba0368ccd98d5bed7e2e97b4bb0 2003-01-29 2003-01-29 01:22:00     32   \n",
              "2  cc2b1ba0368ccd98d5bed7e2e97b4bb0 2003-01-29 2003-01-29 02:14:00     52   \n",
              "\n",
              "   latitude  longitude  region  course  velocity  ton  total_ton  \\\n",
              "0   54.3307   154.1080     274   350.0       4.0  0.0    71.9002   \n",
              "1   54.3687   154.0987     274   351.0       4.0  0.0    71.9002   \n",
              "2   54.4260   154.0993     274     6.0       4.0  0.0    71.9002   \n",
              "\n",
              "                                    trawl  science  \n",
              "0  трал р/гл не зарегистрированный НПО ПР        0  \n",
              "1  трал р/гл не зарегистрированный НПО ПР        0  \n",
              "2  трал р/гл не зарегистрированный НПО ПР        0  "
            ],
            "text/html": [
              "\n",
              "  <div id=\"df-5cf5f49f-75dc-41ea-897a-e4fe43545568\">\n",
              "    <div class=\"colab-df-container\">\n",
              "      <div>\n",
              "<style scoped>\n",
              "    .dataframe tbody tr th:only-of-type {\n",
              "        vertical-align: middle;\n",
              "    }\n",
              "\n",
              "    .dataframe tbody tr th {\n",
              "        vertical-align: top;\n",
              "    }\n",
              "\n",
              "    .dataframe thead th {\n",
              "        text-align: right;\n",
              "    }\n",
              "</style>\n",
              "<table border=\"1\" class=\"dataframe\">\n",
              "  <thead>\n",
              "    <tr style=\"text-align: right;\">\n",
              "      <th></th>\n",
              "      <th>idves</th>\n",
              "      <th>date</th>\n",
              "      <th>datetimes</th>\n",
              "      <th>idinf</th>\n",
              "      <th>latitude</th>\n",
              "      <th>longitude</th>\n",
              "      <th>region</th>\n",
              "      <th>course</th>\n",
              "      <th>velocity</th>\n",
              "      <th>ton</th>\n",
              "      <th>total_ton</th>\n",
              "      <th>trawl</th>\n",
              "      <th>science</th>\n",
              "    </tr>\n",
              "  </thead>\n",
              "  <tbody>\n",
              "    <tr>\n",
              "      <th>0</th>\n",
              "      <td>cc2b1ba0368ccd98d5bed7e2e97b4bb0</td>\n",
              "      <td>2003-01-29</td>\n",
              "      <td>2003-01-29 00:48:00</td>\n",
              "      <td>52</td>\n",
              "      <td>54.3307</td>\n",
              "      <td>154.1080</td>\n",
              "      <td>274</td>\n",
              "      <td>350.0</td>\n",
              "      <td>4.0</td>\n",
              "      <td>0.0</td>\n",
              "      <td>71.9002</td>\n",
              "      <td>трал р/гл не зарегистрированный НПО ПР</td>\n",
              "      <td>0</td>\n",
              "    </tr>\n",
              "    <tr>\n",
              "      <th>1</th>\n",
              "      <td>cc2b1ba0368ccd98d5bed7e2e97b4bb0</td>\n",
              "      <td>2003-01-29</td>\n",
              "      <td>2003-01-29 01:22:00</td>\n",
              "      <td>32</td>\n",
              "      <td>54.3687</td>\n",
              "      <td>154.0987</td>\n",
              "      <td>274</td>\n",
              "      <td>351.0</td>\n",
              "      <td>4.0</td>\n",
              "      <td>0.0</td>\n",
              "      <td>71.9002</td>\n",
              "      <td>трал р/гл не зарегистрированный НПО ПР</td>\n",
              "      <td>0</td>\n",
              "    </tr>\n",
              "    <tr>\n",
              "      <th>2</th>\n",
              "      <td>cc2b1ba0368ccd98d5bed7e2e97b4bb0</td>\n",
              "      <td>2003-01-29</td>\n",
              "      <td>2003-01-29 02:14:00</td>\n",
              "      <td>52</td>\n",
              "      <td>54.4260</td>\n",
              "      <td>154.0993</td>\n",
              "      <td>274</td>\n",
              "      <td>6.0</td>\n",
              "      <td>4.0</td>\n",
              "      <td>0.0</td>\n",
              "      <td>71.9002</td>\n",
              "      <td>трал р/гл не зарегистрированный НПО ПР</td>\n",
              "      <td>0</td>\n",
              "    </tr>\n",
              "  </tbody>\n",
              "</table>\n",
              "</div>\n",
              "      <button class=\"colab-df-convert\" onclick=\"convertToInteractive('df-5cf5f49f-75dc-41ea-897a-e4fe43545568')\"\n",
              "              title=\"Convert this dataframe to an interactive table.\"\n",
              "              style=\"display:none;\">\n",
              "        \n",
              "  <svg xmlns=\"http://www.w3.org/2000/svg\" height=\"24px\"viewBox=\"0 0 24 24\"\n",
              "       width=\"24px\">\n",
              "    <path d=\"M0 0h24v24H0V0z\" fill=\"none\"/>\n",
              "    <path d=\"M18.56 5.44l.94 2.06.94-2.06 2.06-.94-2.06-.94-.94-2.06-.94 2.06-2.06.94zm-11 1L8.5 8.5l.94-2.06 2.06-.94-2.06-.94L8.5 2.5l-.94 2.06-2.06.94zm10 10l.94 2.06.94-2.06 2.06-.94-2.06-.94-.94-2.06-.94 2.06-2.06.94z\"/><path d=\"M17.41 7.96l-1.37-1.37c-.4-.4-.92-.59-1.43-.59-.52 0-1.04.2-1.43.59L10.3 9.45l-7.72 7.72c-.78.78-.78 2.05 0 2.83L4 21.41c.39.39.9.59 1.41.59.51 0 1.02-.2 1.41-.59l7.78-7.78 2.81-2.81c.8-.78.8-2.07 0-2.86zM5.41 20L4 18.59l7.72-7.72 1.47 1.35L5.41 20z\"/>\n",
              "  </svg>\n",
              "      </button>\n",
              "      \n",
              "  <style>\n",
              "    .colab-df-container {\n",
              "      display:flex;\n",
              "      flex-wrap:wrap;\n",
              "      gap: 12px;\n",
              "    }\n",
              "\n",
              "    .colab-df-convert {\n",
              "      background-color: #E8F0FE;\n",
              "      border: none;\n",
              "      border-radius: 50%;\n",
              "      cursor: pointer;\n",
              "      display: none;\n",
              "      fill: #1967D2;\n",
              "      height: 32px;\n",
              "      padding: 0 0 0 0;\n",
              "      width: 32px;\n",
              "    }\n",
              "\n",
              "    .colab-df-convert:hover {\n",
              "      background-color: #E2EBFA;\n",
              "      box-shadow: 0px 1px 2px rgba(60, 64, 67, 0.3), 0px 1px 3px 1px rgba(60, 64, 67, 0.15);\n",
              "      fill: #174EA6;\n",
              "    }\n",
              "\n",
              "    [theme=dark] .colab-df-convert {\n",
              "      background-color: #3B4455;\n",
              "      fill: #D2E3FC;\n",
              "    }\n",
              "\n",
              "    [theme=dark] .colab-df-convert:hover {\n",
              "      background-color: #434B5C;\n",
              "      box-shadow: 0px 1px 3px 1px rgba(0, 0, 0, 0.15);\n",
              "      filter: drop-shadow(0px 1px 2px rgba(0, 0, 0, 0.3));\n",
              "      fill: #FFFFFF;\n",
              "    }\n",
              "  </style>\n",
              "\n",
              "      <script>\n",
              "        const buttonEl =\n",
              "          document.querySelector('#df-5cf5f49f-75dc-41ea-897a-e4fe43545568 button.colab-df-convert');\n",
              "        buttonEl.style.display =\n",
              "          google.colab.kernel.accessAllowed ? 'block' : 'none';\n",
              "\n",
              "        async function convertToInteractive(key) {\n",
              "          const element = document.querySelector('#df-5cf5f49f-75dc-41ea-897a-e4fe43545568');\n",
              "          const dataTable =\n",
              "            await google.colab.kernel.invokeFunction('convertToInteractive',\n",
              "                                                     [key], {});\n",
              "          if (!dataTable) return;\n",
              "\n",
              "          const docLinkHtml = 'Like what you see? Visit the ' +\n",
              "            '<a target=\"_blank\" href=https://colab.research.google.com/notebooks/data_table.ipynb>data table notebook</a>'\n",
              "            + ' to learn more about interactive tables.';\n",
              "          element.innerHTML = '';\n",
              "          dataTable['output_type'] = 'display_data';\n",
              "          await google.colab.output.renderOutput(dataTable, element);\n",
              "          const docLink = document.createElement('div');\n",
              "          docLink.innerHTML = docLinkHtml;\n",
              "          element.appendChild(docLink);\n",
              "        }\n",
              "      </script>\n",
              "    </div>\n",
              "  </div>\n",
              "  "
            ]
          },
          "metadata": {},
          "execution_count": 7
        }
      ],
      "source": [
        "pollok_df.head(3)"
      ]
    },
    {
      "cell_type": "code",
      "execution_count": 64,
      "metadata": {
        "colab": {
          "base_uri": "https://localhost:8080/"
        },
        "id": "KKoSSiGEfj3F",
        "outputId": "1df32b86-0164-400b-d11a-57dde3af16b0"
      },
      "outputs": [
        {
          "output_type": "execute_result",
          "data": {
            "text/plain": [
              "idves        0\n",
              "date         0\n",
              "datetimes    0\n",
              "idinf        0\n",
              "latitude     0\n",
              "longitude    0\n",
              "region       0\n",
              "course       0\n",
              "velocity     0\n",
              "ton          0\n",
              "total_ton    0\n",
              "trawl        0\n",
              "science      0\n",
              "dtype: int64"
            ]
          },
          "metadata": {},
          "execution_count": 64
        }
      ],
      "source": [
        "pollok_df.isna().sum()"
      ]
    },
    {
      "cell_type": "code",
      "execution_count": null,
      "metadata": {
        "colab": {
          "base_uri": "https://localhost:8080/"
        },
        "id": "yzp96YE5ogSy",
        "outputId": "7e7841c4-b588-41ce-ac3f-edcd106b6e1c"
      },
      "outputs": [
        {
          "name": "stdout",
          "output_type": "stream",
          "text": [
            "-- Velocity: \n",
            "Minimum:  0.0 \n",
            " Maximum:  24.4\n",
            "Median:  3.8 \n",
            " Mean value:  4.495417189023541\n",
            "\n",
            " -- Course: \n",
            "Minimum:  0.0 \n",
            " Maximum:  360.0\n",
            "Median:  179.0 \n",
            " Mean value:  173.68689529866\n"
          ]
        }
      ],
      "source": [
        "print(\"-- Velocity: \")\n",
        "print('Minimum: ', pollok_df['velocity'].min(), '\\n', 'Maximum: ', pollok_df['velocity'].max())\n",
        "print('Median: ', pollok_df[\"velocity\"].median(), '\\n', 'Mean value: ', pollok_df[\"velocity\"].mean())\n",
        "\n",
        "print('\\n', '-- Course: ')\n",
        "print('Minimum: ', pollok_df['course'].min(), '\\n','Maximum: ', pollok_df['course'].max())\n",
        "print('Median: ', pollok_df[\"course\"].median(), '\\n', 'Mean value: ', pollok_df[\"course\"].mean())"
      ]
    },
    {
      "cell_type": "code",
      "execution_count": 8,
      "metadata": {
        "id": "Xz3QsA9LyX6f"
      },
      "outputs": [],
      "source": [
        "# pollok_df['course'].fillna(pollok_df.groupby('idves')['course'].transform('median'), inplace = True)\n",
        "# pollok_df['course'] = pollok_df.groupby('idves')['course'].ffill(limit=4).bfill()\n",
        "\n",
        "# pollok_df['velocity'].fillna(pollok_df.groupby('idves')['velocity'].transform('mean'), inplace = True)\n",
        "\n",
        "pollok_df['course'] = pollok_df.groupby('idves')['course'].bfill(limit=1).ffill(limit=1)\n",
        "pollok_df['course'] = pollok_df.groupby('idves')['course'].apply(lambda x: x.interpolate(method='linear'))\n",
        "\n",
        "pollok_df['velocity'].fillna(pollok_df.groupby('idves')['velocity'].transform('median'), inplace = True)\n",
        "\n",
        "df_edit = pollok_df.copy()"
      ]
    },
    {
      "cell_type": "markdown",
      "metadata": {
        "id": "NZSsmxXfD6fF"
      },
      "source": [
        "> # **'Raw' df processing**"
      ]
    },
    {
      "cell_type": "markdown",
      "metadata": {
        "id": "3fVZuqceHblA"
      },
      "source": [
        "## **Datetimes (timestamp)**"
      ]
    },
    {
      "cell_type": "code",
      "execution_count": 9,
      "metadata": {
        "id": "Rfk7HG15t2cI"
      },
      "outputs": [],
      "source": [
        "df_edit['year'] = df_edit['datetimes'].dt.year # = pd.to_datetime(df_edit['datetimes']) \n",
        "df_edit['month'] = df_edit['datetimes'].dt.month\n",
        "df_edit['day'] = df_edit['datetimes'].dt.day\n",
        "\n",
        "hour = df_edit['datetimes'].dt.hour # = pd.to_datetime(df_edit['datetimes']) \n",
        "minute = df_edit['datetimes'].dt.minute"
      ]
    },
    {
      "cell_type": "markdown",
      "metadata": {
        "id": "HDkrBkIvHws2"
      },
      "source": [
        "Extract lenght of every voyage for every ship:"
      ]
    },
    {
      "cell_type": "code",
      "execution_count": 10,
      "metadata": {
        "colab": {
          "base_uri": "https://localhost:8080/",
          "height": 206
        },
        "id": "eY5QEQj1HbIf",
        "outputId": "7053eb48-6b74-4081-b89c-86453be963a4"
      },
      "outputs": [
        {
          "output_type": "execute_result",
          "data": {
            "text/plain": [
              "                                idves       date  count\n",
              "768  cc2b1ba0368ccd98d5bed7e2e97b4bb0 2003-01-29     24\n",
              "361  7463afe23eae7efe3c72737a5d3d693f 2003-02-08     26\n",
              "821  fc84ad56f9f547eb89c72b9bac209312 2003-02-13     28\n",
              "362  7463afe23eae7efe3c72737a5d3d693f 2003-02-20     24\n",
              "363  7463afe23eae7efe3c72737a5d3d693f 2003-02-21     19"
            ],
            "text/html": [
              "\n",
              "  <div id=\"df-33d2c49d-041a-4a85-a619-9afb31c7d70f\">\n",
              "    <div class=\"colab-df-container\">\n",
              "      <div>\n",
              "<style scoped>\n",
              "    .dataframe tbody tr th:only-of-type {\n",
              "        vertical-align: middle;\n",
              "    }\n",
              "\n",
              "    .dataframe tbody tr th {\n",
              "        vertical-align: top;\n",
              "    }\n",
              "\n",
              "    .dataframe thead th {\n",
              "        text-align: right;\n",
              "    }\n",
              "</style>\n",
              "<table border=\"1\" class=\"dataframe\">\n",
              "  <thead>\n",
              "    <tr style=\"text-align: right;\">\n",
              "      <th></th>\n",
              "      <th>idves</th>\n",
              "      <th>date</th>\n",
              "      <th>count</th>\n",
              "    </tr>\n",
              "  </thead>\n",
              "  <tbody>\n",
              "    <tr>\n",
              "      <th>768</th>\n",
              "      <td>cc2b1ba0368ccd98d5bed7e2e97b4bb0</td>\n",
              "      <td>2003-01-29</td>\n",
              "      <td>24</td>\n",
              "    </tr>\n",
              "    <tr>\n",
              "      <th>361</th>\n",
              "      <td>7463afe23eae7efe3c72737a5d3d693f</td>\n",
              "      <td>2003-02-08</td>\n",
              "      <td>26</td>\n",
              "    </tr>\n",
              "    <tr>\n",
              "      <th>821</th>\n",
              "      <td>fc84ad56f9f547eb89c72b9bac209312</td>\n",
              "      <td>2003-02-13</td>\n",
              "      <td>28</td>\n",
              "    </tr>\n",
              "    <tr>\n",
              "      <th>362</th>\n",
              "      <td>7463afe23eae7efe3c72737a5d3d693f</td>\n",
              "      <td>2003-02-20</td>\n",
              "      <td>24</td>\n",
              "    </tr>\n",
              "    <tr>\n",
              "      <th>363</th>\n",
              "      <td>7463afe23eae7efe3c72737a5d3d693f</td>\n",
              "      <td>2003-02-21</td>\n",
              "      <td>19</td>\n",
              "    </tr>\n",
              "  </tbody>\n",
              "</table>\n",
              "</div>\n",
              "      <button class=\"colab-df-convert\" onclick=\"convertToInteractive('df-33d2c49d-041a-4a85-a619-9afb31c7d70f')\"\n",
              "              title=\"Convert this dataframe to an interactive table.\"\n",
              "              style=\"display:none;\">\n",
              "        \n",
              "  <svg xmlns=\"http://www.w3.org/2000/svg\" height=\"24px\"viewBox=\"0 0 24 24\"\n",
              "       width=\"24px\">\n",
              "    <path d=\"M0 0h24v24H0V0z\" fill=\"none\"/>\n",
              "    <path d=\"M18.56 5.44l.94 2.06.94-2.06 2.06-.94-2.06-.94-.94-2.06-.94 2.06-2.06.94zm-11 1L8.5 8.5l.94-2.06 2.06-.94-2.06-.94L8.5 2.5l-.94 2.06-2.06.94zm10 10l.94 2.06.94-2.06 2.06-.94-2.06-.94-.94-2.06-.94 2.06-2.06.94z\"/><path d=\"M17.41 7.96l-1.37-1.37c-.4-.4-.92-.59-1.43-.59-.52 0-1.04.2-1.43.59L10.3 9.45l-7.72 7.72c-.78.78-.78 2.05 0 2.83L4 21.41c.39.39.9.59 1.41.59.51 0 1.02-.2 1.41-.59l7.78-7.78 2.81-2.81c.8-.78.8-2.07 0-2.86zM5.41 20L4 18.59l7.72-7.72 1.47 1.35L5.41 20z\"/>\n",
              "  </svg>\n",
              "      </button>\n",
              "      \n",
              "  <style>\n",
              "    .colab-df-container {\n",
              "      display:flex;\n",
              "      flex-wrap:wrap;\n",
              "      gap: 12px;\n",
              "    }\n",
              "\n",
              "    .colab-df-convert {\n",
              "      background-color: #E8F0FE;\n",
              "      border: none;\n",
              "      border-radius: 50%;\n",
              "      cursor: pointer;\n",
              "      display: none;\n",
              "      fill: #1967D2;\n",
              "      height: 32px;\n",
              "      padding: 0 0 0 0;\n",
              "      width: 32px;\n",
              "    }\n",
              "\n",
              "    .colab-df-convert:hover {\n",
              "      background-color: #E2EBFA;\n",
              "      box-shadow: 0px 1px 2px rgba(60, 64, 67, 0.3), 0px 1px 3px 1px rgba(60, 64, 67, 0.15);\n",
              "      fill: #174EA6;\n",
              "    }\n",
              "\n",
              "    [theme=dark] .colab-df-convert {\n",
              "      background-color: #3B4455;\n",
              "      fill: #D2E3FC;\n",
              "    }\n",
              "\n",
              "    [theme=dark] .colab-df-convert:hover {\n",
              "      background-color: #434B5C;\n",
              "      box-shadow: 0px 1px 3px 1px rgba(0, 0, 0, 0.15);\n",
              "      filter: drop-shadow(0px 1px 2px rgba(0, 0, 0, 0.3));\n",
              "      fill: #FFFFFF;\n",
              "    }\n",
              "  </style>\n",
              "\n",
              "      <script>\n",
              "        const buttonEl =\n",
              "          document.querySelector('#df-33d2c49d-041a-4a85-a619-9afb31c7d70f button.colab-df-convert');\n",
              "        buttonEl.style.display =\n",
              "          google.colab.kernel.accessAllowed ? 'block' : 'none';\n",
              "\n",
              "        async function convertToInteractive(key) {\n",
              "          const element = document.querySelector('#df-33d2c49d-041a-4a85-a619-9afb31c7d70f');\n",
              "          const dataTable =\n",
              "            await google.colab.kernel.invokeFunction('convertToInteractive',\n",
              "                                                     [key], {});\n",
              "          if (!dataTable) return;\n",
              "\n",
              "          const docLinkHtml = 'Like what you see? Visit the ' +\n",
              "            '<a target=\"_blank\" href=https://colab.research.google.com/notebooks/data_table.ipynb>data table notebook</a>'\n",
              "            + ' to learn more about interactive tables.';\n",
              "          element.innerHTML = '';\n",
              "          dataTable['output_type'] = 'display_data';\n",
              "          await google.colab.output.renderOutput(dataTable, element);\n",
              "          const docLink = document.createElement('div');\n",
              "          docLink.innerHTML = docLinkHtml;\n",
              "          element.appendChild(docLink);\n",
              "        }\n",
              "      </script>\n",
              "    </div>\n",
              "  </div>\n",
              "  "
            ]
          },
          "metadata": {},
          "execution_count": 10
        }
      ],
      "source": [
        "df1 = pd.DataFrame({'count' : df_edit.groupby([\"idves\", \"date\"]).size()}).reset_index().sort_values(by='date')\n",
        "df1.head()"
      ]
    },
    {
      "cell_type": "markdown",
      "metadata": {
        "id": "6cy2PnsLIXzf"
      },
      "source": [
        "Marking all voyages in ascend order:"
      ]
    },
    {
      "cell_type": "code",
      "execution_count": 11,
      "metadata": {
        "id": "ymmGgBtXHoYO"
      },
      "outputs": [],
      "source": [
        "df_edit['num_of_voyage'] = 1\n",
        "\n",
        "temp = df_edit['num_of_voyage']"
      ]
    },
    {
      "cell_type": "code",
      "execution_count": 12,
      "metadata": {
        "colab": {
          "base_uri": "https://localhost:8080/"
        },
        "id": "NwdwJUiPHoT-",
        "outputId": "402c4d53-95fb-47df-d03f-224fdff6b930"
      },
      "outputs": [
        {
          "output_type": "stream",
          "name": "stderr",
          "text": [
            "<ipython-input-12-b68b2184fdfd>:7: SettingWithCopyWarning: \n",
            "A value is trying to be set on a copy of a slice from a DataFrame\n",
            "\n",
            "See the caveats in the documentation: https://pandas.pydata.org/pandas-docs/stable/user_guide/indexing.html#returning-a-view-versus-a-copy\n",
            "  temp[step+i] = voyage\n"
          ]
        }
      ],
      "source": [
        "step = 0\n",
        "voyage = 1\n",
        "\n",
        "for j in df1['count']:\n",
        "    \n",
        "    for i in range(j):\n",
        "        temp[step+i] = voyage\n",
        "\n",
        "    voyage += 1\n",
        "    step += j"
      ]
    },
    {
      "cell_type": "code",
      "execution_count": 13,
      "metadata": {
        "id": "H18go9J2H_6l"
      },
      "outputs": [],
      "source": [
        "df_edit['num_of_voyage'] = temp"
      ]
    },
    {
      "cell_type": "code",
      "execution_count": 98,
      "metadata": {
        "colab": {
          "base_uri": "https://localhost:8080/",
          "height": 1000
        },
        "id": "5j2EHzNKtlFQ",
        "outputId": "2ef02c94-bdb4-454f-9307-cfb78dd461f1"
      },
      "outputs": [
        {
          "output_type": "execute_result",
          "data": {
            "text/plain": [
              "                     i0        i1        i2        i3        i4        i5  \\\n",
              "i0             1.000000 -0.020990  0.024732 -0.219155  0.025095  0.104283   \n",
              "i1            -0.020990  1.000000 -0.186307 -0.094399  0.037056  0.082149   \n",
              "i2             0.024732 -0.186307  1.000000 -0.081465 -0.158929  0.054840   \n",
              "i3            -0.219155 -0.094399 -0.081465  1.000000  0.016541 -0.141725   \n",
              "i4             0.025095  0.037056 -0.158929  0.016541  1.000000 -0.165304   \n",
              "i5             0.104283  0.082149  0.054840 -0.141725 -0.165304  1.000000   \n",
              "idinf          0.228910  0.158135  0.227176 -0.114738 -0.059656  0.113656   \n",
              "latitude      -0.058614  0.015545 -0.097902  0.051762  0.038480 -0.084847   \n",
              "longitude     -0.009040 -0.067015 -0.131791 -0.005622  0.038596 -0.041939   \n",
              "course        -0.018991  0.014129 -0.006537  0.015517  0.011582 -0.009270   \n",
              "velocity      -0.106724 -0.084598 -0.138574  0.121599  0.095671 -0.058057   \n",
              "ton           -0.025816  0.094371  0.049422 -0.010168 -0.018906  0.086742   \n",
              "total_ton      0.050659  0.376018  0.268645 -0.056816 -0.091332  0.317351   \n",
              "science       -0.318490 -0.280510 -0.427408  0.364458  0.261542 -0.259176   \n",
              "year           0.320933  0.239865  0.372011 -0.080937 -0.066719  0.126515   \n",
              "month         -0.286465 -0.243966 -0.307333  0.287113  0.180983 -0.273296   \n",
              "day            0.037693 -0.051272 -0.127420  0.030528  0.099067 -0.108515   \n",
              "num_of_voyage  0.289824  0.236109  0.363377 -0.075994 -0.049638  0.151169   \n",
              "region_272    -0.002747  0.043667  0.126795 -0.081423 -0.076525  0.067975   \n",
              "region_273    -0.015551 -0.064535  0.035926  0.058191  0.086119 -0.005629   \n",
              "region_274     0.032488 -0.008117 -0.162865  0.023192  0.016983 -0.051426   \n",
              "region_275    -0.046303  0.100981  0.024168 -0.014549 -0.099165 -0.022621   \n",
              "t0             0.316043  0.004895  0.181831  0.138399  0.165749 -0.015532   \n",
              "t1             0.006800  0.298977 -0.116710 -0.101842  0.112828 -0.018355   \n",
              "t2             0.153062  0.131857  0.334363 -0.330860 -0.250870  0.245553   \n",
              "t3            -0.195163 -0.175007 -0.090298  0.225339  0.108135 -0.145640   \n",
              "t4            -0.063751  0.079233 -0.081435 -0.045580 -0.024167  0.139396   \n",
              "t5            -0.174070 -0.153971  0.045701  0.127314 -0.160554 -0.027521   \n",
              "\n",
              "                  idinf  latitude  longitude    course  ...  region_272  \\\n",
              "i0             0.228910 -0.058614  -0.009040 -0.018991  ...   -0.002747   \n",
              "i1             0.158135  0.015545  -0.067015  0.014129  ...    0.043667   \n",
              "i2             0.227176 -0.097902  -0.131791 -0.006537  ...    0.126795   \n",
              "i3            -0.114738  0.051762  -0.005622  0.015517  ...   -0.081423   \n",
              "i4            -0.059656  0.038480   0.038596  0.011582  ...   -0.076525   \n",
              "i5             0.113656 -0.084847  -0.041939 -0.009270  ...    0.067975   \n",
              "idinf          1.000000 -0.057347  -0.076090  0.025311  ...    0.036671   \n",
              "latitude      -0.057347  1.000000  -0.162743 -0.060175  ...   -0.803326   \n",
              "longitude     -0.076090 -0.162743   1.000000 -0.045486  ...    0.366832   \n",
              "course         0.025311 -0.060175  -0.045486  1.000000  ...    0.039749   \n",
              "velocity      -0.066099  0.026230   0.106160  0.038997  ...   -0.021152   \n",
              "ton            0.023615  0.011432  -0.045292  0.004232  ...   -0.008450   \n",
              "total_ton      0.245058  0.111578  -0.163207 -0.010188  ...   -0.086037   \n",
              "science       -0.230944  0.018133   0.222669  0.019544  ...   -0.013862   \n",
              "year           0.578093 -0.100585  -0.130407  0.006188  ...    0.070002   \n",
              "month         -0.234431  0.350472  -0.191048  0.008125  ...   -0.352192   \n",
              "day           -0.027188  0.153680   0.043049  0.014631  ...   -0.146730   \n",
              "num_of_voyage  0.573597 -0.066895  -0.188767  0.006228  ...    0.044060   \n",
              "region_272     0.036671 -0.803326   0.366832  0.039749  ...    1.000000   \n",
              "region_273    -0.004858  0.248538  -0.658012  0.002336  ...   -0.455457   \n",
              "region_274    -0.040603  0.500468   0.473024 -0.057242  ...   -0.458603   \n",
              "region_275     0.035059  0.027909  -0.522080  0.056180  ...   -0.094723   \n",
              "t0             0.102508  0.101820  -0.146286 -0.008974  ...   -0.079106   \n",
              "t1             0.305894 -0.048564   0.020972  0.028133  ...   -0.003383   \n",
              "t2             0.229005 -0.105520  -0.138560 -0.016218  ...    0.062318   \n",
              "t3            -0.010096 -0.020655   0.063279  0.024440  ...    0.001001   \n",
              "t4             0.219242 -0.012851  -0.038888  0.018329  ...   -0.050417   \n",
              "t5             0.037651 -0.105676   0.121962 -0.000477  ...    0.112187   \n",
              "\n",
              "               region_273  region_274  region_275        t0        t1  \\\n",
              "i0              -0.015551    0.032488   -0.046303  0.316043  0.006800   \n",
              "i1              -0.064535   -0.008117    0.100981  0.004895  0.298977   \n",
              "i2               0.035926   -0.162865    0.024168  0.181831 -0.116710   \n",
              "i3               0.058191    0.023192   -0.014549  0.138399 -0.101842   \n",
              "i4               0.086119    0.016983   -0.099165  0.165749  0.112828   \n",
              "i5              -0.005629   -0.051426   -0.022621 -0.015532 -0.018355   \n",
              "idinf           -0.004858   -0.040603    0.035059  0.102508  0.305894   \n",
              "latitude         0.248538    0.500468    0.027909  0.101820 -0.048564   \n",
              "longitude       -0.658012    0.473024   -0.522080 -0.146286  0.020972   \n",
              "course           0.002336   -0.057242    0.056180 -0.008974  0.028133   \n",
              "velocity        -0.025564    0.057595   -0.039118 -0.047078  0.028036   \n",
              "ton              0.019558   -0.014737    0.010255  0.023934 -0.006541   \n",
              "total_ton        0.053554    0.024479    0.010210  0.177327  0.036470   \n",
              "science         -0.036976    0.075274   -0.081500 -0.145791  0.054951   \n",
              "year            -0.016003   -0.068454    0.059394  0.181425  0.356785   \n",
              "month            0.300097   -0.021725    0.174539 -0.040538 -0.078950   \n",
              "day             -0.014224    0.131084    0.068932 -0.019500  0.003216   \n",
              "num_of_voyage    0.039127   -0.105579    0.080522  0.226577  0.316762   \n",
              "region_272      -0.455457   -0.458603   -0.094723 -0.079106 -0.003383   \n",
              "region_273       1.000000   -0.534358   -0.110370  0.104352 -0.040563   \n",
              "region_274      -0.534358    1.000000   -0.111132 -0.039065  0.035816   \n",
              "region_275      -0.110370   -0.111132    1.000000  0.030558  0.025280   \n",
              "t0               0.104352   -0.039065    0.030558  1.000000 -0.222307   \n",
              "t1              -0.040563    0.035816    0.025280 -0.222307  1.000000   \n",
              "t2               0.027585   -0.092989    0.021652 -0.303205 -0.000890   \n",
              "t3              -0.031564    0.034464   -0.012588 -0.118534  0.010158   \n",
              "t4               0.049280   -0.001883    0.000722 -0.092434  0.298743   \n",
              "t5              -0.082807   -0.021075   -0.006534 -0.378065 -0.097716   \n",
              "\n",
              "                     t2        t3        t4        t5  \n",
              "i0             0.153062 -0.195163 -0.063751 -0.174070  \n",
              "i1             0.131857 -0.175007  0.079233 -0.153971  \n",
              "i2             0.334363 -0.090298 -0.081435  0.045701  \n",
              "i3            -0.330860  0.225339 -0.045580  0.127314  \n",
              "i4            -0.250870  0.108135 -0.024167 -0.160554  \n",
              "i5             0.245553 -0.145640  0.139396 -0.027521  \n",
              "idinf          0.229005 -0.010096  0.219242  0.037651  \n",
              "latitude      -0.105520 -0.020655 -0.012851 -0.105676  \n",
              "longitude     -0.138560  0.063279 -0.038888  0.121962  \n",
              "course        -0.016218  0.024440  0.018329 -0.000477  \n",
              "velocity      -0.202865  0.162394 -0.003313  0.105535  \n",
              "ton            0.031085 -0.069791  0.025214 -0.009734  \n",
              "total_ton      0.265274 -0.146874  0.166153 -0.082729  \n",
              "science       -0.601818  0.494796 -0.080982  0.338586  \n",
              "year           0.377324  0.063079  0.188236  0.073334  \n",
              "month         -0.463204  0.249335 -0.055797  0.147143  \n",
              "day           -0.135148  0.106370  0.049031  0.130988  \n",
              "num_of_voyage  0.329165  0.034403  0.251532  0.051607  \n",
              "region_272     0.062318  0.001001 -0.050417  0.112187  \n",
              "region_273     0.027585 -0.031564  0.049280 -0.082807  \n",
              "region_274    -0.092989  0.034464 -0.001883 -0.021075  \n",
              "region_275     0.021652 -0.012588  0.000722 -0.006534  \n",
              "t0            -0.303205 -0.118534 -0.092434 -0.378065  \n",
              "t1            -0.000890  0.010158  0.298743 -0.097716  \n",
              "t2             1.000000 -0.252230 -0.011146 -0.058530  \n",
              "t3            -0.252230  1.000000  0.228116  0.357391  \n",
              "t4            -0.011146  0.228116  1.000000 -0.045882  \n",
              "t5            -0.058530  0.357391 -0.045882  1.000000  \n",
              "\n",
              "[28 rows x 28 columns]"
            ],
            "text/html": [
              "\n",
              "  <div id=\"df-5e3f4ac8-a1d3-47a3-958c-6238a1ce456a\">\n",
              "    <div class=\"colab-df-container\">\n",
              "      <div>\n",
              "<style scoped>\n",
              "    .dataframe tbody tr th:only-of-type {\n",
              "        vertical-align: middle;\n",
              "    }\n",
              "\n",
              "    .dataframe tbody tr th {\n",
              "        vertical-align: top;\n",
              "    }\n",
              "\n",
              "    .dataframe thead th {\n",
              "        text-align: right;\n",
              "    }\n",
              "</style>\n",
              "<table border=\"1\" class=\"dataframe\">\n",
              "  <thead>\n",
              "    <tr style=\"text-align: right;\">\n",
              "      <th></th>\n",
              "      <th>i0</th>\n",
              "      <th>i1</th>\n",
              "      <th>i2</th>\n",
              "      <th>i3</th>\n",
              "      <th>i4</th>\n",
              "      <th>i5</th>\n",
              "      <th>idinf</th>\n",
              "      <th>latitude</th>\n",
              "      <th>longitude</th>\n",
              "      <th>course</th>\n",
              "      <th>...</th>\n",
              "      <th>region_272</th>\n",
              "      <th>region_273</th>\n",
              "      <th>region_274</th>\n",
              "      <th>region_275</th>\n",
              "      <th>t0</th>\n",
              "      <th>t1</th>\n",
              "      <th>t2</th>\n",
              "      <th>t3</th>\n",
              "      <th>t4</th>\n",
              "      <th>t5</th>\n",
              "    </tr>\n",
              "  </thead>\n",
              "  <tbody>\n",
              "    <tr>\n",
              "      <th>i0</th>\n",
              "      <td>1.000000</td>\n",
              "      <td>-0.020990</td>\n",
              "      <td>0.024732</td>\n",
              "      <td>-0.219155</td>\n",
              "      <td>0.025095</td>\n",
              "      <td>0.104283</td>\n",
              "      <td>0.228910</td>\n",
              "      <td>-0.058614</td>\n",
              "      <td>-0.009040</td>\n",
              "      <td>-0.018991</td>\n",
              "      <td>...</td>\n",
              "      <td>-0.002747</td>\n",
              "      <td>-0.015551</td>\n",
              "      <td>0.032488</td>\n",
              "      <td>-0.046303</td>\n",
              "      <td>0.316043</td>\n",
              "      <td>0.006800</td>\n",
              "      <td>0.153062</td>\n",
              "      <td>-0.195163</td>\n",
              "      <td>-0.063751</td>\n",
              "      <td>-0.174070</td>\n",
              "    </tr>\n",
              "    <tr>\n",
              "      <th>i1</th>\n",
              "      <td>-0.020990</td>\n",
              "      <td>1.000000</td>\n",
              "      <td>-0.186307</td>\n",
              "      <td>-0.094399</td>\n",
              "      <td>0.037056</td>\n",
              "      <td>0.082149</td>\n",
              "      <td>0.158135</td>\n",
              "      <td>0.015545</td>\n",
              "      <td>-0.067015</td>\n",
              "      <td>0.014129</td>\n",
              "      <td>...</td>\n",
              "      <td>0.043667</td>\n",
              "      <td>-0.064535</td>\n",
              "      <td>-0.008117</td>\n",
              "      <td>0.100981</td>\n",
              "      <td>0.004895</td>\n",
              "      <td>0.298977</td>\n",
              "      <td>0.131857</td>\n",
              "      <td>-0.175007</td>\n",
              "      <td>0.079233</td>\n",
              "      <td>-0.153971</td>\n",
              "    </tr>\n",
              "    <tr>\n",
              "      <th>i2</th>\n",
              "      <td>0.024732</td>\n",
              "      <td>-0.186307</td>\n",
              "      <td>1.000000</td>\n",
              "      <td>-0.081465</td>\n",
              "      <td>-0.158929</td>\n",
              "      <td>0.054840</td>\n",
              "      <td>0.227176</td>\n",
              "      <td>-0.097902</td>\n",
              "      <td>-0.131791</td>\n",
              "      <td>-0.006537</td>\n",
              "      <td>...</td>\n",
              "      <td>0.126795</td>\n",
              "      <td>0.035926</td>\n",
              "      <td>-0.162865</td>\n",
              "      <td>0.024168</td>\n",
              "      <td>0.181831</td>\n",
              "      <td>-0.116710</td>\n",
              "      <td>0.334363</td>\n",
              "      <td>-0.090298</td>\n",
              "      <td>-0.081435</td>\n",
              "      <td>0.045701</td>\n",
              "    </tr>\n",
              "    <tr>\n",
              "      <th>i3</th>\n",
              "      <td>-0.219155</td>\n",
              "      <td>-0.094399</td>\n",
              "      <td>-0.081465</td>\n",
              "      <td>1.000000</td>\n",
              "      <td>0.016541</td>\n",
              "      <td>-0.141725</td>\n",
              "      <td>-0.114738</td>\n",
              "      <td>0.051762</td>\n",
              "      <td>-0.005622</td>\n",
              "      <td>0.015517</td>\n",
              "      <td>...</td>\n",
              "      <td>-0.081423</td>\n",
              "      <td>0.058191</td>\n",
              "      <td>0.023192</td>\n",
              "      <td>-0.014549</td>\n",
              "      <td>0.138399</td>\n",
              "      <td>-0.101842</td>\n",
              "      <td>-0.330860</td>\n",
              "      <td>0.225339</td>\n",
              "      <td>-0.045580</td>\n",
              "      <td>0.127314</td>\n",
              "    </tr>\n",
              "    <tr>\n",
              "      <th>i4</th>\n",
              "      <td>0.025095</td>\n",
              "      <td>0.037056</td>\n",
              "      <td>-0.158929</td>\n",
              "      <td>0.016541</td>\n",
              "      <td>1.000000</td>\n",
              "      <td>-0.165304</td>\n",
              "      <td>-0.059656</td>\n",
              "      <td>0.038480</td>\n",
              "      <td>0.038596</td>\n",
              "      <td>0.011582</td>\n",
              "      <td>...</td>\n",
              "      <td>-0.076525</td>\n",
              "      <td>0.086119</td>\n",
              "      <td>0.016983</td>\n",
              "      <td>-0.099165</td>\n",
              "      <td>0.165749</td>\n",
              "      <td>0.112828</td>\n",
              "      <td>-0.250870</td>\n",
              "      <td>0.108135</td>\n",
              "      <td>-0.024167</td>\n",
              "      <td>-0.160554</td>\n",
              "    </tr>\n",
              "    <tr>\n",
              "      <th>i5</th>\n",
              "      <td>0.104283</td>\n",
              "      <td>0.082149</td>\n",
              "      <td>0.054840</td>\n",
              "      <td>-0.141725</td>\n",
              "      <td>-0.165304</td>\n",
              "      <td>1.000000</td>\n",
              "      <td>0.113656</td>\n",
              "      <td>-0.084847</td>\n",
              "      <td>-0.041939</td>\n",
              "      <td>-0.009270</td>\n",
              "      <td>...</td>\n",
              "      <td>0.067975</td>\n",
              "      <td>-0.005629</td>\n",
              "      <td>-0.051426</td>\n",
              "      <td>-0.022621</td>\n",
              "      <td>-0.015532</td>\n",
              "      <td>-0.018355</td>\n",
              "      <td>0.245553</td>\n",
              "      <td>-0.145640</td>\n",
              "      <td>0.139396</td>\n",
              "      <td>-0.027521</td>\n",
              "    </tr>\n",
              "    <tr>\n",
              "      <th>idinf</th>\n",
              "      <td>0.228910</td>\n",
              "      <td>0.158135</td>\n",
              "      <td>0.227176</td>\n",
              "      <td>-0.114738</td>\n",
              "      <td>-0.059656</td>\n",
              "      <td>0.113656</td>\n",
              "      <td>1.000000</td>\n",
              "      <td>-0.057347</td>\n",
              "      <td>-0.076090</td>\n",
              "      <td>0.025311</td>\n",
              "      <td>...</td>\n",
              "      <td>0.036671</td>\n",
              "      <td>-0.004858</td>\n",
              "      <td>-0.040603</td>\n",
              "      <td>0.035059</td>\n",
              "      <td>0.102508</td>\n",
              "      <td>0.305894</td>\n",
              "      <td>0.229005</td>\n",
              "      <td>-0.010096</td>\n",
              "      <td>0.219242</td>\n",
              "      <td>0.037651</td>\n",
              "    </tr>\n",
              "    <tr>\n",
              "      <th>latitude</th>\n",
              "      <td>-0.058614</td>\n",
              "      <td>0.015545</td>\n",
              "      <td>-0.097902</td>\n",
              "      <td>0.051762</td>\n",
              "      <td>0.038480</td>\n",
              "      <td>-0.084847</td>\n",
              "      <td>-0.057347</td>\n",
              "      <td>1.000000</td>\n",
              "      <td>-0.162743</td>\n",
              "      <td>-0.060175</td>\n",
              "      <td>...</td>\n",
              "      <td>-0.803326</td>\n",
              "      <td>0.248538</td>\n",
              "      <td>0.500468</td>\n",
              "      <td>0.027909</td>\n",
              "      <td>0.101820</td>\n",
              "      <td>-0.048564</td>\n",
              "      <td>-0.105520</td>\n",
              "      <td>-0.020655</td>\n",
              "      <td>-0.012851</td>\n",
              "      <td>-0.105676</td>\n",
              "    </tr>\n",
              "    <tr>\n",
              "      <th>longitude</th>\n",
              "      <td>-0.009040</td>\n",
              "      <td>-0.067015</td>\n",
              "      <td>-0.131791</td>\n",
              "      <td>-0.005622</td>\n",
              "      <td>0.038596</td>\n",
              "      <td>-0.041939</td>\n",
              "      <td>-0.076090</td>\n",
              "      <td>-0.162743</td>\n",
              "      <td>1.000000</td>\n",
              "      <td>-0.045486</td>\n",
              "      <td>...</td>\n",
              "      <td>0.366832</td>\n",
              "      <td>-0.658012</td>\n",
              "      <td>0.473024</td>\n",
              "      <td>-0.522080</td>\n",
              "      <td>-0.146286</td>\n",
              "      <td>0.020972</td>\n",
              "      <td>-0.138560</td>\n",
              "      <td>0.063279</td>\n",
              "      <td>-0.038888</td>\n",
              "      <td>0.121962</td>\n",
              "    </tr>\n",
              "    <tr>\n",
              "      <th>course</th>\n",
              "      <td>-0.018991</td>\n",
              "      <td>0.014129</td>\n",
              "      <td>-0.006537</td>\n",
              "      <td>0.015517</td>\n",
              "      <td>0.011582</td>\n",
              "      <td>-0.009270</td>\n",
              "      <td>0.025311</td>\n",
              "      <td>-0.060175</td>\n",
              "      <td>-0.045486</td>\n",
              "      <td>1.000000</td>\n",
              "      <td>...</td>\n",
              "      <td>0.039749</td>\n",
              "      <td>0.002336</td>\n",
              "      <td>-0.057242</td>\n",
              "      <td>0.056180</td>\n",
              "      <td>-0.008974</td>\n",
              "      <td>0.028133</td>\n",
              "      <td>-0.016218</td>\n",
              "      <td>0.024440</td>\n",
              "      <td>0.018329</td>\n",
              "      <td>-0.000477</td>\n",
              "    </tr>\n",
              "    <tr>\n",
              "      <th>velocity</th>\n",
              "      <td>-0.106724</td>\n",
              "      <td>-0.084598</td>\n",
              "      <td>-0.138574</td>\n",
              "      <td>0.121599</td>\n",
              "      <td>0.095671</td>\n",
              "      <td>-0.058057</td>\n",
              "      <td>-0.066099</td>\n",
              "      <td>0.026230</td>\n",
              "      <td>0.106160</td>\n",
              "      <td>0.038997</td>\n",
              "      <td>...</td>\n",
              "      <td>-0.021152</td>\n",
              "      <td>-0.025564</td>\n",
              "      <td>0.057595</td>\n",
              "      <td>-0.039118</td>\n",
              "      <td>-0.047078</td>\n",
              "      <td>0.028036</td>\n",
              "      <td>-0.202865</td>\n",
              "      <td>0.162394</td>\n",
              "      <td>-0.003313</td>\n",
              "      <td>0.105535</td>\n",
              "    </tr>\n",
              "    <tr>\n",
              "      <th>ton</th>\n",
              "      <td>-0.025816</td>\n",
              "      <td>0.094371</td>\n",
              "      <td>0.049422</td>\n",
              "      <td>-0.010168</td>\n",
              "      <td>-0.018906</td>\n",
              "      <td>0.086742</td>\n",
              "      <td>0.023615</td>\n",
              "      <td>0.011432</td>\n",
              "      <td>-0.045292</td>\n",
              "      <td>0.004232</td>\n",
              "      <td>...</td>\n",
              "      <td>-0.008450</td>\n",
              "      <td>0.019558</td>\n",
              "      <td>-0.014737</td>\n",
              "      <td>0.010255</td>\n",
              "      <td>0.023934</td>\n",
              "      <td>-0.006541</td>\n",
              "      <td>0.031085</td>\n",
              "      <td>-0.069791</td>\n",
              "      <td>0.025214</td>\n",
              "      <td>-0.009734</td>\n",
              "    </tr>\n",
              "    <tr>\n",
              "      <th>total_ton</th>\n",
              "      <td>0.050659</td>\n",
              "      <td>0.376018</td>\n",
              "      <td>0.268645</td>\n",
              "      <td>-0.056816</td>\n",
              "      <td>-0.091332</td>\n",
              "      <td>0.317351</td>\n",
              "      <td>0.245058</td>\n",
              "      <td>0.111578</td>\n",
              "      <td>-0.163207</td>\n",
              "      <td>-0.010188</td>\n",
              "      <td>...</td>\n",
              "      <td>-0.086037</td>\n",
              "      <td>0.053554</td>\n",
              "      <td>0.024479</td>\n",
              "      <td>0.010210</td>\n",
              "      <td>0.177327</td>\n",
              "      <td>0.036470</td>\n",
              "      <td>0.265274</td>\n",
              "      <td>-0.146874</td>\n",
              "      <td>0.166153</td>\n",
              "      <td>-0.082729</td>\n",
              "    </tr>\n",
              "    <tr>\n",
              "      <th>science</th>\n",
              "      <td>-0.318490</td>\n",
              "      <td>-0.280510</td>\n",
              "      <td>-0.427408</td>\n",
              "      <td>0.364458</td>\n",
              "      <td>0.261542</td>\n",
              "      <td>-0.259176</td>\n",
              "      <td>-0.230944</td>\n",
              "      <td>0.018133</td>\n",
              "      <td>0.222669</td>\n",
              "      <td>0.019544</td>\n",
              "      <td>...</td>\n",
              "      <td>-0.013862</td>\n",
              "      <td>-0.036976</td>\n",
              "      <td>0.075274</td>\n",
              "      <td>-0.081500</td>\n",
              "      <td>-0.145791</td>\n",
              "      <td>0.054951</td>\n",
              "      <td>-0.601818</td>\n",
              "      <td>0.494796</td>\n",
              "      <td>-0.080982</td>\n",
              "      <td>0.338586</td>\n",
              "    </tr>\n",
              "    <tr>\n",
              "      <th>year</th>\n",
              "      <td>0.320933</td>\n",
              "      <td>0.239865</td>\n",
              "      <td>0.372011</td>\n",
              "      <td>-0.080937</td>\n",
              "      <td>-0.066719</td>\n",
              "      <td>0.126515</td>\n",
              "      <td>0.578093</td>\n",
              "      <td>-0.100585</td>\n",
              "      <td>-0.130407</td>\n",
              "      <td>0.006188</td>\n",
              "      <td>...</td>\n",
              "      <td>0.070002</td>\n",
              "      <td>-0.016003</td>\n",
              "      <td>-0.068454</td>\n",
              "      <td>0.059394</td>\n",
              "      <td>0.181425</td>\n",
              "      <td>0.356785</td>\n",
              "      <td>0.377324</td>\n",
              "      <td>0.063079</td>\n",
              "      <td>0.188236</td>\n",
              "      <td>0.073334</td>\n",
              "    </tr>\n",
              "    <tr>\n",
              "      <th>month</th>\n",
              "      <td>-0.286465</td>\n",
              "      <td>-0.243966</td>\n",
              "      <td>-0.307333</td>\n",
              "      <td>0.287113</td>\n",
              "      <td>0.180983</td>\n",
              "      <td>-0.273296</td>\n",
              "      <td>-0.234431</td>\n",
              "      <td>0.350472</td>\n",
              "      <td>-0.191048</td>\n",
              "      <td>0.008125</td>\n",
              "      <td>...</td>\n",
              "      <td>-0.352192</td>\n",
              "      <td>0.300097</td>\n",
              "      <td>-0.021725</td>\n",
              "      <td>0.174539</td>\n",
              "      <td>-0.040538</td>\n",
              "      <td>-0.078950</td>\n",
              "      <td>-0.463204</td>\n",
              "      <td>0.249335</td>\n",
              "      <td>-0.055797</td>\n",
              "      <td>0.147143</td>\n",
              "    </tr>\n",
              "    <tr>\n",
              "      <th>day</th>\n",
              "      <td>0.037693</td>\n",
              "      <td>-0.051272</td>\n",
              "      <td>-0.127420</td>\n",
              "      <td>0.030528</td>\n",
              "      <td>0.099067</td>\n",
              "      <td>-0.108515</td>\n",
              "      <td>-0.027188</td>\n",
              "      <td>0.153680</td>\n",
              "      <td>0.043049</td>\n",
              "      <td>0.014631</td>\n",
              "      <td>...</td>\n",
              "      <td>-0.146730</td>\n",
              "      <td>-0.014224</td>\n",
              "      <td>0.131084</td>\n",
              "      <td>0.068932</td>\n",
              "      <td>-0.019500</td>\n",
              "      <td>0.003216</td>\n",
              "      <td>-0.135148</td>\n",
              "      <td>0.106370</td>\n",
              "      <td>0.049031</td>\n",
              "      <td>0.130988</td>\n",
              "    </tr>\n",
              "    <tr>\n",
              "      <th>num_of_voyage</th>\n",
              "      <td>0.289824</td>\n",
              "      <td>0.236109</td>\n",
              "      <td>0.363377</td>\n",
              "      <td>-0.075994</td>\n",
              "      <td>-0.049638</td>\n",
              "      <td>0.151169</td>\n",
              "      <td>0.573597</td>\n",
              "      <td>-0.066895</td>\n",
              "      <td>-0.188767</td>\n",
              "      <td>0.006228</td>\n",
              "      <td>...</td>\n",
              "      <td>0.044060</td>\n",
              "      <td>0.039127</td>\n",
              "      <td>-0.105579</td>\n",
              "      <td>0.080522</td>\n",
              "      <td>0.226577</td>\n",
              "      <td>0.316762</td>\n",
              "      <td>0.329165</td>\n",
              "      <td>0.034403</td>\n",
              "      <td>0.251532</td>\n",
              "      <td>0.051607</td>\n",
              "    </tr>\n",
              "    <tr>\n",
              "      <th>region_272</th>\n",
              "      <td>-0.002747</td>\n",
              "      <td>0.043667</td>\n",
              "      <td>0.126795</td>\n",
              "      <td>-0.081423</td>\n",
              "      <td>-0.076525</td>\n",
              "      <td>0.067975</td>\n",
              "      <td>0.036671</td>\n",
              "      <td>-0.803326</td>\n",
              "      <td>0.366832</td>\n",
              "      <td>0.039749</td>\n",
              "      <td>...</td>\n",
              "      <td>1.000000</td>\n",
              "      <td>-0.455457</td>\n",
              "      <td>-0.458603</td>\n",
              "      <td>-0.094723</td>\n",
              "      <td>-0.079106</td>\n",
              "      <td>-0.003383</td>\n",
              "      <td>0.062318</td>\n",
              "      <td>0.001001</td>\n",
              "      <td>-0.050417</td>\n",
              "      <td>0.112187</td>\n",
              "    </tr>\n",
              "    <tr>\n",
              "      <th>region_273</th>\n",
              "      <td>-0.015551</td>\n",
              "      <td>-0.064535</td>\n",
              "      <td>0.035926</td>\n",
              "      <td>0.058191</td>\n",
              "      <td>0.086119</td>\n",
              "      <td>-0.005629</td>\n",
              "      <td>-0.004858</td>\n",
              "      <td>0.248538</td>\n",
              "      <td>-0.658012</td>\n",
              "      <td>0.002336</td>\n",
              "      <td>...</td>\n",
              "      <td>-0.455457</td>\n",
              "      <td>1.000000</td>\n",
              "      <td>-0.534358</td>\n",
              "      <td>-0.110370</td>\n",
              "      <td>0.104352</td>\n",
              "      <td>-0.040563</td>\n",
              "      <td>0.027585</td>\n",
              "      <td>-0.031564</td>\n",
              "      <td>0.049280</td>\n",
              "      <td>-0.082807</td>\n",
              "    </tr>\n",
              "    <tr>\n",
              "      <th>region_274</th>\n",
              "      <td>0.032488</td>\n",
              "      <td>-0.008117</td>\n",
              "      <td>-0.162865</td>\n",
              "      <td>0.023192</td>\n",
              "      <td>0.016983</td>\n",
              "      <td>-0.051426</td>\n",
              "      <td>-0.040603</td>\n",
              "      <td>0.500468</td>\n",
              "      <td>0.473024</td>\n",
              "      <td>-0.057242</td>\n",
              "      <td>...</td>\n",
              "      <td>-0.458603</td>\n",
              "      <td>-0.534358</td>\n",
              "      <td>1.000000</td>\n",
              "      <td>-0.111132</td>\n",
              "      <td>-0.039065</td>\n",
              "      <td>0.035816</td>\n",
              "      <td>-0.092989</td>\n",
              "      <td>0.034464</td>\n",
              "      <td>-0.001883</td>\n",
              "      <td>-0.021075</td>\n",
              "    </tr>\n",
              "    <tr>\n",
              "      <th>region_275</th>\n",
              "      <td>-0.046303</td>\n",
              "      <td>0.100981</td>\n",
              "      <td>0.024168</td>\n",
              "      <td>-0.014549</td>\n",
              "      <td>-0.099165</td>\n",
              "      <td>-0.022621</td>\n",
              "      <td>0.035059</td>\n",
              "      <td>0.027909</td>\n",
              "      <td>-0.522080</td>\n",
              "      <td>0.056180</td>\n",
              "      <td>...</td>\n",
              "      <td>-0.094723</td>\n",
              "      <td>-0.110370</td>\n",
              "      <td>-0.111132</td>\n",
              "      <td>1.000000</td>\n",
              "      <td>0.030558</td>\n",
              "      <td>0.025280</td>\n",
              "      <td>0.021652</td>\n",
              "      <td>-0.012588</td>\n",
              "      <td>0.000722</td>\n",
              "      <td>-0.006534</td>\n",
              "    </tr>\n",
              "    <tr>\n",
              "      <th>t0</th>\n",
              "      <td>0.316043</td>\n",
              "      <td>0.004895</td>\n",
              "      <td>0.181831</td>\n",
              "      <td>0.138399</td>\n",
              "      <td>0.165749</td>\n",
              "      <td>-0.015532</td>\n",
              "      <td>0.102508</td>\n",
              "      <td>0.101820</td>\n",
              "      <td>-0.146286</td>\n",
              "      <td>-0.008974</td>\n",
              "      <td>...</td>\n",
              "      <td>-0.079106</td>\n",
              "      <td>0.104352</td>\n",
              "      <td>-0.039065</td>\n",
              "      <td>0.030558</td>\n",
              "      <td>1.000000</td>\n",
              "      <td>-0.222307</td>\n",
              "      <td>-0.303205</td>\n",
              "      <td>-0.118534</td>\n",
              "      <td>-0.092434</td>\n",
              "      <td>-0.378065</td>\n",
              "    </tr>\n",
              "    <tr>\n",
              "      <th>t1</th>\n",
              "      <td>0.006800</td>\n",
              "      <td>0.298977</td>\n",
              "      <td>-0.116710</td>\n",
              "      <td>-0.101842</td>\n",
              "      <td>0.112828</td>\n",
              "      <td>-0.018355</td>\n",
              "      <td>0.305894</td>\n",
              "      <td>-0.048564</td>\n",
              "      <td>0.020972</td>\n",
              "      <td>0.028133</td>\n",
              "      <td>...</td>\n",
              "      <td>-0.003383</td>\n",
              "      <td>-0.040563</td>\n",
              "      <td>0.035816</td>\n",
              "      <td>0.025280</td>\n",
              "      <td>-0.222307</td>\n",
              "      <td>1.000000</td>\n",
              "      <td>-0.000890</td>\n",
              "      <td>0.010158</td>\n",
              "      <td>0.298743</td>\n",
              "      <td>-0.097716</td>\n",
              "    </tr>\n",
              "    <tr>\n",
              "      <th>t2</th>\n",
              "      <td>0.153062</td>\n",
              "      <td>0.131857</td>\n",
              "      <td>0.334363</td>\n",
              "      <td>-0.330860</td>\n",
              "      <td>-0.250870</td>\n",
              "      <td>0.245553</td>\n",
              "      <td>0.229005</td>\n",
              "      <td>-0.105520</td>\n",
              "      <td>-0.138560</td>\n",
              "      <td>-0.016218</td>\n",
              "      <td>...</td>\n",
              "      <td>0.062318</td>\n",
              "      <td>0.027585</td>\n",
              "      <td>-0.092989</td>\n",
              "      <td>0.021652</td>\n",
              "      <td>-0.303205</td>\n",
              "      <td>-0.000890</td>\n",
              "      <td>1.000000</td>\n",
              "      <td>-0.252230</td>\n",
              "      <td>-0.011146</td>\n",
              "      <td>-0.058530</td>\n",
              "    </tr>\n",
              "    <tr>\n",
              "      <th>t3</th>\n",
              "      <td>-0.195163</td>\n",
              "      <td>-0.175007</td>\n",
              "      <td>-0.090298</td>\n",
              "      <td>0.225339</td>\n",
              "      <td>0.108135</td>\n",
              "      <td>-0.145640</td>\n",
              "      <td>-0.010096</td>\n",
              "      <td>-0.020655</td>\n",
              "      <td>0.063279</td>\n",
              "      <td>0.024440</td>\n",
              "      <td>...</td>\n",
              "      <td>0.001001</td>\n",
              "      <td>-0.031564</td>\n",
              "      <td>0.034464</td>\n",
              "      <td>-0.012588</td>\n",
              "      <td>-0.118534</td>\n",
              "      <td>0.010158</td>\n",
              "      <td>-0.252230</td>\n",
              "      <td>1.000000</td>\n",
              "      <td>0.228116</td>\n",
              "      <td>0.357391</td>\n",
              "    </tr>\n",
              "    <tr>\n",
              "      <th>t4</th>\n",
              "      <td>-0.063751</td>\n",
              "      <td>0.079233</td>\n",
              "      <td>-0.081435</td>\n",
              "      <td>-0.045580</td>\n",
              "      <td>-0.024167</td>\n",
              "      <td>0.139396</td>\n",
              "      <td>0.219242</td>\n",
              "      <td>-0.012851</td>\n",
              "      <td>-0.038888</td>\n",
              "      <td>0.018329</td>\n",
              "      <td>...</td>\n",
              "      <td>-0.050417</td>\n",
              "      <td>0.049280</td>\n",
              "      <td>-0.001883</td>\n",
              "      <td>0.000722</td>\n",
              "      <td>-0.092434</td>\n",
              "      <td>0.298743</td>\n",
              "      <td>-0.011146</td>\n",
              "      <td>0.228116</td>\n",
              "      <td>1.000000</td>\n",
              "      <td>-0.045882</td>\n",
              "    </tr>\n",
              "    <tr>\n",
              "      <th>t5</th>\n",
              "      <td>-0.174070</td>\n",
              "      <td>-0.153971</td>\n",
              "      <td>0.045701</td>\n",
              "      <td>0.127314</td>\n",
              "      <td>-0.160554</td>\n",
              "      <td>-0.027521</td>\n",
              "      <td>0.037651</td>\n",
              "      <td>-0.105676</td>\n",
              "      <td>0.121962</td>\n",
              "      <td>-0.000477</td>\n",
              "      <td>...</td>\n",
              "      <td>0.112187</td>\n",
              "      <td>-0.082807</td>\n",
              "      <td>-0.021075</td>\n",
              "      <td>-0.006534</td>\n",
              "      <td>-0.378065</td>\n",
              "      <td>-0.097716</td>\n",
              "      <td>-0.058530</td>\n",
              "      <td>0.357391</td>\n",
              "      <td>-0.045882</td>\n",
              "      <td>1.000000</td>\n",
              "    </tr>\n",
              "  </tbody>\n",
              "</table>\n",
              "<p>28 rows × 28 columns</p>\n",
              "</div>\n",
              "      <button class=\"colab-df-convert\" onclick=\"convertToInteractive('df-5e3f4ac8-a1d3-47a3-958c-6238a1ce456a')\"\n",
              "              title=\"Convert this dataframe to an interactive table.\"\n",
              "              style=\"display:none;\">\n",
              "        \n",
              "  <svg xmlns=\"http://www.w3.org/2000/svg\" height=\"24px\"viewBox=\"0 0 24 24\"\n",
              "       width=\"24px\">\n",
              "    <path d=\"M0 0h24v24H0V0z\" fill=\"none\"/>\n",
              "    <path d=\"M18.56 5.44l.94 2.06.94-2.06 2.06-.94-2.06-.94-.94-2.06-.94 2.06-2.06.94zm-11 1L8.5 8.5l.94-2.06 2.06-.94-2.06-.94L8.5 2.5l-.94 2.06-2.06.94zm10 10l.94 2.06.94-2.06 2.06-.94-2.06-.94-.94-2.06-.94 2.06-2.06.94z\"/><path d=\"M17.41 7.96l-1.37-1.37c-.4-.4-.92-.59-1.43-.59-.52 0-1.04.2-1.43.59L10.3 9.45l-7.72 7.72c-.78.78-.78 2.05 0 2.83L4 21.41c.39.39.9.59 1.41.59.51 0 1.02-.2 1.41-.59l7.78-7.78 2.81-2.81c.8-.78.8-2.07 0-2.86zM5.41 20L4 18.59l7.72-7.72 1.47 1.35L5.41 20z\"/>\n",
              "  </svg>\n",
              "      </button>\n",
              "      \n",
              "  <style>\n",
              "    .colab-df-container {\n",
              "      display:flex;\n",
              "      flex-wrap:wrap;\n",
              "      gap: 12px;\n",
              "    }\n",
              "\n",
              "    .colab-df-convert {\n",
              "      background-color: #E8F0FE;\n",
              "      border: none;\n",
              "      border-radius: 50%;\n",
              "      cursor: pointer;\n",
              "      display: none;\n",
              "      fill: #1967D2;\n",
              "      height: 32px;\n",
              "      padding: 0 0 0 0;\n",
              "      width: 32px;\n",
              "    }\n",
              "\n",
              "    .colab-df-convert:hover {\n",
              "      background-color: #E2EBFA;\n",
              "      box-shadow: 0px 1px 2px rgba(60, 64, 67, 0.3), 0px 1px 3px 1px rgba(60, 64, 67, 0.15);\n",
              "      fill: #174EA6;\n",
              "    }\n",
              "\n",
              "    [theme=dark] .colab-df-convert {\n",
              "      background-color: #3B4455;\n",
              "      fill: #D2E3FC;\n",
              "    }\n",
              "\n",
              "    [theme=dark] .colab-df-convert:hover {\n",
              "      background-color: #434B5C;\n",
              "      box-shadow: 0px 1px 3px 1px rgba(0, 0, 0, 0.15);\n",
              "      filter: drop-shadow(0px 1px 2px rgba(0, 0, 0, 0.3));\n",
              "      fill: #FFFFFF;\n",
              "    }\n",
              "  </style>\n",
              "\n",
              "      <script>\n",
              "        const buttonEl =\n",
              "          document.querySelector('#df-5e3f4ac8-a1d3-47a3-958c-6238a1ce456a button.colab-df-convert');\n",
              "        buttonEl.style.display =\n",
              "          google.colab.kernel.accessAllowed ? 'block' : 'none';\n",
              "\n",
              "        async function convertToInteractive(key) {\n",
              "          const element = document.querySelector('#df-5e3f4ac8-a1d3-47a3-958c-6238a1ce456a');\n",
              "          const dataTable =\n",
              "            await google.colab.kernel.invokeFunction('convertToInteractive',\n",
              "                                                     [key], {});\n",
              "          if (!dataTable) return;\n",
              "\n",
              "          const docLinkHtml = 'Like what you see? Visit the ' +\n",
              "            '<a target=\"_blank\" href=https://colab.research.google.com/notebooks/data_table.ipynb>data table notebook</a>'\n",
              "            + ' to learn more about interactive tables.';\n",
              "          element.innerHTML = '';\n",
              "          dataTable['output_type'] = 'display_data';\n",
              "          await google.colab.output.renderOutput(dataTable, element);\n",
              "          const docLink = document.createElement('div');\n",
              "          docLink.innerHTML = docLinkHtml;\n",
              "          element.appendChild(docLink);\n",
              "        }\n",
              "      </script>\n",
              "    </div>\n",
              "  </div>\n",
              "  "
            ]
          },
          "metadata": {},
          "execution_count": 98
        }
      ],
      "source": [
        "df_edit.corr()"
      ]
    },
    {
      "cell_type": "markdown",
      "metadata": {
        "id": "_SNragOHPJTs"
      },
      "source": [
        "Dacimal-normalization for new feature:"
      ]
    },
    {
      "cell_type": "code",
      "execution_count": 14,
      "metadata": {
        "id": "0l4001DaMqAe"
      },
      "outputs": [],
      "source": [
        "num_of_voyage = df_edit['num_of_voyage']\n",
        "dec = num_of_voyage.max().round(-3)\n",
        "num_of_voyage = df_edit['num_of_voyage'] / dec"
      ]
    },
    {
      "cell_type": "markdown",
      "metadata": {
        "id": "nK90xHqYd1I7"
      },
      "source": [
        "Scaling apply:"
      ]
    },
    {
      "cell_type": "code",
      "execution_count": 15,
      "metadata": {
        "id": "Pk63u-65d07C"
      },
      "outputs": [],
      "source": [
        "df_edit['num_of_voyage'] = num_of_voyage"
      ]
    },
    {
      "cell_type": "markdown",
      "metadata": {
        "id": "kEKr86XjILzD"
      },
      "source": [
        "## **Idinf (coordinate source code):**"
      ]
    },
    {
      "cell_type": "code",
      "execution_count": null,
      "metadata": {
        "colab": {
          "base_uri": "https://localhost:8080/",
          "height": 337
        },
        "id": "67O29eJkM6o9",
        "outputId": "ed6e1919-4ac5-42a6-e51e-1b6a9c618988"
      },
      "outputs": [
        {
          "data": {
            "text/plain": [
              "<matplotlib.axes._subplots.AxesSubplot at 0x7f466851ac10>"
            ]
          },
          "execution_count": 69,
          "metadata": {},
          "output_type": "execute_result"
        },
        {
          "data": {
            "image/png": "[encoded data removed]",
            "text/plain": [
              "<Figure size 576x360 with 1 Axes>"
            ]
          },
          "metadata": {},
          "output_type": "display_data"
        }
      ],
      "source": [
        "pd.Series(df_edit['idinf']).hist(bins=100, figsize=(8,5))"
      ]
    },
    {
      "cell_type": "markdown",
      "metadata": {
        "id": "VT-o9bm5QTlD"
      },
      "source": [
        "Normalization with maximum absolute scaling (min-max scaling in fact):"
      ]
    },
    {
      "cell_type": "code",
      "execution_count": 16,
      "metadata": {
        "colab": {
          "base_uri": "https://localhost:8080/"
        },
        "id": "L-vs41BsQGWE",
        "outputId": "94339fc4-fcc6-4bdf-e082-9b83f3bc9ad7"
      },
      "outputs": [
        {
          "output_type": "execute_result",
          "data": {
            "text/plain": [
              "array([0.05019305, 0.03088803, 0.05019305, ..., 0.99903475, 0.99903475,\n",
              "       0.99903475])"
            ]
          },
          "metadata": {},
          "execution_count": 16
        }
      ],
      "source": [
        "idinf = df_edit['idinf']\n",
        "idinf = idinf / idinf.abs().max()\n",
        "idinf.values"
      ]
    },
    {
      "cell_type": "markdown",
      "metadata": {
        "id": "Zd-7iy8-YkYy"
      },
      "source": [
        "Normalization apply:"
      ]
    },
    {
      "cell_type": "code",
      "execution_count": 17,
      "metadata": {
        "id": "4iZg3zSPaASn"
      },
      "outputs": [],
      "source": [
        "df_edit['idinf'] = df_edit['idinf'] / df_edit['idinf'].abs().max()"
      ]
    },
    {
      "cell_type": "markdown",
      "metadata": {
        "id": "4zAlinbYISjC"
      },
      "source": [
        "## **Latitude & longitude (*, decimal)**"
      ]
    },
    {
      "cell_type": "code",
      "execution_count": null,
      "metadata": {
        "colab": {
          "base_uri": "https://localhost:8080/",
          "height": 337
        },
        "id": "AZ2yz3MdL0mo",
        "outputId": "c420ad98-a14f-4bce-d8c7-27571c998a80"
      },
      "outputs": [
        {
          "data": {
            "text/plain": [
              "<matplotlib.legend.Legend at 0x7f76e450b760>"
            ]
          },
          "execution_count": 24,
          "metadata": {},
          "output_type": "execute_result"
        },
        {
          "data": {
            "image/png": "[encoded data removed]",
            "text/plain": [
              "<Figure size 1008x360 with 2 Axes>"
            ]
          },
          "metadata": {},
          "output_type": "display_data"
        }
      ],
      "source": [
        "plot, axis = plt.subplots(1, 2, figsize=(14,5))\n",
        "\n",
        "axis[0].hist(df_edit['latitude'],bins=100);\n",
        "axis[0].grid(visible=True)\n",
        "\n",
        "axis[1].hist(df_edit['longitude'],bins=100);\n",
        "axis[1].grid(visible=True)\n",
        "\n",
        "axis[0].legend(['latitude'], loc='upper left')\n",
        "axis[1].legend(['longitude'], loc='upper left')"
      ]
    },
    {
      "cell_type": "markdown",
      "metadata": {
        "id": "lIunI5vnK8Uf"
      },
      "source": [
        "Min-max normalization try:"
      ]
    },
    {
      "cell_type": "code",
      "execution_count": 88,
      "metadata": {
        "colab": {
          "base_uri": "https://localhost:8080/"
        },
        "id": "u0bny6wGEr_g",
        "outputId": "2bb29c5b-142f-4620-8580-bbc43f151139"
      },
      "outputs": [
        {
          "output_type": "execute_result",
          "data": {
            "text/plain": [
              "(0.0, 1.0)"
            ]
          },
          "metadata": {},
          "execution_count": 88
        }
      ],
      "source": [
        "latitude2 = (df_edit['latitude'] - df_edit['latitude'].min()) / (df_edit['latitude'].max() - df_edit['latitude'].min())\n",
        "longitude2 = (df_edit['longitude'] - df_edit['longitude'].min()) / (df_edit['longitude'].max() - df_edit['longitude'].min())\n",
        "\n",
        "latitude2.min(), latitude2.max()"
      ]
    },
    {
      "cell_type": "markdown",
      "metadata": {
        "id": "cxpu0AfqMT3A"
      },
      "source": [
        "Normalization apply:"
      ]
    },
    {
      "cell_type": "code",
      "execution_count": 18,
      "metadata": {
        "id": "qYcuNO_xaGzd"
      },
      "outputs": [],
      "source": [
        "# df_edit['latitude'] = df_edit['latitude'] / df_edit['latitude'].abs().max()\n",
        "# df_edit['longitude'] = df_edit['longitude'] / df_edit['longitude'].abs().max()\n",
        "\n",
        "df_edit['latitude'] = (df_edit['latitude'] - df_edit['latitude'].min()) / (df_edit['latitude'].max() - df_edit['latitude'].min())\n",
        "df_edit['longitude'] = (df_edit['longitude'] - df_edit['longitude'].min()) / (df_edit['longitude'].max() - df_edit['longitude'].min())"
      ]
    },
    {
      "cell_type": "markdown",
      "metadata": {
        "id": "FNPPKqeFIc_L"
      },
      "source": [
        "## **Region (fishing subzone, categorical):**"
      ]
    },
    {
      "cell_type": "code",
      "execution_count": 19,
      "metadata": {
        "colab": {
          "base_uri": "https://localhost:8080/"
        },
        "id": "HKuuuz8weEnE",
        "outputId": "fddb1e96-0ff9-4753-a7cf-210b8b9e7899"
      },
      "outputs": [
        {
          "output_type": "execute_result",
          "data": {
            "text/plain": [
              "array([274, 273, 272, 275])"
            ]
          },
          "metadata": {},
          "execution_count": 19
        }
      ],
      "source": [
        "df_edit.region.unique()"
      ]
    },
    {
      "cell_type": "code",
      "execution_count": 23,
      "metadata": {
        "id": "Vk33WSBzIchS"
      },
      "outputs": [],
      "source": [
        "df_edit = pd.get_dummies(df_edit, columns=['region'], dtype=float)"
      ]
    },
    {
      "cell_type": "markdown",
      "metadata": {
        "id": "dmAuMjJ_FuZr"
      },
      "source": [
        "## **Course (*, degs):**"
      ]
    },
    {
      "cell_type": "code",
      "execution_count": 26,
      "metadata": {
        "colab": {
          "base_uri": "https://localhost:8080/",
          "height": 337
        },
        "id": "DbiWALZUF-6t",
        "outputId": "61da3610-485e-4d67-dab8-b7b74cc33ffe"
      },
      "outputs": [
        {
          "output_type": "execute_result",
          "data": {
            "text/plain": [
              "<matplotlib.axes._subplots.AxesSubplot at 0x7f8b2d59c310>"
            ]
          },
          "metadata": {},
          "execution_count": 26
        },
        {
          "output_type": "display_data",
          "data": {
            "text/plain": [
              "<Figure size 576x360 with 1 Axes>"
            ],
            "image/png": "[encoded data removed]"
          },
          "metadata": {
            "needs_background": "light"
          }
        }
      ],
      "source": [
        "pd.Series(df_edit['course']).hist(bins=100, figsize=(8,5))"
      ]
    },
    {
      "cell_type": "code",
      "source": [
        "df_edit['course'] =  df_edit['course'] /  df_edit['course'].abs().max()"
      ],
      "metadata": {
        "id": "5eNVVlYqEnFm"
      },
      "execution_count": 24,
      "outputs": []
    },
    {
      "cell_type": "markdown",
      "metadata": {
        "id": "KzRsgHEIIn3y"
      },
      "source": [
        "## **Velocity:**"
      ]
    },
    {
      "cell_type": "code",
      "execution_count": null,
      "metadata": {
        "colab": {
          "base_uri": "https://localhost:8080/",
          "height": 337
        },
        "id": "_8yFm4etInbE",
        "outputId": "5980c34c-b267-4251-de0a-4ef1e1899592"
      },
      "outputs": [
        {
          "data": {
            "text/plain": [
              "<matplotlib.axes._subplots.AxesSubplot at 0x7ff931761700>"
            ]
          },
          "execution_count": 17,
          "metadata": {},
          "output_type": "execute_result"
        },
        {
          "data": {
            "image/png": "[encoded data removed]",
            "text/plain": [
              "<Figure size 576x360 with 1 Axes>"
            ]
          },
          "metadata": {},
          "output_type": "display_data"
        }
      ],
      "source": [
        "pd.Series(df_edit['velocity']).hist(bins=100, figsize=(8,5))"
      ]
    },
    {
      "cell_type": "markdown",
      "metadata": {
        "id": "jsuhSDiTcge6"
      },
      "source": [
        "Absolute maximum scaling:"
      ]
    },
    {
      "cell_type": "code",
      "execution_count": null,
      "metadata": {
        "colab": {
          "base_uri": "https://localhost:8080/"
        },
        "id": "IY299Dcsb0zC",
        "outputId": "e6e1387a-39c2-471e-ab3f-2ce08279d5de"
      },
      "outputs": [
        {
          "data": {
            "text/plain": [
              "(0.0, 1.0)"
            ]
          },
          "execution_count": 51,
          "metadata": {},
          "output_type": "execute_result"
        }
      ],
      "source": [
        "velocity = df_edit['velocity']\n",
        "velocity = velocity / velocity.abs().max() # == (velocity - velocity.min()) / (velocity.max() - velocity.min())\n",
        "velocity.min(), velocity.max()"
      ]
    },
    {
      "cell_type": "markdown",
      "metadata": {
        "id": "XNSHXyVabxLc"
      },
      "source": [
        "Normalization apply:"
      ]
    },
    {
      "cell_type": "code",
      "execution_count": 27,
      "metadata": {
        "id": "hjtnhBb9Ffo_"
      },
      "outputs": [],
      "source": [
        "df_edit['velocity'] = df_edit['velocity'] / df_edit['velocity'].abs().max()"
      ]
    },
    {
      "cell_type": "markdown",
      "metadata": {
        "id": "pPfKsc9JI1XL"
      },
      "source": [
        "## **Total ton ():**"
      ]
    },
    {
      "cell_type": "code",
      "execution_count": 30,
      "metadata": {
        "colab": {
          "base_uri": "https://localhost:8080/",
          "height": 337
        },
        "id": "hcNow5x5DVvU",
        "outputId": "bddfe567-0862-4d3c-f0a8-4cff76111b2f"
      },
      "outputs": [
        {
          "output_type": "execute_result",
          "data": {
            "text/plain": [
              "<matplotlib.axes._subplots.AxesSubplot at 0x7f8b2d3be580>"
            ]
          },
          "metadata": {},
          "execution_count": 30
        },
        {
          "output_type": "display_data",
          "data": {
            "text/plain": [
              "<Figure size 576x360 with 1 Axes>"
            ],
            "image/png": "[encoded data removed]"
          },
          "metadata": {
            "needs_background": "light"
          }
        }
      ],
      "source": [
        "df_edit['total_ton'].hist(bins=100, figsize=(8,5))"
      ]
    },
    {
      "cell_type": "markdown",
      "metadata": {
        "id": "wiEjEGZSmCQP"
      },
      "source": [
        "Maximum absolute scaling:"
      ]
    },
    {
      "cell_type": "code",
      "execution_count": 28,
      "metadata": {
        "colab": {
          "base_uri": "https://localhost:8080/"
        },
        "id": "hOo68IeXlc7Y",
        "outputId": "ed1423ce-6a75-401b-b6b8-9e31cd567a90"
      },
      "outputs": [
        {
          "output_type": "execute_result",
          "data": {
            "text/plain": [
              "(0.0, 1.0)"
            ]
          },
          "metadata": {},
          "execution_count": 28
        }
      ],
      "source": [
        "total_ton = df_edit['total_ton']\n",
        "total_ton = total_ton / total_ton.abs().max()\n",
        "total_ton.min(), total_ton.max()"
      ]
    },
    {
      "cell_type": "markdown",
      "metadata": {
        "id": "xWzip67Skr_B"
      },
      "source": [
        "Scaling apply:"
      ]
    },
    {
      "cell_type": "code",
      "execution_count": 29,
      "metadata": {
        "id": "ibLOZu7TJC8a"
      },
      "outputs": [],
      "source": [
        "df_edit['total_ton'] = (df_edit['total_ton'] - df_edit['total_ton'].min()) / (df_edit['total_ton'].max() - df_edit['total_ton'].min())"
      ]
    },
    {
      "cell_type": "markdown",
      "metadata": {
        "id": "2NSzbDiO0EKq"
      },
      "source": [
        "## **Idves (ship code) & trawl (fishing gear):**"
      ]
    },
    {
      "cell_type": "markdown",
      "metadata": {
        "id": "U4RV3_ecEQBH"
      },
      "source": [
        "Standartization:"
      ]
    },
    {
      "cell_type": "code",
      "execution_count": 31,
      "metadata": {
        "id": "dNOXRQ5cbvK0"
      },
      "outputs": [],
      "source": [
        "df_binary_idves = BinaryEncoder().fit_transform(df_edit['idves'], dtype=float)\n",
        "df_binary_idves.columns = ([f'i{i}' for i in range(len(df_binary_idves.columns))])\n",
        "\n",
        "df_binary_trawl = BinaryEncoder().fit_transform(df_edit['trawl'], dtype=float)\n",
        "df_binary_trawl.columns = ([f't{i}' for i in range(len(df_binary_trawl.columns))])"
      ]
    },
    {
      "cell_type": "code",
      "execution_count": 32,
      "metadata": {
        "id": "n2W1yQ7Kkyyc"
      },
      "outputs": [],
      "source": [
        "df_binary_idves[df_edit.columns] = df_edit\n",
        "df_binary_idves[df_binary_trawl.columns] = df_binary_trawl\n",
        "df_edit = df_binary_idves\n",
        "df_edit = df_edit.drop(columns=['idves', 'trawl'])"
      ]
    },
    {
      "cell_type": "markdown",
      "metadata": {
        "id": "Q_4Y6zDXHVqg"
      },
      "source": [
        "\n",
        "\n",
        "> # **X & Y samples**\n",
        "\n"
      ]
    },
    {
      "cell_type": "code",
      "execution_count": 33,
      "metadata": {
        "id": "-oJSGcuRxH3N"
      },
      "outputs": [],
      "source": [
        "pollok_df = df_edit\n",
        "pollok_df = pollok_df.drop(['date', 'datetimes'], axis=1)"
      ]
    },
    {
      "cell_type": "code",
      "execution_count": 34,
      "metadata": {
        "id": "2cHc4nsbtN_G"
      },
      "outputs": [],
      "source": [
        "train_df = pollok_df.sample(frac=0.90, random_state=seed)\n",
        "test_df = pollok_df[~pollok_df.index.isin(train_df.index)]\n",
        "\n",
        "train_main = train_df.sample(frac=0.90, random_state=seed)\n",
        "train_valid = train_df[~train_df.index.isin(train_main.index)]"
      ]
    },
    {
      "cell_type": "markdown",
      "metadata": {
        "id": "1q9MDNKPOiL2"
      },
      "source": [
        "\n",
        "\n",
        "> # **Models construct**\n",
        "\n"
      ]
    },
    {
      "cell_type": "markdown",
      "metadata": {
        "id": "QtqGQXidSAkD"
      },
      "source": [
        "## Torch"
      ]
    },
    {
      "cell_type": "code",
      "execution_count": 95,
      "metadata": {
        "id": "S9GjJ0JtLmkU"
      },
      "outputs": [],
      "source": [
        "class Catch_predictor(torch.nn.Module):\n",
        "    def __init__(self, dim, layers):                       \n",
        "        \n",
        "        super(Catch_predictor, self).__init__()                 # torch.nn.ReLU()    torch.nn.Tanh()  \n",
        "\n",
        "        self.fc1 = torch.nn.Linear(dim, layers[0])          \n",
        "        self.act1 = torch.nn.Tanh() \n",
        "        self.fc2 = torch.nn.Linear(layers[0], layers[1])     \n",
        "        self.act2 = torch.nn.Tanh() \n",
        "        self.fc3 = torch.nn.Linear(layers[1], layers[2])     \n",
        "        self.act3 = torch.nn.Tanh() \n",
        "        self.fc4 = torch.nn.Linear(layers[2], layers[3])     \n",
        "        self.act4 = torch.nn.Tanh()                         \n",
        "        self.fc5 = torch.nn.Linear(layers[3], layers[4])     \n",
        "        self.act5 = torch.nn.Tanh() \n",
        "        self.fc6 = torch.nn.Linear(layers[4], layers[5])     \n",
        "        self.act6 = torch.nn.Tanh() \n",
        "        self.fc7 = torch.nn.Linear(layers[5], 1)     \n",
        "        self.act7 = torch.nn.Sigmoid() \n",
        "\n",
        "        # self.fc8 = torch.nn.Linear(layers[6], layers[7])     \n",
        "        # self.act8 = torch.nn.ReLU()                         \n",
        "        # self.fc9 = torch.nn.Linear(layers[7], layers[8])     \n",
        "        # self.act9 = torch.nn.ReLU() \n",
        "        # self.fc10 = torch.nn.Linear(layers[8], layers[9])     \n",
        "        # self.act10 = torch.nn.ReLU() \n",
        "        # self.fc11 = torch.nn.Linear(layers[9], 1)     \n",
        "        # self.act11 = torch.nn.Sigmoid() \n",
        "\n",
        "\n",
        "    def forward(self, x):\n",
        "        \n",
        "        x = self.fc1(x)\n",
        "        x = self.act1(x)\n",
        "        x = self.fc2(x)\n",
        "        x = self.act2(x)\n",
        "        x = self.fc3(x)\n",
        "        x = self.act3(x)\n",
        "        x = self.fc4(x)\n",
        "        x = self.act4(x)\n",
        "        x = self.fc5(x)\n",
        "        x = self.act5(x)\n",
        "        x = self.fc6(x)\n",
        "        x = self.act6(x)\n",
        "        x = self.fc7(x)\n",
        "        x = self.act7(x)\n",
        "\n",
        "        # x = self.fc8(x)\n",
        "        # x = self.act8(x)\n",
        "        # x = self.fc9(x)\n",
        "        # x = self.act9(x)\n",
        "        # x = self.fc10(x)\n",
        "        # x = self.act10(x)\n",
        "        # x = self.fc11(x)\n",
        "        # x = self.act11(x)\n",
        "        \n",
        "        return x"
      ]
    },
    {
      "cell_type": "code",
      "execution_count": 75,
      "metadata": {
        "id": "Gl7tyCZeMqj1"
      },
      "outputs": [],
      "source": [
        "def MSE(pred, true):  \n",
        "    sq = (true-pred)**2    \n",
        "    return sq.mean()\n",
        "\n",
        "def RMSE(pred, true):  \n",
        "    dev = (true-pred)**2    \n",
        "    return torch.sqrt(dev.mean())"
      ]
    },
    {
      "cell_type": "markdown",
      "source": [
        "Tensor-like XY samples:"
      ],
      "metadata": {
        "id": "gb7g9bgqKz0q"
      }
    },
    {
      "cell_type": "code",
      "source": [
        "x_train = torch.tensor((train_main.drop(['ton'], axis=1).values), dtype=torch.float32)\n",
        "y_train = torch.tensor(train_main['ton'].values, dtype=torch.float32)\n",
        "\n",
        "x_valid = torch.tensor((train_valid.drop(['ton'], axis=1).values), dtype=torch.float32)\n",
        "y_valid = torch.tensor(train_valid['ton'].values, dtype=torch.float32)\n",
        "\n",
        "x_test = torch.tensor((test_df.drop(['ton'], axis=1).values), dtype=torch.float32)\n",
        "y_test = torch.tensor(test_df['ton'].values, dtype=torch.float32)\n",
        "\n",
        "print(x_train.shape, y_train.shape) \n",
        "print(x_valid.shape, y_valid.shape)\n",
        "print(x_test.shape, y_test.shape)"
      ],
      "metadata": {
        "colab": {
          "base_uri": "https://localhost:8080/"
        },
        "id": "IXR_IIflKzn7",
        "outputId": "4cdc6ba4-c0dd-4051-aa3d-d85bf941326a"
      },
      "execution_count": 54,
      "outputs": [
        {
          "output_type": "stream",
          "name": "stdout",
          "text": [
            "torch.Size([59887, 27]) torch.Size([59887])\n",
            "torch.Size([6654, 27]) torch.Size([6654])\n",
            "torch.Size([7393, 27]) torch.Size([7393])\n"
          ]
        }
      ]
    },
    {
      "cell_type": "markdown",
      "metadata": {
        "id": "KuTZDuWYrLfD"
      },
      "source": [
        "Model:"
      ]
    },
    {
      "cell_type": "code",
      "execution_count": 94,
      "metadata": {
        "colab": {
          "base_uri": "https://localhost:8080/",
          "height": 536
        },
        "id": "XGQ3k9_rrd1w",
        "outputId": "7f212a24-7365-49f0-84c2-52be37a9d634"
      },
      "outputs": [
        {
          "output_type": "stream",
          "name": "stdout",
          "text": [
            "tensor(21.9650) -0.01283 tensor(4.6867)\n",
            "tensor(21.7232) -0.00168 tensor(4.6608)\n",
            "tensor(21.7169) -0.00139 tensor(4.6601)\n",
            "tensor(21.7153) -0.00131 tensor(4.6600)\n",
            "tensor(21.7145) -0.00128 tensor(4.6599)\n",
            "tensor(21.7141) -0.00126 tensor(4.6598)\n",
            "tensor(21.7139) -0.00125 tensor(4.6598)\n",
            "tensor(21.7138) -0.00125 tensor(4.6598)\n"
          ]
        },
        {
          "output_type": "error",
          "ename": "KeyboardInterrupt",
          "evalue": "ignored",
          "traceback": [
            "\u001b[0;31m---------------------------------------------------------------------------\u001b[0m",
            "\u001b[0;31mKeyboardInterrupt\u001b[0m                         Traceback (most recent call last)",
            "\u001b[0;32m<ipython-input-94-67cbbe665387>\u001b[0m in \u001b[0;36m<module>\u001b[0;34m\u001b[0m\n\u001b[1;32m     29\u001b[0m         \u001b[0mloss_value\u001b[0m \u001b[0;34m=\u001b[0m \u001b[0mMSE\u001b[0m\u001b[0;34m(\u001b[0m\u001b[0mpreds_t\u001b[0m\u001b[0;34m,\u001b[0m \u001b[0my_batch\u001b[0m\u001b[0;34m)\u001b[0m\u001b[0;34m\u001b[0m\u001b[0;34m\u001b[0m\u001b[0m\n\u001b[1;32m     30\u001b[0m         \u001b[0;31m#print(loss_value, r2_score(y_batch.detach().numpy(), preds_t.detach().numpy()))\u001b[0m\u001b[0;34m\u001b[0m\u001b[0;34m\u001b[0m\u001b[0;34m\u001b[0m\u001b[0m\n\u001b[0;32m---> 31\u001b[0;31m         \u001b[0mloss_value\u001b[0m\u001b[0;34m.\u001b[0m\u001b[0mbackward\u001b[0m\u001b[0;34m(\u001b[0m\u001b[0;34m)\u001b[0m\u001b[0;34m\u001b[0m\u001b[0;34m\u001b[0m\u001b[0m\n\u001b[0m\u001b[1;32m     32\u001b[0m \u001b[0;34m\u001b[0m\u001b[0m\n\u001b[1;32m     33\u001b[0m         \u001b[0moptimizer\u001b[0m\u001b[0;34m.\u001b[0m\u001b[0mstep\u001b[0m\u001b[0;34m(\u001b[0m\u001b[0;34m)\u001b[0m\u001b[0;34m\u001b[0m\u001b[0;34m\u001b[0m\u001b[0m\n",
            "\u001b[0;32m/usr/local/lib/python3.8/dist-packages/torch/_tensor.py\u001b[0m in \u001b[0;36mbackward\u001b[0;34m(self, gradient, retain_graph, create_graph, inputs)\u001b[0m\n\u001b[1;32m    485\u001b[0m                 \u001b[0minputs\u001b[0m\u001b[0;34m=\u001b[0m\u001b[0minputs\u001b[0m\u001b[0;34m,\u001b[0m\u001b[0;34m\u001b[0m\u001b[0;34m\u001b[0m\u001b[0m\n\u001b[1;32m    486\u001b[0m             )\n\u001b[0;32m--> 487\u001b[0;31m         torch.autograd.backward(\n\u001b[0m\u001b[1;32m    488\u001b[0m             \u001b[0mself\u001b[0m\u001b[0;34m,\u001b[0m \u001b[0mgradient\u001b[0m\u001b[0;34m,\u001b[0m \u001b[0mretain_graph\u001b[0m\u001b[0;34m,\u001b[0m \u001b[0mcreate_graph\u001b[0m\u001b[0;34m,\u001b[0m \u001b[0minputs\u001b[0m\u001b[0;34m=\u001b[0m\u001b[0minputs\u001b[0m\u001b[0;34m\u001b[0m\u001b[0;34m\u001b[0m\u001b[0m\n\u001b[1;32m    489\u001b[0m         )\n",
            "\u001b[0;32m/usr/local/lib/python3.8/dist-packages/torch/autograd/__init__.py\u001b[0m in \u001b[0;36mbackward\u001b[0;34m(tensors, grad_tensors, retain_graph, create_graph, grad_variables, inputs)\u001b[0m\n\u001b[1;32m    195\u001b[0m     \u001b[0;31m# some Python versions print out the first line of a multi-line function\u001b[0m\u001b[0;34m\u001b[0m\u001b[0;34m\u001b[0m\u001b[0;34m\u001b[0m\u001b[0m\n\u001b[1;32m    196\u001b[0m     \u001b[0;31m# calls in the traceback and some print out the last line\u001b[0m\u001b[0;34m\u001b[0m\u001b[0;34m\u001b[0m\u001b[0;34m\u001b[0m\u001b[0m\n\u001b[0;32m--> 197\u001b[0;31m     Variable._execution_engine.run_backward(  # Calls into the C++ engine to run the backward pass\n\u001b[0m\u001b[1;32m    198\u001b[0m         \u001b[0mtensors\u001b[0m\u001b[0;34m,\u001b[0m \u001b[0mgrad_tensors_\u001b[0m\u001b[0;34m,\u001b[0m \u001b[0mretain_graph\u001b[0m\u001b[0;34m,\u001b[0m \u001b[0mcreate_graph\u001b[0m\u001b[0;34m,\u001b[0m \u001b[0minputs\u001b[0m\u001b[0;34m,\u001b[0m\u001b[0;34m\u001b[0m\u001b[0;34m\u001b[0m\u001b[0m\n\u001b[1;32m    199\u001b[0m         allow_unreachable=True, accumulate_grad=True)  # Calls into the C++ engine to run the backward pass\n",
            "\u001b[0;31mKeyboardInterrupt\u001b[0m: "
          ]
        }
      ],
      "source": [
        "layers = np.array([7, 11, 11, 11, 9, 5])# np.array([7, 11, 11, 11, 11, 11, 11, 9, 9, 5])\n",
        "Gigachad = Catch_predictor(dim=x_train.shape[1], layers=layers)\n",
        "\n",
        "optimizer = torch.optim.SGD(Gigachad.parameters(), lr=0.003)\n",
        "\n",
        "epoch = 10000\n",
        "batch_size = 512\n",
        "\n",
        "valid_RMSE_history = []\n",
        "valid_R2_history = []\n",
        "valid_loss_history = []\n",
        "\n",
        "for e in range(epoch):\n",
        "    \n",
        "    order = np.random.permutation(x_train.shape[0])\n",
        "    Gigachad.train()\n",
        "\n",
        "    for start_index in range(0, x_train.shape[0], batch_size):\n",
        "\n",
        "        optimizer.zero_grad()\n",
        "        \n",
        "\n",
        "        batch_indexes = order[start_index : start_index+batch_size]\n",
        "\n",
        "        X_batch = x_train[batch_indexes]\n",
        "        y_batch = y_train[batch_indexes]\n",
        "\n",
        "        preds_t = Gigachad.forward(X_batch)\n",
        "\n",
        "        loss_value = MSE(preds_t, y_batch)\n",
        "        #print(loss_value, r2_score(y_batch.detach().numpy(), preds_t.detach().numpy()))\n",
        "        loss_value.backward()\n",
        "\n",
        "        optimizer.step()\n",
        "        \n",
        "            \n",
        "    Gigachad.eval()\n",
        "\n",
        "    valid_preds = Gigachad.forward(x_valid)\n",
        "\n",
        "    valid_loss_history.append(MSE(valid_preds, y_valid).data.cpu())\n",
        "    valid_R2_history.append(r2_score(y_valid.detach().numpy(), valid_preds.detach().numpy()).data)\n",
        "    valid_RMSE_history.append(RMSE(valid_preds, y_valid).data.cpu())\n",
        "\n",
        "    if e%100 == 0:\n",
        "        print(MSE(valid_preds, y_valid).data, \n",
        "            r2_score(y_valid.detach().numpy(), valid_preds.detach().numpy()).round(5),\n",
        "            RMSE(valid_preds, y_valid).data)"
      ]
    },
    {
      "cell_type": "code",
      "execution_count": 96,
      "metadata": {
        "id": "7j3UzS1Hz-er",
        "colab": {
          "base_uri": "https://localhost:8080/"
        },
        "outputId": "672673c1-f03b-4d0a-f05c-24ac1d3702fb"
      },
      "outputs": [
        {
          "output_type": "stream",
          "name": "stdout",
          "text": [
            "-0.0007816914242793072\n",
            "tensor(4.3123)\n"
          ]
        }
      ],
      "source": [
        "test_pred = Gigachad.forward(x_test)\n",
        "\n",
        "print(sklearn.metrics.r2_score(y_test.detach().numpy(), test_pred.detach().numpy()))\n",
        "print(RMSE(test_pred, y_test).data)"
      ]
    },
    {
      "cell_type": "markdown",
      "metadata": {
        "id": "Cohec7HQSESS"
      },
      "source": [
        "## Keras"
      ]
    },
    {
      "cell_type": "code",
      "execution_count": 44,
      "metadata": {
        "id": "lIViToZQQdGY"
      },
      "outputs": [],
      "source": [
        "import tensorflow as tf\n",
        "from tensorflow import keras\n",
        "from keras.callbacks import LambdaCallback\n",
        "from keras import layers\n",
        "from keras import activations\n",
        "from keras import optimizers"
      ]
    },
    {
      "cell_type": "markdown",
      "metadata": {
        "id": "voSYqNz9q2eU"
      },
      "source": [
        "Array-like samples form:"
      ]
    },
    {
      "cell_type": "code",
      "execution_count": 97,
      "metadata": {
        "colab": {
          "base_uri": "https://localhost:8080/"
        },
        "id": "nO9JAF4Bq178",
        "outputId": "cdca2e2b-7917-46e6-b98f-e70191a6dc80"
      },
      "outputs": [
        {
          "output_type": "stream",
          "name": "stdout",
          "text": [
            "(59887, 27) (59887,)\n",
            "(7393, 27) (7393,)\n"
          ]
        }
      ],
      "source": [
        "x_train = np.array((train_main.drop(['ton'], axis=1).values))\n",
        "y_train = np.array(train_main['ton'].values)\n",
        "\n",
        "x_test = np.array((test_df.drop(['ton'], axis=1).values))\n",
        "y_test = np.array(test_df['ton'].values)\n",
        "\n",
        "print(x_train.shape, y_train.shape) \n",
        "print(x_test.shape, y_test.shape)"
      ]
    },
    {
      "cell_type": "markdown",
      "metadata": {
        "id": "VqlARRtdq7YL"
      },
      "source": [
        "Model:"
      ]
    },
    {
      "cell_type": "code",
      "execution_count": null,
      "metadata": {
        "colab": {
          "base_uri": "https://localhost:8080/"
        },
        "id": "t22AHdCazOYM",
        "outputId": "df799409-af8a-4fd4-bc45-626350c7e1b4"
      },
      "outputs": [
        {
          "output_type": "stream",
          "name": "stdout",
          "text": [
            "Epoch 1/100\n",
            "112/112 [==============================] - 1s 5ms/step - loss: 1.0883 - root_mean_squared_error: 4.3157 - val_loss: 1.1500 - val_root_mean_squared_error: 4.9235\n",
            "Epoch 2/100\n",
            "112/112 [==============================] - 0s 3ms/step - loss: 1.0883 - root_mean_squared_error: 4.3157 - val_loss: 1.1500 - val_root_mean_squared_error: 4.9235\n",
            "Epoch 3/100\n",
            "112/112 [==============================] - 0s 3ms/step - loss: 1.0883 - root_mean_squared_error: 4.3157 - val_loss: 1.1500 - val_root_mean_squared_error: 4.9235\n",
            "Epoch 4/100\n",
            "112/112 [==============================] - 0s 3ms/step - loss: 1.0883 - root_mean_squared_error: 4.3157 - val_loss: 1.1500 - val_root_mean_squared_error: 4.9235\n",
            "Epoch 5/100\n",
            "112/112 [==============================] - 0s 3ms/step - loss: 1.0883 - root_mean_squared_error: 4.3157 - val_loss: 1.1500 - val_root_mean_squared_error: 4.9235\n",
            "Epoch 6/100\n",
            "112/112 [==============================] - 0s 3ms/step - loss: 1.0883 - root_mean_squared_error: 4.3157 - val_loss: 1.1500 - val_root_mean_squared_error: 4.9235\n",
            "Epoch 7/100\n",
            "112/112 [==============================] - 1s 6ms/step - loss: 1.0883 - root_mean_squared_error: 4.3157 - val_loss: 1.1500 - val_root_mean_squared_error: 4.9235\n",
            "Epoch 8/100\n",
            "112/112 [==============================] - 0s 4ms/step - loss: 1.0883 - root_mean_squared_error: 4.3157 - val_loss: 1.1500 - val_root_mean_squared_error: 4.9235\n",
            "Epoch 9/100\n",
            "112/112 [==============================] - 1s 5ms/step - loss: 1.0883 - root_mean_squared_error: 4.3157 - val_loss: 1.1500 - val_root_mean_squared_error: 4.9235\n",
            "Epoch 10/100\n",
            "112/112 [==============================] - 0s 3ms/step - loss: 1.0883 - root_mean_squared_error: 4.3157 - val_loss: 1.1500 - val_root_mean_squared_error: 4.9235\n",
            "Epoch 11/100\n",
            "112/112 [==============================] - 0s 4ms/step - loss: 1.0883 - root_mean_squared_error: 4.3157 - val_loss: 1.1500 - val_root_mean_squared_error: 4.9235\n",
            "Epoch 12/100\n",
            "112/112 [==============================] - 0s 4ms/step - loss: 1.0883 - root_mean_squared_error: 4.3157 - val_loss: 1.1500 - val_root_mean_squared_error: 4.9235\n",
            "Epoch 13/100\n",
            "112/112 [==============================] - 0s 4ms/step - loss: 1.0883 - root_mean_squared_error: 4.3157 - val_loss: 1.1500 - val_root_mean_squared_error: 4.9235\n",
            "Epoch 14/100\n",
            "112/112 [==============================] - 0s 4ms/step - loss: 1.0883 - root_mean_squared_error: 4.3157 - val_loss: 1.1500 - val_root_mean_squared_error: 4.9235\n",
            "Epoch 15/100\n",
            "112/112 [==============================] - 0s 4ms/step - loss: 1.0883 - root_mean_squared_error: 4.3157 - val_loss: 1.1500 - val_root_mean_squared_error: 4.9235\n",
            "Epoch 16/100\n",
            "112/112 [==============================] - 0s 3ms/step - loss: 1.0883 - root_mean_squared_error: 4.3157 - val_loss: 1.1500 - val_root_mean_squared_error: 4.9235\n",
            "Epoch 17/100\n",
            "112/112 [==============================] - 0s 3ms/step - loss: 1.0883 - root_mean_squared_error: 4.3157 - val_loss: 1.1500 - val_root_mean_squared_error: 4.9235\n",
            "Epoch 18/100\n",
            "112/112 [==============================] - 0s 3ms/step - loss: 1.0883 - root_mean_squared_error: 4.3157 - val_loss: 1.1500 - val_root_mean_squared_error: 4.9235\n",
            "Epoch 19/100\n",
            "112/112 [==============================] - 0s 4ms/step - loss: 1.0883 - root_mean_squared_error: 4.3157 - val_loss: 1.1500 - val_root_mean_squared_error: 4.9235\n",
            "Epoch 20/100\n",
            "112/112 [==============================] - 0s 3ms/step - loss: 1.0883 - root_mean_squared_error: 4.3157 - val_loss: 1.1500 - val_root_mean_squared_error: 4.9235\n",
            "Epoch 21/100\n",
            "112/112 [==============================] - 0s 3ms/step - loss: 1.0883 - root_mean_squared_error: 4.3157 - val_loss: 1.1500 - val_root_mean_squared_error: 4.9235\n",
            "Epoch 22/100\n",
            "112/112 [==============================] - 0s 3ms/step - loss: 1.0883 - root_mean_squared_error: 4.3157 - val_loss: 1.1500 - val_root_mean_squared_error: 4.9235\n",
            "Epoch 23/100\n",
            "112/112 [==============================] - 0s 3ms/step - loss: 1.0883 - root_mean_squared_error: 4.3157 - val_loss: 1.1500 - val_root_mean_squared_error: 4.9235\n",
            "Epoch 24/100\n",
            "112/112 [==============================] - 0s 3ms/step - loss: 1.0883 - root_mean_squared_error: 4.3157 - val_loss: 1.1500 - val_root_mean_squared_error: 4.9235\n",
            "Epoch 25/100\n",
            "112/112 [==============================] - 0s 3ms/step - loss: 1.0883 - root_mean_squared_error: 4.3157 - val_loss: 1.1500 - val_root_mean_squared_error: 4.9235\n",
            "Epoch 26/100\n",
            "112/112 [==============================] - 0s 3ms/step - loss: 1.0883 - root_mean_squared_error: 4.3157 - val_loss: 1.1500 - val_root_mean_squared_error: 4.9235\n",
            "Epoch 27/100\n",
            "112/112 [==============================] - 0s 4ms/step - loss: 1.0883 - root_mean_squared_error: 4.3157 - val_loss: 1.1500 - val_root_mean_squared_error: 4.9235\n",
            "Epoch 28/100\n",
            "112/112 [==============================] - 0s 4ms/step - loss: 1.0883 - root_mean_squared_error: 4.3157 - val_loss: 1.1500 - val_root_mean_squared_error: 4.9235\n",
            "Epoch 29/100\n",
            "112/112 [==============================] - 0s 4ms/step - loss: 1.0883 - root_mean_squared_error: 4.3157 - val_loss: 1.1500 - val_root_mean_squared_error: 4.9235\n",
            "Epoch 30/100\n",
            "112/112 [==============================] - 0s 3ms/step - loss: 1.0883 - root_mean_squared_error: 4.3157 - val_loss: 1.1500 - val_root_mean_squared_error: 4.9235\n",
            "Epoch 31/100\n",
            "112/112 [==============================] - 0s 4ms/step - loss: 1.0883 - root_mean_squared_error: 4.3157 - val_loss: 1.1500 - val_root_mean_squared_error: 4.9235\n",
            "Epoch 32/100\n",
            " 50/112 [============>.................] - ETA: 0s - loss: 1.0828 - root_mean_squared_error: 4.1920"
          ]
        }
      ],
      "source": [
        "%%time\n",
        "\n",
        "model = keras.Sequential([keras.Input(shape=x_test.shape[1]), \n",
        "                          layers.Dense(7, activation=activations.tanh), \n",
        "                          layers.Dense(15, activation=activations.tanh),\n",
        "                          layers.Dense(15, activation=activations.tanh), \n",
        "                          layers.Dense(15, activation=activations.relu),\n",
        "                          layers.Dense(7, activation=activations.relu), \n",
        "                          layers.Dense(5, activation=activations.relu), \n",
        "                          layers.Dense(1, activation=activations.sigmoid)])\n",
        "\n",
        "model.compile(loss='mae', optimizer='adamax', metrics=[tf.keras.metrics.RootMeanSquaredError()])\n",
        "\n",
        "model.fit(x_train, y_train, epochs=100, validation_split=0.05, batch_size=512, verbose=1)"
      ]
    },
    {
      "cell_type": "code",
      "execution_count": 110,
      "metadata": {
        "colab": {
          "base_uri": "https://localhost:8080/"
        },
        "id": "3GlCDqk9Q0Qp",
        "outputId": "c2400f94-784a-461d-8c1f-536b057be36b"
      },
      "outputs": [
        {
          "output_type": "stream",
          "name": "stdout",
          "text": [
            "232/232 [==============================] - 0s 2ms/step\n",
            "15/15 [==============================] - 0s 2ms/step - loss: 18.5825 - root_mean_squared_error: 4.3107\n",
            "[18.582473754882812, 4.310739040374756]\n",
            "R2:  -5.5673922949583954e-05\n"
          ]
        }
      ],
      "source": [
        "preds_ker = model.predict(x_test)\n",
        "\n",
        "scores = model.evaluate(x_test, y_test, batch_size=512)\n",
        "R2_keras = r2_score(y_test, preds_ker)\n",
        "print(scores)\n",
        "print('R2: ', R2_keras)"
      ]
    },
    {
      "cell_type": "code",
      "source": [
        "print(scores)"
      ],
      "metadata": {
        "colab": {
          "base_uri": "https://localhost:8080/"
        },
        "id": "eIcpNleWfpJC",
        "outputId": "93c9a681-33e7-4d7b-815a-86c2a3df77ec"
      },
      "execution_count": 108,
      "outputs": [
        {
          "output_type": "stream",
          "name": "stdout",
          "text": [
            "[18.60041618347168, 4.312819957733154]\n"
          ]
        }
      ]
    },
    {
      "cell_type": "code",
      "execution_count": 109,
      "metadata": {
        "colab": {
          "base_uri": "https://localhost:8080/"
        },
        "id": "C2pEb_RYrqG6",
        "outputId": "8c9c05fc-d967-42cd-e412-1cffe1f4242c"
      },
      "outputs": [
        {
          "output_type": "stream",
          "name": "stdout",
          "text": [
            "R2:  -0.001021363423484356\n"
          ]
        }
      ],
      "source": [
        "R2_keras = r2_score(y_test, preds_ker)\n",
        "print('R2: ', R2_keras)"
      ]
    },
    {
      "cell_type": "markdown",
      "metadata": {
        "id": "XHs9YXdCWtWp"
      },
      "source": [
        "## RF"
      ]
    },
    {
      "cell_type": "code",
      "execution_count": 47,
      "metadata": {
        "id": "ENxAhNAA0BNM"
      },
      "outputs": [],
      "source": [
        "def RMSE_rf(pred, true):  \n",
        "    dev = (pred-true)**2    \n",
        "    return np.sqrt(dev.mean())"
      ]
    },
    {
      "cell_type": "code",
      "execution_count": 99,
      "metadata": {
        "id": "1rH7-kn9WtJi"
      },
      "outputs": [],
      "source": [
        "RF_Reg = RandomForestRegressor(n_estimators = 500) # random_state=seed\n",
        "RF_Reg.fit(x_train, y_train)\n",
        "\n",
        "preds_rf = RF_Reg.predict(x_test)"
      ]
    },
    {
      "cell_type": "code",
      "source": [
        "# n_estimators = 500\n",
        "RMSE_r = RMSE_rf(y_test, preds_rf)\n",
        "R2_RF = sklearn.metrics.r2_score(y_test, preds_rf)\n",
        "print(R2_RF, RMSE_r) "
      ],
      "metadata": {
        "colab": {
          "base_uri": "https://localhost:8080/"
        },
        "id": "rxWh9RhefQIz",
        "outputId": "f4275c12-8c09-499a-d475-a3c032891e58"
      },
      "execution_count": 100,
      "outputs": [
        {
          "output_type": "stream",
          "name": "stdout",
          "text": [
            "0.11743364202099404 4.04961134444323\n"
          ]
        }
      ]
    },
    {
      "cell_type": "code",
      "execution_count": 48,
      "metadata": {
        "id": "JVLIAn5TxLfu",
        "colab": {
          "base_uri": "https://localhost:8080/"
        },
        "outputId": "b85313e1-671a-4050-8482-d986b0e54d8c"
      },
      "outputs": [
        {
          "output_type": "stream",
          "name": "stdout",
          "text": [
            "0.10973760711903946 4.067229454584524\n"
          ]
        }
      ],
      "source": [
        "# n_estimators = 200\n",
        "RMSE_r = RMSE_rf(y_test, preds_rf)\n",
        "R2_RF = sklearn.metrics.r2_score(y_test, preds_rf)\n",
        "print(R2_RF, RMSE_r) "
      ]
    },
    {
      "cell_type": "code",
      "execution_count": 49,
      "metadata": {
        "id": "13BeZlJcnKA5",
        "colab": {
          "base_uri": "https://localhost:8080/",
          "height": 279
        },
        "outputId": "0ab0f513-be49-4afc-d8a4-2d0306504201"
      },
      "outputs": [
        {
          "output_type": "display_data",
          "data": {
            "text/plain": [
              "<Figure size 432x288 with 1 Axes>"
            ],
            "image/png": "[encoded data removed]"
          },
          "metadata": {
            "needs_background": "light"
          }
        }
      ],
      "source": [
        "plt.plot(y_test, preds_rf, 'o', c = 'b', label = 'Default distribution')\n",
        "    \n",
        "plt.ylabel('boba');  \n",
        "plt.xlabel('joka');\n",
        "    \n",
        "plt.legend(loc = 'upper right');"
      ]
    }
  ],
  "metadata": {
    "accelerator": "GPU",
    "colab": {
      "toc_visible": true,
      "provenance": [],
      "authorship_tag": "ABX9TyN7qmY9B81DbSpIR8Cxwu7N",
      "include_colab_link": true
    },
    "gpuClass": "standard",
    "kernelspec": {
      "display_name": "Python 3",
      "name": "python3"
    },
    "language_info": {
      "name": "python"
    }
  },
  "nbformat": 4,
  "nbformat_minor": 0
}